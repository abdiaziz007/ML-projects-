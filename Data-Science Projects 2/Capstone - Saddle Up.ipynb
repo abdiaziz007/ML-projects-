{
 "cells": [
  {
   "cell_type": "markdown",
   "metadata": {},
   "source": [
    "# Saddle Up! Machine Learning for Fun and Profit\n",
    "\n",
    "## A Data Science Project on Hong Kong Jockey Club Horse Races\n",
    "Author: Matthew Wilfred Ho\n",
    "\n",
    "Email: matthewwilfred@gmail.com  |  Twitter: [@Matt\\_Du\\_Jour](https://twitter.com/Matt_du_Jour) | LinkedIn: https://www.linkedin.com/in/matthewwilfred\n",
    "\n",
    "My blog on Data Science & Deep Learning: https://matthewwilfred.github.io"
   ]
  },
  {
   "cell_type": "markdown",
   "metadata": {},
   "source": [
    "The slide deck for my presentation on this project is hosted [here](http://bit.ly/2iyFvHP)."
   ]
  },
  {
   "cell_type": "markdown",
   "metadata": {},
   "source": [
    "### Problem Statement\n",
    "\n",
    "The Hong Kong Jockey Club holds nearly 700 horse races a year, with an annual total revenue per Racing Season in the tens of billions of Hong Kong dollars. In each horse race there are 12 horses that compete, and punters can bet in _Pools_ with their respective _Dividend Qualifications_: \n",
    "\n",
    "\n",
    "|**Pool Name**|**Dividend Qualification**|\n",
    "|------|------|\n",
    "|Win|1st in a race|\n",
    "|Place|1st, 2nd or 3rd in a race with 7 or more declared starters or 1st, 2nd in a race with 4, 5, 6 declared starters|\n",
    "|Quinella|1st and 2nd in either order in the race|\n",
    "|Quinella Place|Any two of the first three placed horses in any finishing order in the race|\n",
    "|Trio|1st, 2nd and 3rd in any order in the race|\n",
    "|Tierce|1st, 2nd and 3rd in correct order in the race|\n",
    "|First Four|1st, 2nd, 3rd and 4th in any order in the race. (Merged pool with Quartet)|\n",
    "|Quartet|1st, 2nd, 3rd and 4th in correct order in the race. (Merged pool with First Four)|\n",
    "\n",
    "There is evident monetary value to be gained if a predictive model could be built that reliably predicted race outcomes. We can use a recent example drawn from the Hong Kong Jockey Club website to illustrate the Win and Place odds:\n",
    "\n",
    "<img src=\"assets/hkraces/Racing odds example.png\" />"
   ]
  },
  {
   "cell_type": "markdown",
   "metadata": {},
   "source": [
    "We can use the winning odds to calculate the expected value of spread betting on all 12 horses in equal amounts. Assuming we start off with $100:"
   ]
  },
  {
   "cell_type": "code",
   "execution_count": 361,
   "metadata": {
    "collapsed": false
   },
   "outputs": [
    {
     "name": "stdout",
     "output_type": "stream",
     "text": [
      "The expected value of equally spread betting on all 12 horses $100 is -58.54\n"
     ]
    }
   ],
   "source": [
    "from __future__ import division\n",
    "\n",
    "win_odds = [9.9,10,18,8,2.7,33,6.1,27,13,33,20,11]\n",
    "bet_sum = 100\n",
    "expected_returns = []\n",
    "\n",
    "# Equally spread bets\n",
    "for i in win_odds:\n",
    "    result = 0\n",
    "    result += i * bet_sum/len(win_odds)\n",
    "    result -= bet_sum * (len(win_odds) - 1)/len(win_odds)\n",
    "    expected_returns.append(result)\n",
    "    \n",
    "expected_gain_loss = sum(expected_returns)/len(expected_returns) - bet_sum\n",
    "print \"The expected value of equally spread betting on all 12 horses $100 is\", round(expected_gain_loss,2)"
   ]
  },
  {
   "cell_type": "code",
   "execution_count": 362,
   "metadata": {
    "collapsed": false
   },
   "outputs": [
    {
     "name": "stdout",
     "output_type": "stream",
     "text": [
      "The sum of the reciprocal of odds for all horses gives us an implied probability of 1.23 which exceeds 1.0. The house always wins!\n"
     ]
    }
   ],
   "source": [
    "sum_of_probabilities = [1/i for i in win_odds]\n",
    "print \"The sum of the reciprocal of odds for all horses gives us an implied probability of\",round(sum(sum_of_probabilities),2), \"which exceeds 1.0. The house always wins!\""
   ]
  },
  {
   "cell_type": "markdown",
   "metadata": {},
   "source": [
    "This result shows the bookies having a betting margin of 23% for this particular race! This is a very high value, considering that for football gambling, margins are usually well below 10% - the most competitive offers can even be around 2%. If this race is any indication, gambling with HKJC is clearly a bad idea is you don't know what you're doing. This may have something to do with the legal monopoly granted by the Hong Kong government to the Jockey Club - it has no legal competitors to drive down the margins.\n",
    "\n",
    "Of course, the above scenario only reflects the absolute worst case. A reasonable base case would be not betting at all, so the expected value becomes zero instead. Given that this is not the case as evidenced by the huge sums of money that go into the coffers of HKJC every year from horse racing betting alone, most punters presumably believe they have a mental model that can beat the bookies. Examples of such strategies can be:\n",
    "\n",
    "- Picking a favourite horse\n",
    "- Picking a favourite jockey\n",
    "- Picking a favourite trainer\n",
    "- Following tips from betting sites\n",
    "\n",
    "There are as many potential strategies as one can imagine, but not all of them make money for the bettors over time. This segues nicely into the problem statement for this project: **Is it possible to consistently make money off betting on Hong Kong Jockey Club horse races?**"
   ]
  },
  {
   "cell_type": "markdown",
   "metadata": {},
   "source": [
    "### Goals\n",
    "\n",
    "For the purposes of this project, we will try to build a Machine Learning model to predict one target variable: __Win / Loss__. Our payoff will then be calculated using the Win odds. \n",
    "\n",
    "Our goal here is then to **build a predictive model that, over many races, predicts Hong Kong Jockey Club horse race wins accurately enough to allow a bettor to make money in the long run**.\n",
    "\n",
    "We can further break this down into sub-goals:\n",
    "\n",
    "- Obtain a dataset that contains sufficient features about HKJC races and competing horses to build predictive models\n",
    "- Perform Exploratory Data Analysis to gain insight into the underlying structure of the data that may then aid in feature engineering and model specification\n",
    "- Train and test different models to come up with the best through experimentation with techniques like Grid Search and Cross Validation, then evaluated using metrics such as Accuracy score, Precision/Recall, ROC AUC score\n",
    "- Apply the best model on a test set to make a set of predictions\n",
    "- Sum over all the payoffs using the predicted wins and losses, then calculate the hypothetical payoff to see if the overall value is positive\n",
    "\n",
    "If the model can be shown to successfully predict wins on the given dataset, a natural follow-up to the project would be to test it on real races; it would also make sense to extend the project to building models for predictions in the other pools such as Place, Quinella, Quinella Place etc. but these are stretch goals for another time.\n",
    "\n",
    "### Success Criteria\n",
    "\n",
    "We will measure success for this project by comparing a hypothetical initial pot of money with the final amount we end up from betting gains/losses using our model's predictions on the test set. Any sum in the positive would be a success, though of course more is better, which can be quantified using percentage gained (or lost).\n",
    "\n",
    "### Potential Audience\n",
    "\n",
    "If we do end up building a predictive model that works, it would be of interest to:\n",
    "\n",
    "- **Bettors**. Anyone who bets in these races would be interested in a consistent way to win against the house. A reasonable business case can be made off providing betting tips for a subscription fee, or setting up a website provided such tips and deriving advertising revenue.\n",
    "- **Bookies**. In this case this would be the Hong Kong Jockey Club. As noted in the problem statement, the HKJC derives huge revenue streams from horse race betting on the order on tens of billions in HKD. If a consistent way to beat their odds were to be discovered and (potentially) widely disseminated, they could stand to lose significant amounts of money. They would have to adjust their internal models for calculating odds to maintain their house advantage.\n",
    "- **Horse owners, jockeys and trainers**. Predictive models and EDA can shine a light on what features contribute the most to the accuracy of predictions, which in this case would mean the factors that make a horse a winner. If new insights can be uncovered from the modelling process and EDA, then horse owners, jockeys and trainers might be able to adapt their approaches to breeding, rearing and training horses to maximise their chances of creating a winner."
   ]
  },
  {
   "cell_type": "code",
   "execution_count": 363,
   "metadata": {
    "collapsed": false
   },
   "outputs": [],
   "source": [
    "import numpy as np\n",
    "import pandas as pd\n",
    "import matplotlib.pyplot as plt\n",
    "import seaborn as sns\n",
    "from imblearn.over_sampling import RandomOverSampler\n",
    "from __future__ import division\n",
    "%matplotlib inline"
   ]
  },
  {
   "cell_type": "markdown",
   "metadata": {},
   "source": [
    "## Data Munging and Exploratory Data Analysis"
   ]
  },
  {
   "cell_type": "markdown",
   "metadata": {},
   "source": [
    "The dataset consists of two CSV files obtained from [Kaggle as contributed by Graham Daley](https://www.kaggle.com/gdaley/hkracing): __races.csv__ which contains information on horse races in a time period between 1997 and 2006 covering 6000+ races in total, including columns on race type, race track conditions and results of the race (winner, finish time, dividends etc.). The other file __runs.csv__ contains information on each horse which competed in those very same races, with a column `race_id` which we will merge the two tables on after data munging."
   ]
  },
  {
   "cell_type": "markdown",
   "metadata": {},
   "source": [
    "## Race dataset"
   ]
  },
  {
   "cell_type": "code",
   "execution_count": 364,
   "metadata": {
    "collapsed": false
   },
   "outputs": [],
   "source": [
    "df_races = pd.read_csv(\"assets/hkraces/races.csv\")\n",
    "pd.set_option('max_columns', len(df_races.columns))"
   ]
  },
  {
   "cell_type": "code",
   "execution_count": 365,
   "metadata": {
    "collapsed": false,
    "scrolled": true
   },
   "outputs": [
    {
     "name": "stdout",
     "output_type": "stream",
     "text": [
      "(6349, 37)\n"
     ]
    },
    {
     "data": {
      "text/html": [
       "<div>\n",
       "<table border=\"1\" class=\"dataframe\">\n",
       "  <thead>\n",
       "    <tr style=\"text-align: right;\">\n",
       "      <th></th>\n",
       "      <th>race_id</th>\n",
       "      <th>date</th>\n",
       "      <th>venue</th>\n",
       "      <th>race_no</th>\n",
       "      <th>config</th>\n",
       "      <th>surface</th>\n",
       "      <th>distance</th>\n",
       "      <th>going</th>\n",
       "      <th>horse_ratings</th>\n",
       "      <th>prize</th>\n",
       "      <th>race_class</th>\n",
       "      <th>sec_time1</th>\n",
       "      <th>sec_time2</th>\n",
       "      <th>sec_time3</th>\n",
       "      <th>sec_time4</th>\n",
       "      <th>sec_time5</th>\n",
       "      <th>sec_time6</th>\n",
       "      <th>sec_time7</th>\n",
       "      <th>time1</th>\n",
       "      <th>time2</th>\n",
       "      <th>time3</th>\n",
       "      <th>time4</th>\n",
       "      <th>time5</th>\n",
       "      <th>time6</th>\n",
       "      <th>time7</th>\n",
       "      <th>place_combination1</th>\n",
       "      <th>place_combination2</th>\n",
       "      <th>place_combination3</th>\n",
       "      <th>place_combination4</th>\n",
       "      <th>place_dividend1</th>\n",
       "      <th>place_dividend2</th>\n",
       "      <th>place_dividend3</th>\n",
       "      <th>place_dividend4</th>\n",
       "      <th>win_combination1</th>\n",
       "      <th>win_dividend1</th>\n",
       "      <th>win_combination2</th>\n",
       "      <th>win_dividend2</th>\n",
       "    </tr>\n",
       "  </thead>\n",
       "  <tbody>\n",
       "    <tr>\n",
       "      <th>0</th>\n",
       "      <td>0</td>\n",
       "      <td>1997-06-02</td>\n",
       "      <td>ST</td>\n",
       "      <td>1</td>\n",
       "      <td>A</td>\n",
       "      <td>0</td>\n",
       "      <td>1400</td>\n",
       "      <td>GOOD TO FIRM</td>\n",
       "      <td>40-15</td>\n",
       "      <td>485000.0</td>\n",
       "      <td>5</td>\n",
       "      <td>13.53</td>\n",
       "      <td>21.59</td>\n",
       "      <td>23.94</td>\n",
       "      <td>23.58</td>\n",
       "      <td>NaN</td>\n",
       "      <td>NaN</td>\n",
       "      <td>NaN</td>\n",
       "      <td>13.53</td>\n",
       "      <td>35.12</td>\n",
       "      <td>59.06</td>\n",
       "      <td>82.64</td>\n",
       "      <td>NaN</td>\n",
       "      <td>NaN</td>\n",
       "      <td>NaN</td>\n",
       "      <td>8</td>\n",
       "      <td>11</td>\n",
       "      <td>6.0</td>\n",
       "      <td>NaN</td>\n",
       "      <td>36.5</td>\n",
       "      <td>25.5</td>\n",
       "      <td>18.0</td>\n",
       "      <td>NaN</td>\n",
       "      <td>8</td>\n",
       "      <td>121.0</td>\n",
       "      <td>NaN</td>\n",
       "      <td>NaN</td>\n",
       "    </tr>\n",
       "    <tr>\n",
       "      <th>1</th>\n",
       "      <td>1</td>\n",
       "      <td>1997-06-02</td>\n",
       "      <td>ST</td>\n",
       "      <td>2</td>\n",
       "      <td>A</td>\n",
       "      <td>0</td>\n",
       "      <td>1200</td>\n",
       "      <td>GOOD TO FIRM</td>\n",
       "      <td>40-15</td>\n",
       "      <td>485000.0</td>\n",
       "      <td>5</td>\n",
       "      <td>24.05</td>\n",
       "      <td>22.64</td>\n",
       "      <td>23.70</td>\n",
       "      <td>NaN</td>\n",
       "      <td>NaN</td>\n",
       "      <td>NaN</td>\n",
       "      <td>NaN</td>\n",
       "      <td>24.05</td>\n",
       "      <td>46.69</td>\n",
       "      <td>70.39</td>\n",
       "      <td>NaN</td>\n",
       "      <td>NaN</td>\n",
       "      <td>NaN</td>\n",
       "      <td>NaN</td>\n",
       "      <td>5</td>\n",
       "      <td>13</td>\n",
       "      <td>4.0</td>\n",
       "      <td>NaN</td>\n",
       "      <td>12.5</td>\n",
       "      <td>47.0</td>\n",
       "      <td>33.5</td>\n",
       "      <td>NaN</td>\n",
       "      <td>5</td>\n",
       "      <td>23.5</td>\n",
       "      <td>NaN</td>\n",
       "      <td>NaN</td>\n",
       "    </tr>\n",
       "  </tbody>\n",
       "</table>\n",
       "</div>"
      ],
      "text/plain": [
       "   race_id        date venue  race_no config  surface  distance         going  \\\n",
       "0        0  1997-06-02    ST        1      A        0      1400  GOOD TO FIRM   \n",
       "1        1  1997-06-02    ST        2      A        0      1200  GOOD TO FIRM   \n",
       "\n",
       "  horse_ratings     prize race_class  sec_time1  sec_time2  sec_time3  \\\n",
       "0         40-15  485000.0          5      13.53      21.59      23.94   \n",
       "1         40-15  485000.0          5      24.05      22.64      23.70   \n",
       "\n",
       "   sec_time4  sec_time5  sec_time6  sec_time7  time1  time2  time3  time4  \\\n",
       "0      23.58        NaN        NaN        NaN  13.53  35.12  59.06  82.64   \n",
       "1        NaN        NaN        NaN        NaN  24.05  46.69  70.39    NaN   \n",
       "\n",
       "   time5  time6  time7  place_combination1  place_combination2  \\\n",
       "0    NaN    NaN    NaN                   8                  11   \n",
       "1    NaN    NaN    NaN                   5                  13   \n",
       "\n",
       "   place_combination3  place_combination4  place_dividend1  place_dividend2  \\\n",
       "0                 6.0                 NaN             36.5             25.5   \n",
       "1                 4.0                 NaN             12.5             47.0   \n",
       "\n",
       "   place_dividend3  place_dividend4  win_combination1  win_dividend1  \\\n",
       "0             18.0              NaN                 8          121.0   \n",
       "1             33.5              NaN                 5           23.5   \n",
       "\n",
       "   win_combination2  win_dividend2  \n",
       "0               NaN            NaN  \n",
       "1               NaN            NaN  "
      ]
     },
     "execution_count": 365,
     "metadata": {},
     "output_type": "execute_result"
    }
   ],
   "source": [
    "print df_races.shape\n",
    "df_races.head(2)"
   ]
  },
  {
   "cell_type": "markdown",
   "metadata": {},
   "source": [
    "We have data from 6349 races. Let's look at what columns we have to determine which to keep, and what feature engineering needs to be done:"
   ]
  },
  {
   "cell_type": "code",
   "execution_count": 366,
   "metadata": {
    "collapsed": false,
    "scrolled": true
   },
   "outputs": [
    {
     "name": "stdout",
     "output_type": "stream",
     "text": [
      "<class 'pandas.core.frame.DataFrame'>\n",
      "RangeIndex: 6349 entries, 0 to 6348\n",
      "Data columns (total 37 columns):\n",
      "race_id               6349 non-null int64\n",
      "date                  6349 non-null object\n",
      "venue                 6349 non-null object\n",
      "race_no               6349 non-null int64\n",
      "config                6349 non-null object\n",
      "surface               6349 non-null int64\n",
      "distance              6349 non-null int64\n",
      "going                 6349 non-null object\n",
      "horse_ratings         6349 non-null object\n",
      "prize                 5887 non-null float64\n",
      "race_class            6349 non-null object\n",
      "sec_time1             6349 non-null float64\n",
      "sec_time2             6349 non-null float64\n",
      "sec_time3             6349 non-null float64\n",
      "sec_time4             3634 non-null float64\n",
      "sec_time5             821 non-null float64\n",
      "sec_time6             115 non-null float64\n",
      "sec_time7             0 non-null float64\n",
      "time1                 6349 non-null float64\n",
      "time2                 6349 non-null float64\n",
      "time3                 6349 non-null float64\n",
      "time4                 3634 non-null float64\n",
      "time5                 821 non-null float64\n",
      "time6                 115 non-null float64\n",
      "time7                 0 non-null float64\n",
      "place_combination1    6349 non-null int64\n",
      "place_combination2    6349 non-null int64\n",
      "place_combination3    6324 non-null float64\n",
      "place_combination4    23 non-null float64\n",
      "place_dividend1       6349 non-null float64\n",
      "place_dividend2       6349 non-null float64\n",
      "place_dividend3       6324 non-null float64\n",
      "place_dividend4       23 non-null float64\n",
      "win_combination1      6349 non-null int64\n",
      "win_dividend1         6349 non-null float64\n",
      "win_combination2      12 non-null float64\n",
      "win_dividend2         12 non-null float64\n",
      "dtypes: float64(24), int64(7), object(6)\n",
      "memory usage: 1.8+ MB\n"
     ]
    }
   ],
   "source": [
    "df_races.info()"
   ]
  },
  {
   "cell_type": "markdown",
   "metadata": {},
   "source": [
    "Converting to datetime and creating year, month and day columns:"
   ]
  },
  {
   "cell_type": "code",
   "execution_count": 367,
   "metadata": {
    "collapsed": false
   },
   "outputs": [],
   "source": [
    "df_races.date = pd.to_datetime(df_races.date)\n",
    "df_races['year'] = df_races['date'].apply(lambda x: x.year)\n",
    "df_races['month'] = df_races['date'].apply(lambda x: x.month)\n",
    "df_races['day'] = df_races['date'].apply(lambda x: x.day)"
   ]
  },
  {
   "cell_type": "code",
   "execution_count": 368,
   "metadata": {
    "collapsed": false
   },
   "outputs": [
    {
     "name": "stdout",
     "output_type": "stream",
     "text": [
      "1997-06-02 00:00:00\n",
      "2005-08-28 00:00:00\n"
     ]
    }
   ],
   "source": [
    "print min(df_races.date)\n",
    "print max(df_races.date)"
   ]
  },
  {
   "cell_type": "code",
   "execution_count": 369,
   "metadata": {
    "collapsed": false
   },
   "outputs": [
    {
     "data": {
      "image/png": "[encoded data removed]",
      "text/plain": [
       "<matplotlib.figure.Figure at 0x138ff6dd0>"
      ]
     },
     "metadata": {},
     "output_type": "display_data"
    }
   ],
   "source": [
    "plt.hist(df_races.year,bins=9,range=(1997,2006))\n",
    "plt.title(\"Number of races per year from 2/6/97 to 28/8/05\")\n",
    "plt.ylabel(\"Number of races\")\n",
    "plt.xlabel(\"Year\")\n",
    "plt.xticks([i+0.5 for i in range(1997,2006,1)],range(1997,2006,1))\n",
    "plt.show()"
   ]
  },
  {
   "cell_type": "markdown",
   "metadata": {},
   "source": [
    "We see a fairly consistent number of races every year, apart from in 1997 and 2006 where our dataset terminates with only partial records. Looking at dividends paid out for wins:"
   ]
  },
  {
   "cell_type": "code",
   "execution_count": 370,
   "metadata": {
    "collapsed": false
   },
   "outputs": [
    {
     "data": {
      "text/plain": [
       "count    6349.000000\n",
       "mean       96.096944\n",
       "std       131.221259\n",
       "min        10.500000\n",
       "25%        34.500000\n",
       "50%        58.500000\n",
       "75%       105.500000\n",
       "max      2687.500000\n",
       "Name: win_dividend1, dtype: float64"
      ]
     },
     "execution_count": 370,
     "metadata": {},
     "output_type": "execute_result"
    }
   ],
   "source": [
    "df_races.describe()[\"win_dividend1\"]"
   ]
  },
  {
   "cell_type": "code",
   "execution_count": 371,
   "metadata": {
    "collapsed": false
   },
   "outputs": [
    {
     "data": {
      "text/plain": [
       "<matplotlib.text.Text at 0x13ce534d0>"
      ]
     },
     "execution_count": 371,
     "metadata": {},
     "output_type": "execute_result"
    },
    {
     "data": {
      "image/png": "[encoded data removed]",
      "text/plain": [
       "<matplotlib.figure.Figure at 0x13ce72b50>"
      ]
     },
     "metadata": {},
     "output_type": "display_data"
    }
   ],
   "source": [
    "df_races.win_dividend1.plot(kind='box')\n",
    "plt.title(\"Win dividends\")\n",
    "plt.ylim(0,250)\n",
    "plt.ylabel(\"HKD\")"
   ]
  },
  {
   "cell_type": "markdown",
   "metadata": {},
   "source": [
    "We now look at venue, race track configuration, and track conditions, then get dummies afterwards:"
   ]
  },
  {
   "cell_type": "code",
   "execution_count": 372,
   "metadata": {
    "collapsed": false
   },
   "outputs": [
    {
     "data": {
      "image/png": "[encoded data removed]",
      "text/plain": [
       "<matplotlib.figure.Figure at 0x1384936d0>"
      ]
     },
     "metadata": {},
     "output_type": "display_data"
    }
   ],
   "source": [
    "df_races[df_races['venue']==\"HV\"].groupby(['year'], axis=0).count()['race_id'].plot()\n",
    "df_races[df_races['venue']==\"ST\"].groupby(['year'], axis=0).count()['race_id'].plot()\n",
    "plt.xticks(range(1997,2006,1),range(1997,2006,1))\n",
    "plt.legend([\"Happy Valley\",\"Shatin\"], loc='best')\n",
    "plt.title(\"Race location\")\n",
    "plt.ylabel(\"Number of races\")\n",
    "plt.show()"
   ]
  },
  {
   "cell_type": "code",
   "execution_count": 373,
   "metadata": {
    "collapsed": false
   },
   "outputs": [],
   "source": [
    "df_races = pd.concat([df_races, pd.get_dummies(df_races['venue'], drop_first=True)], axis=1)\n",
    "df_races.drop('venue', axis=1, inplace=True)"
   ]
  },
  {
   "cell_type": "code",
   "execution_count": 374,
   "metadata": {
    "collapsed": false
   },
   "outputs": [
    {
     "data": {
      "image/png": "[encoded data removed]",
      "text/plain": [
       "<matplotlib.figure.Figure at 0x13ccf4b10>"
      ]
     },
     "metadata": {},
     "output_type": "display_data"
    }
   ],
   "source": [
    "for i in set(df_races.config):\n",
    "    df_races[df_races['config']==i].groupby(['year'], axis=0).count()['race_id'].plot()\n",
    "plt.xticks(range(1997,2006,1),range(1997,2006,1))\n",
    "plt.legend(set(df_races.config), loc='best')\n",
    "plt.title(\"Track configuration\")\n",
    "plt.ylabel(\"Number of races\")\n",
    "plt.show()"
   ]
  },
  {
   "cell_type": "code",
   "execution_count": 375,
   "metadata": {
    "collapsed": false
   },
   "outputs": [],
   "source": [
    "df_races = pd.concat([df_races, pd.get_dummies(df_races['config'], drop_first=True, prefix='config')], axis=1)\n",
    "df_races.drop('config', axis=1, inplace=True)"
   ]
  },
  {
   "cell_type": "code",
   "execution_count": 376,
   "metadata": {
    "collapsed": false
   },
   "outputs": [
    {
     "data": {
      "image/png": "[encoded data removed]",
      "text/plain": [
       "<matplotlib.figure.Figure at 0x13cd7bcd0>"
      ]
     },
     "metadata": {},
     "output_type": "display_data"
    }
   ],
   "source": [
    "for i in set(df_races.going):\n",
    "    df_races[df_races['going']==i].groupby(['year'], axis=0).count()['race_id'].plot()\n",
    "plt.xticks(range(1997,2006,1),range(1997,2006,1))\n",
    "plt.legend(set(df_races.going), loc='best')\n",
    "plt.title(\"Track conditions\")\n",
    "plt.ylabel(\"Number of races\")\n",
    "plt.show()"
   ]
  },
  {
   "cell_type": "code",
   "execution_count": 377,
   "metadata": {
    "collapsed": false
   },
   "outputs": [],
   "source": [
    "df_races = pd.concat([df_races, pd.get_dummies(df_races['going'], drop_first=True)], axis=1)\n",
    "df_races.drop('going', axis=1, inplace=True)"
   ]
  },
  {
   "cell_type": "markdown",
   "metadata": {},
   "source": [
    "Horse ratings is evidently quite informative, but it is dropped for the time being since it is encoded in a difficult to interpret format. The next iteration of the project can potentially include this feature after appropriate cleaning:"
   ]
  },
  {
   "cell_type": "code",
   "execution_count": 378,
   "metadata": {
    "collapsed": false
   },
   "outputs": [],
   "source": [
    "df_races.drop('horse_ratings', axis=1, inplace=True)"
   ]
  },
  {
   "cell_type": "markdown",
   "metadata": {},
   "source": [
    "We then look at race classes:"
   ]
  },
  {
   "cell_type": "code",
   "execution_count": 379,
   "metadata": {
    "collapsed": false
   },
   "outputs": [],
   "source": [
    "def encode_class(x):\n",
    "    x = str(x)\n",
    "    if \"1\" in x or \"One\" in x:\n",
    "        return 1\n",
    "    elif \"2\" in x or \"Two\" in x:\n",
    "        return 2\n",
    "    elif \"3\" in x or \"Three\" in x:\n",
    "        return 3\n",
    "    elif \"4\" in x or \"Four\" in x:\n",
    "        return 4\n",
    "    elif \"5\" in x or \"Five\" in x:\n",
    "        return 5\n",
    "    else:\n",
    "        return 0\n",
    "    \n",
    "df_races['racing_class'] = df_races['race_class'].apply(encode_class)"
   ]
  },
  {
   "cell_type": "code",
   "execution_count": 380,
   "metadata": {
    "collapsed": false
   },
   "outputs": [
    {
     "data": {
      "image/png": "[encoded data removed]",
      "text/plain": [
       "<matplotlib.figure.Figure at 0x13cd7bd10>"
      ]
     },
     "metadata": {},
     "output_type": "display_data"
    }
   ],
   "source": [
    "plt.hist(df_races.racing_class, bins=6, range=[0,6])\n",
    "plt.title(\"Race Class breakdown\")\n",
    "plt.ylabel(\"Number of races\")\n",
    "plt.xlabel(\"Race Class\")\n",
    "plt.xticks([i+0.5 for i in range(0,6,1)], range(0,6,1))\n",
    "plt.show()"
   ]
  },
  {
   "cell_type": "code",
   "execution_count": 381,
   "metadata": {
    "collapsed": true
   },
   "outputs": [],
   "source": [
    "def encode_restrict(x):\n",
    "    x = str(x)\n",
    "    if \"Restricted\" in x:\n",
    "        return 1\n",
    "    else:\n",
    "        return 0\n",
    "\n",
    "def encode_bonus(x):\n",
    "    x = str(x)\n",
    "    if \"Bonus\" in x:\n",
    "        return 1\n",
    "    else:\n",
    "        return 0\n",
    "    \n",
    "df_races['restricted_race'] = df_races['race_class'].apply(encode_restrict)\n",
    "df_races['bonus_race'] = df_races['race_class'].apply(encode_bonus)\n",
    "df_races.drop('race_class', axis=1, inplace=True)"
   ]
  },
  {
   "cell_type": "markdown",
   "metadata": {},
   "source": [
    "Prize money is missing for all races in the period between 20/7/1997 and 18/3/1998 inclusive:"
   ]
  },
  {
   "cell_type": "code",
   "execution_count": 382,
   "metadata": {
    "collapsed": false,
    "scrolled": false
   },
   "outputs": [
    {
     "name": "stdout",
     "output_type": "stream",
     "text": [
      "1997-07-20 00:00:00\n",
      "1998-03-18 00:00:00\n"
     ]
    }
   ],
   "source": [
    "print df_races[df_races.prize.isnull()].date.iloc[0]\n",
    "print df_races[df_races.prize.isnull()].date.iloc[-1]"
   ]
  },
  {
   "cell_type": "code",
   "execution_count": 383,
   "metadata": {
    "collapsed": false,
    "scrolled": true
   },
   "outputs": [
    {
     "data": {
      "image/png": "[encoded data removed]",
      "text/plain": [
       "<matplotlib.figure.Figure at 0x13cba33d0>"
      ]
     },
     "metadata": {},
     "output_type": "display_data"
    }
   ],
   "source": [
    "diffy = df_races.copy()\n",
    "diffy.loc[diffy.prize.isnull(),'prize'] = 0\n",
    "plt.plot(diffy.date, diffy.prize)\n",
    "plt.title(\"Seasonality in prizes\")\n",
    "plt.xlabel(\"Year\")\n",
    "plt.ylabel(\"Prize in $10m HKD\")\n",
    "plt.show()"
   ]
  },
  {
   "cell_type": "code",
   "execution_count": 384,
   "metadata": {
    "collapsed": true
   },
   "outputs": [],
   "source": [
    "df_races.drop('date', axis=1, inplace=True)"
   ]
  },
  {
   "cell_type": "markdown",
   "metadata": {},
   "source": [
    "The following columns are dropped because they are not features to be input into the model; in fact most of them can be used a target variable for a regression or classification problem as a stretch goal, which will not be used right now."
   ]
  },
  {
   "cell_type": "code",
   "execution_count": 385,
   "metadata": {
    "collapsed": false
   },
   "outputs": [],
   "source": [
    "drop_list = ['sec_time1', 'sec_time2', 'sec_time3', 'sec_time4', 'sec_time5', 'sec_time6', 'sec_time7',\n",
    "            'time1', 'time2', 'time3', 'time4', 'time5', 'time6', 'time7', \n",
    "            'place_combination4', 'place_dividend4', 'win_combination2', 'win_dividend2']\n",
    "df_races.drop(drop_list, axis=1, inplace=True)"
   ]
  },
  {
   "cell_type": "markdown",
   "metadata": {},
   "source": [
    "## Run dataset"
   ]
  },
  {
   "cell_type": "code",
   "execution_count": 290,
   "metadata": {
    "collapsed": true
   },
   "outputs": [],
   "source": [
    "df_runs = pd.read_csv(\"assets/hkraces/runs.csv\")\n",
    "pd.set_option('max_columns', len(df_runs.columns))"
   ]
  },
  {
   "cell_type": "code",
   "execution_count": 291,
   "metadata": {
    "collapsed": false,
    "scrolled": false
   },
   "outputs": [
    {
     "name": "stdout",
     "output_type": "stream",
     "text": [
      "(79447, 38)\n"
     ]
    },
    {
     "data": {
      "text/html": [
       "<div>\n",
       "<table border=\"1\" class=\"dataframe\">\n",
       "  <thead>\n",
       "    <tr style=\"text-align: right;\">\n",
       "      <th></th>\n",
       "      <th>race_id</th>\n",
       "      <th>horse_no</th>\n",
       "      <th>horse_id</th>\n",
       "      <th>result</th>\n",
       "      <th>won</th>\n",
       "      <th>lengths_behind</th>\n",
       "      <th>horse_age</th>\n",
       "      <th>horse_country</th>\n",
       "      <th>horse_type</th>\n",
       "      <th>horse_rating</th>\n",
       "      <th>horse_gear</th>\n",
       "      <th>declared_weight</th>\n",
       "      <th>actual_weight</th>\n",
       "      <th>draw</th>\n",
       "      <th>position_sec1</th>\n",
       "      <th>position_sec2</th>\n",
       "      <th>position_sec3</th>\n",
       "      <th>position_sec4</th>\n",
       "      <th>position_sec5</th>\n",
       "      <th>position_sec6</th>\n",
       "      <th>behind_sec1</th>\n",
       "      <th>behind_sec2</th>\n",
       "      <th>behind_sec3</th>\n",
       "      <th>behind_sec4</th>\n",
       "      <th>behind_sec5</th>\n",
       "      <th>behind_sec6</th>\n",
       "      <th>time1</th>\n",
       "      <th>time2</th>\n",
       "      <th>time3</th>\n",
       "      <th>time4</th>\n",
       "      <th>time5</th>\n",
       "      <th>time6</th>\n",
       "      <th>time_final</th>\n",
       "      <th>finish_time</th>\n",
       "      <th>win_odds</th>\n",
       "      <th>place_odds</th>\n",
       "      <th>trainer_id</th>\n",
       "      <th>jockey_id</th>\n",
       "    </tr>\n",
       "  </thead>\n",
       "  <tbody>\n",
       "    <tr>\n",
       "      <th>0</th>\n",
       "      <td>0</td>\n",
       "      <td>1</td>\n",
       "      <td>3917</td>\n",
       "      <td>10</td>\n",
       "      <td>0.0</td>\n",
       "      <td>8.00</td>\n",
       "      <td>3</td>\n",
       "      <td>AUS</td>\n",
       "      <td>Gelding</td>\n",
       "      <td>60</td>\n",
       "      <td>--</td>\n",
       "      <td>1020.0</td>\n",
       "      <td>133</td>\n",
       "      <td>7</td>\n",
       "      <td>6</td>\n",
       "      <td>4</td>\n",
       "      <td>6</td>\n",
       "      <td>10.0</td>\n",
       "      <td>NaN</td>\n",
       "      <td>NaN</td>\n",
       "      <td>2.00</td>\n",
       "      <td>2.00</td>\n",
       "      <td>1.50</td>\n",
       "      <td>8.00</td>\n",
       "      <td>NaN</td>\n",
       "      <td>NaN</td>\n",
       "      <td>13.85</td>\n",
       "      <td>21.59</td>\n",
       "      <td>23.86</td>\n",
       "      <td>24.62</td>\n",
       "      <td>NaN</td>\n",
       "      <td>NaN</td>\n",
       "      <td>24.62</td>\n",
       "      <td>83.92</td>\n",
       "      <td>9.7</td>\n",
       "      <td>3.7</td>\n",
       "      <td>118</td>\n",
       "      <td>2</td>\n",
       "    </tr>\n",
       "    <tr>\n",
       "      <th>1</th>\n",
       "      <td>0</td>\n",
       "      <td>2</td>\n",
       "      <td>2157</td>\n",
       "      <td>8</td>\n",
       "      <td>0.0</td>\n",
       "      <td>5.75</td>\n",
       "      <td>3</td>\n",
       "      <td>NZ</td>\n",
       "      <td>Gelding</td>\n",
       "      <td>60</td>\n",
       "      <td>--</td>\n",
       "      <td>980.0</td>\n",
       "      <td>133</td>\n",
       "      <td>12</td>\n",
       "      <td>12</td>\n",
       "      <td>13</td>\n",
       "      <td>13</td>\n",
       "      <td>8.0</td>\n",
       "      <td>NaN</td>\n",
       "      <td>NaN</td>\n",
       "      <td>6.50</td>\n",
       "      <td>9.00</td>\n",
       "      <td>5.00</td>\n",
       "      <td>5.75</td>\n",
       "      <td>NaN</td>\n",
       "      <td>NaN</td>\n",
       "      <td>14.57</td>\n",
       "      <td>21.99</td>\n",
       "      <td>23.30</td>\n",
       "      <td>23.70</td>\n",
       "      <td>NaN</td>\n",
       "      <td>NaN</td>\n",
       "      <td>23.70</td>\n",
       "      <td>83.56</td>\n",
       "      <td>16.0</td>\n",
       "      <td>4.9</td>\n",
       "      <td>164</td>\n",
       "      <td>57</td>\n",
       "    </tr>\n",
       "    <tr>\n",
       "      <th>2</th>\n",
       "      <td>0</td>\n",
       "      <td>3</td>\n",
       "      <td>858</td>\n",
       "      <td>7</td>\n",
       "      <td>0.0</td>\n",
       "      <td>4.75</td>\n",
       "      <td>3</td>\n",
       "      <td>NZ</td>\n",
       "      <td>Gelding</td>\n",
       "      <td>60</td>\n",
       "      <td>--</td>\n",
       "      <td>1082.0</td>\n",
       "      <td>132</td>\n",
       "      <td>8</td>\n",
       "      <td>3</td>\n",
       "      <td>2</td>\n",
       "      <td>2</td>\n",
       "      <td>7.0</td>\n",
       "      <td>NaN</td>\n",
       "      <td>NaN</td>\n",
       "      <td>1.00</td>\n",
       "      <td>1.00</td>\n",
       "      <td>0.75</td>\n",
       "      <td>4.75</td>\n",
       "      <td>NaN</td>\n",
       "      <td>NaN</td>\n",
       "      <td>13.69</td>\n",
       "      <td>21.59</td>\n",
       "      <td>23.90</td>\n",
       "      <td>24.22</td>\n",
       "      <td>NaN</td>\n",
       "      <td>NaN</td>\n",
       "      <td>24.22</td>\n",
       "      <td>83.40</td>\n",
       "      <td>3.5</td>\n",
       "      <td>1.5</td>\n",
       "      <td>137</td>\n",
       "      <td>18</td>\n",
       "    </tr>\n",
       "    <tr>\n",
       "      <th>3</th>\n",
       "      <td>0</td>\n",
       "      <td>4</td>\n",
       "      <td>1853</td>\n",
       "      <td>9</td>\n",
       "      <td>0.0</td>\n",
       "      <td>6.25</td>\n",
       "      <td>3</td>\n",
       "      <td>SAF</td>\n",
       "      <td>Gelding</td>\n",
       "      <td>60</td>\n",
       "      <td>--</td>\n",
       "      <td>1118.0</td>\n",
       "      <td>127</td>\n",
       "      <td>13</td>\n",
       "      <td>8</td>\n",
       "      <td>8</td>\n",
       "      <td>11</td>\n",
       "      <td>9.0</td>\n",
       "      <td>NaN</td>\n",
       "      <td>NaN</td>\n",
       "      <td>3.50</td>\n",
       "      <td>5.00</td>\n",
       "      <td>3.50</td>\n",
       "      <td>6.25</td>\n",
       "      <td>NaN</td>\n",
       "      <td>NaN</td>\n",
       "      <td>14.09</td>\n",
       "      <td>21.83</td>\n",
       "      <td>23.70</td>\n",
       "      <td>24.00</td>\n",
       "      <td>NaN</td>\n",
       "      <td>NaN</td>\n",
       "      <td>24.00</td>\n",
       "      <td>83.62</td>\n",
       "      <td>39.0</td>\n",
       "      <td>11.0</td>\n",
       "      <td>80</td>\n",
       "      <td>59</td>\n",
       "    </tr>\n",
       "    <tr>\n",
       "      <th>4</th>\n",
       "      <td>0</td>\n",
       "      <td>5</td>\n",
       "      <td>2796</td>\n",
       "      <td>6</td>\n",
       "      <td>0.0</td>\n",
       "      <td>3.75</td>\n",
       "      <td>3</td>\n",
       "      <td>GB</td>\n",
       "      <td>Gelding</td>\n",
       "      <td>60</td>\n",
       "      <td>--</td>\n",
       "      <td>972.0</td>\n",
       "      <td>131</td>\n",
       "      <td>14</td>\n",
       "      <td>13</td>\n",
       "      <td>12</td>\n",
       "      <td>12</td>\n",
       "      <td>6.0</td>\n",
       "      <td>NaN</td>\n",
       "      <td>NaN</td>\n",
       "      <td>7.75</td>\n",
       "      <td>8.75</td>\n",
       "      <td>4.25</td>\n",
       "      <td>3.75</td>\n",
       "      <td>NaN</td>\n",
       "      <td>NaN</td>\n",
       "      <td>14.77</td>\n",
       "      <td>21.75</td>\n",
       "      <td>23.22</td>\n",
       "      <td>23.50</td>\n",
       "      <td>NaN</td>\n",
       "      <td>NaN</td>\n",
       "      <td>23.50</td>\n",
       "      <td>83.24</td>\n",
       "      <td>50.0</td>\n",
       "      <td>14.0</td>\n",
       "      <td>9</td>\n",
       "      <td>154</td>\n",
       "    </tr>\n",
       "  </tbody>\n",
       "</table>\n",
       "</div>"
      ],
      "text/plain": [
       "   race_id  horse_no  horse_id  result  won  lengths_behind  horse_age  \\\n",
       "0        0         1      3917      10  0.0            8.00          3   \n",
       "1        0         2      2157       8  0.0            5.75          3   \n",
       "2        0         3       858       7  0.0            4.75          3   \n",
       "3        0         4      1853       9  0.0            6.25          3   \n",
       "4        0         5      2796       6  0.0            3.75          3   \n",
       "\n",
       "  horse_country horse_type  horse_rating horse_gear  declared_weight  \\\n",
       "0           AUS    Gelding            60         --           1020.0   \n",
       "1            NZ    Gelding            60         --            980.0   \n",
       "2            NZ    Gelding            60         --           1082.0   \n",
       "3           SAF    Gelding            60         --           1118.0   \n",
       "4            GB    Gelding            60         --            972.0   \n",
       "\n",
       "   actual_weight  draw  position_sec1  position_sec2  position_sec3  \\\n",
       "0            133     7              6              4              6   \n",
       "1            133    12             12             13             13   \n",
       "2            132     8              3              2              2   \n",
       "3            127    13              8              8             11   \n",
       "4            131    14             13             12             12   \n",
       "\n",
       "   position_sec4  position_sec5  position_sec6  behind_sec1  behind_sec2  \\\n",
       "0           10.0            NaN            NaN         2.00         2.00   \n",
       "1            8.0            NaN            NaN         6.50         9.00   \n",
       "2            7.0            NaN            NaN         1.00         1.00   \n",
       "3            9.0            NaN            NaN         3.50         5.00   \n",
       "4            6.0            NaN            NaN         7.75         8.75   \n",
       "\n",
       "   behind_sec3  behind_sec4  behind_sec5  behind_sec6  time1  time2  time3  \\\n",
       "0         1.50         8.00          NaN          NaN  13.85  21.59  23.86   \n",
       "1         5.00         5.75          NaN          NaN  14.57  21.99  23.30   \n",
       "2         0.75         4.75          NaN          NaN  13.69  21.59  23.90   \n",
       "3         3.50         6.25          NaN          NaN  14.09  21.83  23.70   \n",
       "4         4.25         3.75          NaN          NaN  14.77  21.75  23.22   \n",
       "\n",
       "   time4  time5  time6  time_final  finish_time  win_odds  place_odds  \\\n",
       "0  24.62    NaN    NaN       24.62        83.92       9.7         3.7   \n",
       "1  23.70    NaN    NaN       23.70        83.56      16.0         4.9   \n",
       "2  24.22    NaN    NaN       24.22        83.40       3.5         1.5   \n",
       "3  24.00    NaN    NaN       24.00        83.62      39.0        11.0   \n",
       "4  23.50    NaN    NaN       23.50        83.24      50.0        14.0   \n",
       "\n",
       "   trainer_id  jockey_id  \n",
       "0         118          2  \n",
       "1         164         57  \n",
       "2         137         18  \n",
       "3          80         59  \n",
       "4           9        154  "
      ]
     },
     "execution_count": 291,
     "metadata": {},
     "output_type": "execute_result"
    }
   ],
   "source": [
    "print df_runs.shape\n",
    "df_runs.head()"
   ]
  },
  {
   "cell_type": "code",
   "execution_count": 293,
   "metadata": {
    "collapsed": false
   },
   "outputs": [],
   "source": [
    "df_runs.drop(df_runs.columns[-25:-4].tolist(), axis=1, inplace=True)"
   ]
  },
  {
   "cell_type": "markdown",
   "metadata": {},
   "source": [
    "The Hong Kong Jockey Club's horse races are special in one way: there are few other races in the world where horse breeds from both the Northern hemisphere and Southern hemisphere compete together. Here we see a lot of representation from Australia and New Zealand:"
   ]
  },
  {
   "cell_type": "code",
   "execution_count": 294,
   "metadata": {
    "collapsed": false,
    "scrolled": true
   },
   "outputs": [
    {
     "data": {
      "image/png": "[encoded data removed]",
      "text/plain": [
       "<matplotlib.figure.Figure at 0x127bd70d0>"
      ]
     },
     "metadata": {},
     "output_type": "display_data"
    }
   ],
   "source": [
    "df_runs.groupby(['horse_country'], axis=0).count()['race_id'].sort_values().plot(kind='bar')\n",
    "df_runs[df_runs[\"won\"]==1].groupby(['horse_country'], axis=0).count()['race_id'].sort_values().plot(kind='bar', color='r')\n",
    "plt.ylabel(\"Number of appearance in races\")\n",
    "plt.title(\"# of race appearances breakdown by horse country of origin\")\n",
    "plt.legend([\"All appearances\",\"Winners only\"], loc='best')\n",
    "plt.show()"
   ]
  },
  {
   "cell_type": "code",
   "execution_count": 295,
   "metadata": {
    "collapsed": false
   },
   "outputs": [
    {
     "data": {
      "image/png": "[encoded data removed]",
      "text/plain": [
       "<matplotlib.figure.Figure at 0x124483b10>"
      ]
     },
     "metadata": {},
     "output_type": "display_data"
    }
   ],
   "source": [
    "pd.Series(df_runs.groupby(['horse_country'], axis=0).count()['race_id']/\n",
    "          df_runs[df_runs[\"won\"]==1].groupby(['horse_country'], axis=0).count()['race_id']).sort_values().plot(kind='barh', color='r')\n",
    "plt.xlabel(\"% of wins per race appearance\")\n",
    "plt.title(\"% of win appearances breakdown by country\")\n",
    "plt.show()"
   ]
  },
  {
   "cell_type": "markdown",
   "metadata": {},
   "source": [
    "Getting dummies for country."
   ]
  },
  {
   "cell_type": "code",
   "execution_count": 296,
   "metadata": {
    "collapsed": false
   },
   "outputs": [],
   "source": [
    "df_runs = pd.concat([df_runs, pd.get_dummies(df_runs.horse_country, drop_first=True)], axis=1)\n",
    "df_runs.drop('horse_country', axis=1, inplace=True)"
   ]
  },
  {
   "cell_type": "markdown",
   "metadata": {},
   "source": [
    "We see here that most horses are geldings, then get dummies for this column."
   ]
  },
  {
   "cell_type": "code",
   "execution_count": 297,
   "metadata": {
    "collapsed": false
   },
   "outputs": [
    {
     "data": {
      "image/png": "[encoded data removed]",
      "text/plain": [
       "<matplotlib.figure.Figure at 0x12639ae50>"
      ]
     },
     "metadata": {},
     "output_type": "display_data"
    }
   ],
   "source": [
    "df_runs.groupby(['horse_type'], axis=0).count()['race_id'].sort_values().plot(kind='bar')\n",
    "df_runs[df_runs[\"won\"]==1].groupby(['horse_type'], axis=0).count()['race_id'].sort_values().plot(kind='bar', color='r')\n",
    "plt.legend([\"All appearances\",\"Winners only\"], loc='best')\n",
    "plt.title(\"# of race appearances breakdown by horse type\")\n",
    "plt.show()"
   ]
  },
  {
   "cell_type": "code",
   "execution_count": 298,
   "metadata": {
    "collapsed": false
   },
   "outputs": [
    {
     "data": {
      "image/png": "[encoded data removed]",
      "text/plain": [
       "<matplotlib.figure.Figure at 0x124e91c50>"
      ]
     },
     "metadata": {},
     "output_type": "display_data"
    }
   ],
   "source": [
    "pd.Series(df_runs.groupby(['horse_type'], axis=0).count()['race_id']/df_runs[df_runs[\"won\"]==1].groupby(['horse_type'], axis=0).count()['race_id']).sort_values().plot(kind='barh', color='r')\n",
    "plt.xlabel(\"% of wins per race appearance\")\n",
    "plt.title(\"% of win appearances breakdown by horse type\")\n",
    "plt.show()"
   ]
  },
  {
   "cell_type": "code",
   "execution_count": 299,
   "metadata": {
    "collapsed": false
   },
   "outputs": [],
   "source": [
    "df_runs = pd.concat([df_runs, pd.get_dummies(df_runs.horse_type, drop_first=True)], axis=1)\n",
    "df_runs.drop('horse_type', axis=1, inplace=True)"
   ]
  },
  {
   "cell_type": "markdown",
   "metadata": {},
   "source": [
    "Encoding horse trainer and jockey id:"
   ]
  },
  {
   "cell_type": "code",
   "execution_count": 335,
   "metadata": {
    "collapsed": false,
    "scrolled": false
   },
   "outputs": [
    {
     "data": {
      "image/png": "[encoded data removed]",
      "text/plain": [
       "<matplotlib.figure.Figure at 0x138ce4110>"
      ]
     },
     "metadata": {},
     "output_type": "display_data"
    }
   ],
   "source": [
    "df_runs.groupby(['trainer_id'], axis=0).count()['race_id'].sort_values()[::-1].plot(kind='bar')\n",
    "plt.xticks([])\n",
    "plt.title(\"Number of race appearances by trainer\")\n",
    "plt.ylabel(\"Number of race appearances\")\n",
    "plt.xlabel(\"Trainers\")\n",
    "plt.hlines(100,0,175, color='r', lw=0.5)\n",
    "plt.show()"
   ]
  },
  {
   "cell_type": "code",
   "execution_count": 330,
   "metadata": {
    "collapsed": false
   },
   "outputs": [
    {
     "name": "stdout",
     "output_type": "stream",
     "text": [
      "Out of a total of 176 trainers, the percentage of trainers that had more than 100 race appearances (as indicated by the red line) is 15.34 percent.\n"
     ]
    }
   ],
   "source": [
    "trainers = df_runs.groupby(['trainer_id'], axis=0).count()['race_id']\n",
    "trainers[trainers>100]\n",
    "print \"Out of a total of\",len(trainers),\"trainers,\",\\\n",
    "\"the percentage of trainers that had more than 100 race appearances (as indicated by the red line) is\",\\\n",
    "round(len(trainers[trainers>100])*100/len(trainers),2),\"percent.\""
   ]
  },
  {
   "cell_type": "code",
   "execution_count": 247,
   "metadata": {
    "collapsed": true
   },
   "outputs": [],
   "source": [
    "df_runs = pd.concat([df_runs, pd.get_dummies(df_runs.trainer_id, drop_first=True, prefix=\"trainer\")], axis=1)\n",
    "df_runs.drop('trainer_id', axis=1, inplace=True)"
   ]
  },
  {
   "cell_type": "code",
   "execution_count": 336,
   "metadata": {
    "collapsed": false
   },
   "outputs": [
    {
     "data": {
      "image/png": "[encoded data removed]",
      "text/plain": [
       "<matplotlib.figure.Figure at 0x138cbe110>"
      ]
     },
     "metadata": {},
     "output_type": "display_data"
    }
   ],
   "source": [
    "df_runs.groupby(['jockey_id'], axis=0).count()['race_id'].sort_values()[::-1].plot(kind='bar')\n",
    "plt.xticks([])\n",
    "plt.title(\"Number of race appearances by jockey\")\n",
    "plt.ylabel(\"Number of race appearances\")\n",
    "plt.xlabel(\"Jockeys\")\n",
    "plt.hlines(100,0,175, color='r', lw=0.5)\n",
    "plt.show()"
   ]
  },
  {
   "cell_type": "code",
   "execution_count": 333,
   "metadata": {
    "collapsed": false,
    "scrolled": true
   },
   "outputs": [
    {
     "name": "stdout",
     "output_type": "stream",
     "text": [
      "Out of a total of 186 jockeys, the percentage of jockeys that had more than 100 race appearances (as indicated by the red line) is 32.8 percent.\n"
     ]
    }
   ],
   "source": [
    "jockeys = df_runs.groupby(['jockey_id'], axis=0).count()['race_id']\n",
    "jockeys[jockeys>100]\n",
    "print \"Out of a total of\",len(jockeys),\"jockeys,\",\\\n",
    "\"the percentage of jockeys that had more than 100 race appearances (as indicated by the red line) is\",\\\n",
    "round(len(jockeys[jockeys>100])*100/len(jockeys),2),\"percent.\""
   ]
  },
  {
   "cell_type": "code",
   "execution_count": 249,
   "metadata": {
    "collapsed": false
   },
   "outputs": [],
   "source": [
    "df_runs = pd.concat([df_runs, pd.get_dummies(df_runs.jockey_id , drop_first=True, prefix=\"jockey\")], axis=1)\n",
    "df_runs.drop('jockey_id', axis=1, inplace=True)"
   ]
  },
  {
   "cell_type": "markdown",
   "metadata": {},
   "source": [
    "We will ignore horse gear for now."
   ]
  },
  {
   "cell_type": "code",
   "execution_count": 250,
   "metadata": {
    "collapsed": false
   },
   "outputs": [
    {
     "name": "stdout",
     "output_type": "stream",
     "text": [
      "822\n"
     ]
    }
   ],
   "source": [
    "print len(df_runs.horse_gear.value_counts())\n",
    "df_runs.drop('horse_gear', axis=1, inplace=True)"
   ]
  },
  {
   "cell_type": "code",
   "execution_count": 251,
   "metadata": {
    "collapsed": true
   },
   "outputs": [],
   "source": [
    "df_runs.drop(['result','lengths_behind'], axis=1, inplace=True)"
   ]
  },
  {
   "cell_type": "markdown",
   "metadata": {},
   "source": [
    "### Merging datasets"
   ]
  },
  {
   "cell_type": "markdown",
   "metadata": {},
   "source": [
    "We will merge the two DataFrames on the `race_id` column."
   ]
  },
  {
   "cell_type": "code",
   "execution_count": 252,
   "metadata": {
    "collapsed": false
   },
   "outputs": [
    {
     "data": {
      "text/html": [
       "<div>\n",
       "<table border=\"1\" class=\"dataframe\">\n",
       "  <thead>\n",
       "    <tr style=\"text-align: right;\">\n",
       "      <th></th>\n",
       "      <th>race_id</th>\n",
       "      <th>horse_no</th>\n",
       "      <th>horse_id</th>\n",
       "      <th>won</th>\n",
       "      <th>horse_age</th>\n",
       "      <th>horse_rating</th>\n",
       "      <th>declared_weight</th>\n",
       "      <th>actual_weight</th>\n",
       "      <th>win_odds</th>\n",
       "      <th>place_odds</th>\n",
       "      <th>AUS</th>\n",
       "      <th>BRZ</th>\n",
       "      <th>CAN</th>\n",
       "      <th>FR</th>\n",
       "      <th>GB</th>\n",
       "      <th>GER</th>\n",
       "      <th>GR</th>\n",
       "      <th>IRE</th>\n",
       "      <th>ITY</th>\n",
       "      <th>...</th>\n",
       "      <th>jockey_167</th>\n",
       "      <th>jockey_168</th>\n",
       "      <th>jockey_169</th>\n",
       "      <th>jockey_170</th>\n",
       "      <th>jockey_171</th>\n",
       "      <th>jockey_172</th>\n",
       "      <th>jockey_173</th>\n",
       "      <th>jockey_174</th>\n",
       "      <th>jockey_175</th>\n",
       "      <th>jockey_176</th>\n",
       "      <th>jockey_177</th>\n",
       "      <th>jockey_178</th>\n",
       "      <th>jockey_179</th>\n",
       "      <th>jockey_180</th>\n",
       "      <th>jockey_181</th>\n",
       "      <th>jockey_182</th>\n",
       "      <th>jockey_183</th>\n",
       "      <th>jockey_184</th>\n",
       "      <th>jockey_185</th>\n",
       "    </tr>\n",
       "  </thead>\n",
       "  <tbody>\n",
       "    <tr>\n",
       "      <th>0</th>\n",
       "      <td>0</td>\n",
       "      <td>1</td>\n",
       "      <td>3917</td>\n",
       "      <td>0.0</td>\n",
       "      <td>3</td>\n",
       "      <td>60</td>\n",
       "      <td>1020.0</td>\n",
       "      <td>133</td>\n",
       "      <td>9.7</td>\n",
       "      <td>3.7</td>\n",
       "      <td>1</td>\n",
       "      <td>0</td>\n",
       "      <td>0</td>\n",
       "      <td>0</td>\n",
       "      <td>0</td>\n",
       "      <td>0</td>\n",
       "      <td>0</td>\n",
       "      <td>0</td>\n",
       "      <td>0</td>\n",
       "      <td>...</td>\n",
       "      <td>0</td>\n",
       "      <td>0</td>\n",
       "      <td>0</td>\n",
       "      <td>0</td>\n",
       "      <td>0</td>\n",
       "      <td>0</td>\n",
       "      <td>0</td>\n",
       "      <td>0</td>\n",
       "      <td>0</td>\n",
       "      <td>0</td>\n",
       "      <td>0</td>\n",
       "      <td>0</td>\n",
       "      <td>0</td>\n",
       "      <td>0</td>\n",
       "      <td>0</td>\n",
       "      <td>0</td>\n",
       "      <td>0</td>\n",
       "      <td>0</td>\n",
       "      <td>0</td>\n",
       "    </tr>\n",
       "    <tr>\n",
       "      <th>1</th>\n",
       "      <td>0</td>\n",
       "      <td>2</td>\n",
       "      <td>2157</td>\n",
       "      <td>0.0</td>\n",
       "      <td>3</td>\n",
       "      <td>60</td>\n",
       "      <td>980.0</td>\n",
       "      <td>133</td>\n",
       "      <td>16.0</td>\n",
       "      <td>4.9</td>\n",
       "      <td>0</td>\n",
       "      <td>0</td>\n",
       "      <td>0</td>\n",
       "      <td>0</td>\n",
       "      <td>0</td>\n",
       "      <td>0</td>\n",
       "      <td>0</td>\n",
       "      <td>0</td>\n",
       "      <td>0</td>\n",
       "      <td>...</td>\n",
       "      <td>0</td>\n",
       "      <td>0</td>\n",
       "      <td>0</td>\n",
       "      <td>0</td>\n",
       "      <td>0</td>\n",
       "      <td>0</td>\n",
       "      <td>0</td>\n",
       "      <td>0</td>\n",
       "      <td>0</td>\n",
       "      <td>0</td>\n",
       "      <td>0</td>\n",
       "      <td>0</td>\n",
       "      <td>0</td>\n",
       "      <td>0</td>\n",
       "      <td>0</td>\n",
       "      <td>0</td>\n",
       "      <td>0</td>\n",
       "      <td>0</td>\n",
       "      <td>0</td>\n",
       "    </tr>\n",
       "  </tbody>\n",
       "</table>\n",
       "<p>2 rows × 393 columns</p>\n",
       "</div>"
      ],
      "text/plain": [
       "   race_id  horse_no  horse_id  won  horse_age  horse_rating  declared_weight  \\\n",
       "0        0         1      3917  0.0          3            60           1020.0   \n",
       "1        0         2      2157  0.0          3            60            980.0   \n",
       "\n",
       "   actual_weight  win_odds  place_odds  AUS  BRZ  CAN  FR  GB  GER  GR  IRE  \\\n",
       "0            133       9.7         3.7    1    0    0   0   0    0   0    0   \n",
       "1            133      16.0         4.9    0    0    0   0   0    0   0    0   \n",
       "\n",
       "   ITY     ...      jockey_167  jockey_168  jockey_169  jockey_170  \\\n",
       "0    0     ...               0           0           0           0   \n",
       "1    0     ...               0           0           0           0   \n",
       "\n",
       "   jockey_171  jockey_172  jockey_173  jockey_174  jockey_175  jockey_176  \\\n",
       "0           0           0           0           0           0           0   \n",
       "1           0           0           0           0           0           0   \n",
       "\n",
       "   jockey_177  jockey_178  jockey_179  jockey_180  jockey_181  jockey_182  \\\n",
       "0           0           0           0           0           0           0   \n",
       "1           0           0           0           0           0           0   \n",
       "\n",
       "   jockey_183  jockey_184  jockey_185  \n",
       "0           0           0           0  \n",
       "1           0           0           0  \n",
       "\n",
       "[2 rows x 393 columns]"
      ]
     },
     "execution_count": 252,
     "metadata": {},
     "output_type": "execute_result"
    }
   ],
   "source": [
    "df_runs.head(2)"
   ]
  },
  {
   "cell_type": "code",
   "execution_count": 253,
   "metadata": {
    "collapsed": false
   },
   "outputs": [
    {
     "data": {
      "text/html": [
       "<div>\n",
       "<table border=\"1\" class=\"dataframe\">\n",
       "  <thead>\n",
       "    <tr style=\"text-align: right;\">\n",
       "      <th></th>\n",
       "      <th>race_id</th>\n",
       "      <th>race_no</th>\n",
       "      <th>surface</th>\n",
       "      <th>distance</th>\n",
       "      <th>prize</th>\n",
       "      <th>place_combination1</th>\n",
       "      <th>place_combination2</th>\n",
       "      <th>place_combination3</th>\n",
       "      <th>place_dividend1</th>\n",
       "      <th>place_dividend2</th>\n",
       "      <th>place_dividend3</th>\n",
       "      <th>win_combination1</th>\n",
       "      <th>win_dividend1</th>\n",
       "      <th>year</th>\n",
       "      <th>month</th>\n",
       "      <th>day</th>\n",
       "      <th>ST</th>\n",
       "      <th>config_A+3</th>\n",
       "      <th>config_B</th>\n",
       "      <th>config_B+2</th>\n",
       "      <th>config_C</th>\n",
       "      <th>config_C+3</th>\n",
       "      <th>GOOD</th>\n",
       "      <th>GOOD TO FIRM</th>\n",
       "      <th>GOOD TO YIELDING</th>\n",
       "      <th>SLOW</th>\n",
       "      <th>SOFT</th>\n",
       "      <th>WET FAST</th>\n",
       "      <th>WET SLOW</th>\n",
       "      <th>YIELDING</th>\n",
       "      <th>YIELDING TO SOFT</th>\n",
       "      <th>racing_class</th>\n",
       "      <th>restricted_race</th>\n",
       "      <th>bonus_race</th>\n",
       "    </tr>\n",
       "  </thead>\n",
       "  <tbody>\n",
       "    <tr>\n",
       "      <th>0</th>\n",
       "      <td>0</td>\n",
       "      <td>1</td>\n",
       "      <td>0</td>\n",
       "      <td>1400</td>\n",
       "      <td>485000.0</td>\n",
       "      <td>8</td>\n",
       "      <td>11</td>\n",
       "      <td>6.0</td>\n",
       "      <td>36.5</td>\n",
       "      <td>25.5</td>\n",
       "      <td>18.0</td>\n",
       "      <td>8</td>\n",
       "      <td>121.0</td>\n",
       "      <td>1997</td>\n",
       "      <td>6</td>\n",
       "      <td>2</td>\n",
       "      <td>1</td>\n",
       "      <td>0</td>\n",
       "      <td>0</td>\n",
       "      <td>0</td>\n",
       "      <td>0</td>\n",
       "      <td>0</td>\n",
       "      <td>0</td>\n",
       "      <td>1</td>\n",
       "      <td>0</td>\n",
       "      <td>0</td>\n",
       "      <td>0</td>\n",
       "      <td>0</td>\n",
       "      <td>0</td>\n",
       "      <td>0</td>\n",
       "      <td>0</td>\n",
       "      <td>5</td>\n",
       "      <td>0</td>\n",
       "      <td>0</td>\n",
       "    </tr>\n",
       "    <tr>\n",
       "      <th>1</th>\n",
       "      <td>1</td>\n",
       "      <td>2</td>\n",
       "      <td>0</td>\n",
       "      <td>1200</td>\n",
       "      <td>485000.0</td>\n",
       "      <td>5</td>\n",
       "      <td>13</td>\n",
       "      <td>4.0</td>\n",
       "      <td>12.5</td>\n",
       "      <td>47.0</td>\n",
       "      <td>33.5</td>\n",
       "      <td>5</td>\n",
       "      <td>23.5</td>\n",
       "      <td>1997</td>\n",
       "      <td>6</td>\n",
       "      <td>2</td>\n",
       "      <td>1</td>\n",
       "      <td>0</td>\n",
       "      <td>0</td>\n",
       "      <td>0</td>\n",
       "      <td>0</td>\n",
       "      <td>0</td>\n",
       "      <td>0</td>\n",
       "      <td>1</td>\n",
       "      <td>0</td>\n",
       "      <td>0</td>\n",
       "      <td>0</td>\n",
       "      <td>0</td>\n",
       "      <td>0</td>\n",
       "      <td>0</td>\n",
       "      <td>0</td>\n",
       "      <td>5</td>\n",
       "      <td>0</td>\n",
       "      <td>0</td>\n",
       "    </tr>\n",
       "  </tbody>\n",
       "</table>\n",
       "</div>"
      ],
      "text/plain": [
       "   race_id  race_no  surface  distance     prize  place_combination1  \\\n",
       "0        0        1        0      1400  485000.0                   8   \n",
       "1        1        2        0      1200  485000.0                   5   \n",
       "\n",
       "   place_combination2  place_combination3  place_dividend1  place_dividend2  \\\n",
       "0                  11                 6.0             36.5             25.5   \n",
       "1                  13                 4.0             12.5             47.0   \n",
       "\n",
       "   place_dividend3  win_combination1  win_dividend1  year  month  day  ST  \\\n",
       "0             18.0                 8          121.0  1997      6    2   1   \n",
       "1             33.5                 5           23.5  1997      6    2   1   \n",
       "\n",
       "   config_A+3  config_B  config_B+2  config_C  config_C+3  GOOD  GOOD TO FIRM  \\\n",
       "0           0         0           0         0           0     0             1   \n",
       "1           0         0           0         0           0     0             1   \n",
       "\n",
       "   GOOD TO YIELDING  SLOW  SOFT  WET FAST  WET SLOW  YIELDING  \\\n",
       "0                 0     0     0         0         0         0   \n",
       "1                 0     0     0         0         0         0   \n",
       "\n",
       "   YIELDING TO SOFT  racing_class  restricted_race  bonus_race  \n",
       "0                 0             5                0           0  \n",
       "1                 0             5                0           0  "
      ]
     },
     "execution_count": 253,
     "metadata": {},
     "output_type": "execute_result"
    }
   ],
   "source": [
    "df_races.head(2)"
   ]
  },
  {
   "cell_type": "code",
   "execution_count": 254,
   "metadata": {
    "collapsed": true
   },
   "outputs": [],
   "source": [
    "df_model = pd.merge(df_runs, df_races, how='inner', left_on='race_id', right_on='race_id')"
   ]
  },
  {
   "cell_type": "code",
   "execution_count": 255,
   "metadata": {
    "collapsed": false
   },
   "outputs": [
    {
     "name": "stdout",
     "output_type": "stream",
     "text": [
      "<class 'pandas.core.frame.DataFrame'>\n",
      "Int64Index: 79447 entries, 0 to 79446\n",
      "Columns: 426 entries, race_id to bonus_race\n",
      "dtypes: float64(10), int64(18), uint8(398)\n",
      "memory usage: 47.7 MB\n"
     ]
    }
   ],
   "source": [
    "df_model.info()"
   ]
  },
  {
   "cell_type": "markdown",
   "metadata": {},
   "source": [
    "## Unsupervised Machine Learning"
   ]
  },
  {
   "cell_type": "markdown",
   "metadata": {},
   "source": [
    "### Principal Components Analysis"
   ]
  },
  {
   "cell_type": "code",
   "execution_count": 256,
   "metadata": {
    "collapsed": true
   },
   "outputs": [],
   "source": [
    "from sklearn.preprocessing import StandardScaler\n",
    "from sklearn.decomposition import PCA"
   ]
  },
  {
   "cell_type": "code",
   "execution_count": 257,
   "metadata": {
    "collapsed": false
   },
   "outputs": [],
   "source": [
    "ss = StandardScaler()\n",
    "df_scaled = ss.fit_transform(df_model.dropna(axis=0, how='any'))"
   ]
  },
  {
   "cell_type": "code",
   "execution_count": 258,
   "metadata": {
    "collapsed": false
   },
   "outputs": [
    {
     "name": "stdout",
     "output_type": "stream",
     "text": [
      "0.0626457740306 of the variance is explained using 10 components.\n"
     ]
    }
   ],
   "source": [
    "N=10\n",
    "pca = PCA(n_components=N)\n",
    "pca.fit_transform(df_scaled)\n",
    "print sum(pca.explained_variance_ratio_), \"of the variance is explained using\", N, \"components.\""
   ]
  },
  {
   "cell_type": "code",
   "execution_count": 259,
   "metadata": {
    "collapsed": false
   },
   "outputs": [
    {
     "name": "stdout",
     "output_type": "stream",
     "text": [
      "0.421745245652 of the variance is explained using 100 components.\n"
     ]
    }
   ],
   "source": [
    "N=100\n",
    "pca = PCA(n_components=N)\n",
    "pca.fit_transform(df_scaled)\n",
    "print sum(pca.explained_variance_ratio_), \"of the variance is explained using\", N, \"components.\""
   ]
  },
  {
   "cell_type": "code",
   "execution_count": 338,
   "metadata": {
    "collapsed": false
   },
   "outputs": [
    {
     "data": {
      "text/plain": [
       "[<matplotlib.lines.Line2D at 0x13d00d290>]"
      ]
     },
     "execution_count": 338,
     "metadata": {},
     "output_type": "execute_result"
    },
    {
     "data": {
      "image/png": "[encoded data removed]",
      "text/plain": [
       "<matplotlib.figure.Figure at 0x138c0e0d0>"
      ]
     },
     "metadata": {},
     "output_type": "display_data"
    }
   ],
   "source": [
    "pca_explained = []\n",
    "for i in range(10,200,10):\n",
    "    N=i\n",
    "    pca = PCA(n_components=N)\n",
    "    pca.fit_transform(df_scaled)\n",
    "    #print sum(pca.explained_variance_ratio_), \"of the variance is explained using\", N, \"components.\"\n",
    "    pca_explained.append(sum(pca.explained_variance_ratio_))\n",
    "plt.plot(range(10,200,10), pca_explained)"
   ]
  },
  {
   "cell_type": "markdown",
   "metadata": {},
   "source": [
    "A naive approach of dimensionality reduction of all possible (scaled and centred) features using PCA does not perform well as measured by the cumulative explained variance ratio. Even with an excessive 100 principal components only explains 42% of the variance."
   ]
  },
  {
   "cell_type": "markdown",
   "metadata": {},
   "source": [
    "## Target variable"
   ]
  },
  {
   "cell_type": "code",
   "execution_count": 38,
   "metadata": {
    "collapsed": false
   },
   "outputs": [
    {
     "name": "stdout",
     "output_type": "stream",
     "text": [
      "(79447, 426)\n"
     ]
    },
    {
     "data": {
      "text/plain": [
       "\"\\ndf_model.dropna(how='any', axis=1, inplace=True)\\nprint df_model.shape\\n\""
      ]
     },
     "execution_count": 38,
     "metadata": {},
     "output_type": "execute_result"
    }
   ],
   "source": [
    "print df_model.shape\n",
    "\"\"\"\n",
    "df_model.dropna(how='any', axis=1, inplace=True)\n",
    "print df_model.shape\n",
    "\"\"\""
   ]
  },
  {
   "cell_type": "code",
   "execution_count": 39,
   "metadata": {
    "collapsed": false
   },
   "outputs": [
    {
     "name": "stdout",
     "output_type": "stream",
     "text": [
      "(79447,)\n",
      "0.0    73087\n",
      "1.0     6360\n",
      "Name: won, dtype: int64\n"
     ]
    }
   ],
   "source": [
    "y = df_model.won\n",
    "print y.shape\n",
    "print y.value_counts()"
   ]
  },
  {
   "cell_type": "code",
   "execution_count": 40,
   "metadata": {
    "collapsed": true
   },
   "outputs": [],
   "source": [
    "X = df_model.drop('won', axis=1)"
   ]
  },
  {
   "cell_type": "code",
   "execution_count": 41,
   "metadata": {
    "collapsed": false
   },
   "outputs": [
    {
     "data": {
      "text/plain": [
       "prize                 73598.0\n",
       "place_odds            75712.0\n",
       "place_dividend3       79307.0\n",
       "place_combination3    79307.0\n",
       "jockey_83             79447.0\n",
       "jockey_82             79447.0\n",
       "jockey_81             79447.0\n",
       "jockey_80             79447.0\n",
       "jockey_79             79447.0\n",
       "jockey_78             79447.0\n",
       "Name: count, dtype: float64"
      ]
     },
     "execution_count": 41,
     "metadata": {},
     "output_type": "execute_result"
    }
   ],
   "source": [
    "X.describe().loc['count'].sort_values()[:10]"
   ]
  },
  {
   "cell_type": "markdown",
   "metadata": {},
   "source": [
    "We'll also drop prize and the other columns with missing values for now. A strategy for imputing these values will be devised later."
   ]
  },
  {
   "cell_type": "code",
   "execution_count": 42,
   "metadata": {
    "collapsed": false
   },
   "outputs": [],
   "source": [
    "X = X.dropna(axis=1, how='any')"
   ]
  },
  {
   "cell_type": "code",
   "execution_count": 43,
   "metadata": {
    "collapsed": false
   },
   "outputs": [
    {
     "data": {
      "text/plain": [
       "race_id      79447.0\n",
       "jockey_81    79447.0\n",
       "jockey_80    79447.0\n",
       "jockey_79    79447.0\n",
       "jockey_78    79447.0\n",
       "jockey_77    79447.0\n",
       "jockey_76    79447.0\n",
       "jockey_75    79447.0\n",
       "jockey_74    79447.0\n",
       "jockey_73    79447.0\n",
       "Name: count, dtype: float64"
      ]
     },
     "execution_count": 43,
     "metadata": {},
     "output_type": "execute_result"
    }
   ],
   "source": [
    "X.describe().loc['count'].sort_values()[:10]"
   ]
  },
  {
   "cell_type": "code",
   "execution_count": 44,
   "metadata": {
    "collapsed": false
   },
   "outputs": [
    {
     "data": {
      "text/html": [
       "<div>\n",
       "<table border=\"1\" class=\"dataframe\">\n",
       "  <thead>\n",
       "    <tr style=\"text-align: right;\">\n",
       "      <th></th>\n",
       "      <th>race_id</th>\n",
       "      <th>horse_no</th>\n",
       "      <th>horse_id</th>\n",
       "      <th>horse_age</th>\n",
       "      <th>horse_rating</th>\n",
       "      <th>declared_weight</th>\n",
       "      <th>actual_weight</th>\n",
       "      <th>win_odds</th>\n",
       "      <th>AUS</th>\n",
       "      <th>BRZ</th>\n",
       "      <th>CAN</th>\n",
       "      <th>FR</th>\n",
       "      <th>GB</th>\n",
       "      <th>GER</th>\n",
       "      <th>GR</th>\n",
       "      <th>IRE</th>\n",
       "      <th>ITY</th>\n",
       "      <th>JPN</th>\n",
       "      <th>NZ</th>\n",
       "      <th>SAF</th>\n",
       "      <th>SPA</th>\n",
       "      <th>USA</th>\n",
       "      <th>ZIM</th>\n",
       "      <th>Colt</th>\n",
       "      <th>Filly</th>\n",
       "      <th>Gelding</th>\n",
       "      <th>Grey</th>\n",
       "      <th>Horse</th>\n",
       "      <th>Mare</th>\n",
       "      <th>Rig</th>\n",
       "      <th>Roan</th>\n",
       "      <th>trainer_1</th>\n",
       "      <th>trainer_2</th>\n",
       "      <th>trainer_3</th>\n",
       "      <th>trainer_4</th>\n",
       "      <th>trainer_5</th>\n",
       "      <th>trainer_6</th>\n",
       "      <th>trainer_7</th>\n",
       "      <th>trainer_8</th>\n",
       "      <th>trainer_9</th>\n",
       "      <th>trainer_10</th>\n",
       "      <th>trainer_11</th>\n",
       "      <th>trainer_12</th>\n",
       "      <th>trainer_13</th>\n",
       "      <th>trainer_14</th>\n",
       "      <th>trainer_15</th>\n",
       "      <th>trainer_16</th>\n",
       "      <th>trainer_17</th>\n",
       "      <th>trainer_18</th>\n",
       "      <th>trainer_19</th>\n",
       "      <th>trainer_20</th>\n",
       "      <th>trainer_21</th>\n",
       "      <th>trainer_22</th>\n",
       "      <th>trainer_23</th>\n",
       "      <th>trainer_24</th>\n",
       "      <th>trainer_25</th>\n",
       "      <th>trainer_26</th>\n",
       "      <th>trainer_27</th>\n",
       "      <th>trainer_28</th>\n",
       "      <th>trainer_29</th>\n",
       "      <th>trainer_30</th>\n",
       "      <th>trainer_31</th>\n",
       "      <th>trainer_32</th>\n",
       "      <th>trainer_33</th>\n",
       "      <th>trainer_34</th>\n",
       "      <th>trainer_35</th>\n",
       "      <th>trainer_36</th>\n",
       "      <th>trainer_37</th>\n",
       "      <th>trainer_38</th>\n",
       "      <th>trainer_39</th>\n",
       "      <th>trainer_40</th>\n",
       "      <th>trainer_41</th>\n",
       "      <th>trainer_42</th>\n",
       "      <th>trainer_43</th>\n",
       "      <th>trainer_44</th>\n",
       "      <th>trainer_45</th>\n",
       "      <th>trainer_46</th>\n",
       "      <th>trainer_47</th>\n",
       "      <th>trainer_48</th>\n",
       "      <th>trainer_49</th>\n",
       "      <th>trainer_50</th>\n",
       "      <th>trainer_51</th>\n",
       "      <th>trainer_52</th>\n",
       "      <th>trainer_53</th>\n",
       "      <th>trainer_54</th>\n",
       "      <th>trainer_55</th>\n",
       "      <th>trainer_56</th>\n",
       "      <th>trainer_57</th>\n",
       "      <th>trainer_58</th>\n",
       "      <th>trainer_59</th>\n",
       "      <th>trainer_60</th>\n",
       "      <th>trainer_61</th>\n",
       "      <th>trainer_62</th>\n",
       "      <th>trainer_63</th>\n",
       "      <th>trainer_64</th>\n",
       "      <th>trainer_65</th>\n",
       "      <th>trainer_66</th>\n",
       "      <th>trainer_67</th>\n",
       "      <th>trainer_68</th>\n",
       "      <th>trainer_69</th>\n",
       "      <th>trainer_70</th>\n",
       "      <th>trainer_71</th>\n",
       "      <th>trainer_72</th>\n",
       "      <th>trainer_73</th>\n",
       "      <th>trainer_74</th>\n",
       "      <th>trainer_75</th>\n",
       "      <th>trainer_76</th>\n",
       "      <th>trainer_77</th>\n",
       "      <th>trainer_78</th>\n",
       "      <th>trainer_79</th>\n",
       "      <th>trainer_80</th>\n",
       "      <th>trainer_81</th>\n",
       "      <th>trainer_82</th>\n",
       "      <th>trainer_83</th>\n",
       "      <th>trainer_84</th>\n",
       "      <th>trainer_85</th>\n",
       "      <th>trainer_86</th>\n",
       "      <th>trainer_87</th>\n",
       "      <th>trainer_88</th>\n",
       "      <th>trainer_89</th>\n",
       "      <th>trainer_90</th>\n",
       "      <th>trainer_91</th>\n",
       "      <th>trainer_92</th>\n",
       "      <th>trainer_93</th>\n",
       "      <th>trainer_94</th>\n",
       "      <th>trainer_95</th>\n",
       "      <th>trainer_96</th>\n",
       "      <th>trainer_97</th>\n",
       "      <th>trainer_98</th>\n",
       "      <th>trainer_99</th>\n",
       "      <th>trainer_100</th>\n",
       "      <th>trainer_101</th>\n",
       "      <th>trainer_102</th>\n",
       "      <th>trainer_103</th>\n",
       "      <th>trainer_104</th>\n",
       "      <th>trainer_105</th>\n",
       "      <th>trainer_106</th>\n",
       "      <th>trainer_107</th>\n",
       "      <th>trainer_108</th>\n",
       "      <th>trainer_109</th>\n",
       "      <th>trainer_110</th>\n",
       "      <th>trainer_111</th>\n",
       "      <th>trainer_112</th>\n",
       "      <th>trainer_113</th>\n",
       "      <th>trainer_114</th>\n",
       "      <th>trainer_115</th>\n",
       "      <th>trainer_116</th>\n",
       "      <th>trainer_117</th>\n",
       "      <th>trainer_118</th>\n",
       "      <th>trainer_119</th>\n",
       "      <th>trainer_120</th>\n",
       "      <th>trainer_121</th>\n",
       "      <th>trainer_122</th>\n",
       "      <th>trainer_123</th>\n",
       "      <th>trainer_124</th>\n",
       "      <th>trainer_125</th>\n",
       "      <th>trainer_126</th>\n",
       "      <th>trainer_127</th>\n",
       "      <th>trainer_128</th>\n",
       "      <th>trainer_129</th>\n",
       "      <th>trainer_130</th>\n",
       "      <th>trainer_131</th>\n",
       "      <th>trainer_132</th>\n",
       "      <th>trainer_133</th>\n",
       "      <th>trainer_134</th>\n",
       "      <th>trainer_135</th>\n",
       "      <th>trainer_136</th>\n",
       "      <th>trainer_137</th>\n",
       "      <th>trainer_138</th>\n",
       "      <th>trainer_139</th>\n",
       "      <th>trainer_140</th>\n",
       "      <th>trainer_141</th>\n",
       "      <th>trainer_142</th>\n",
       "      <th>trainer_143</th>\n",
       "      <th>trainer_144</th>\n",
       "      <th>trainer_145</th>\n",
       "      <th>trainer_146</th>\n",
       "      <th>trainer_147</th>\n",
       "      <th>trainer_148</th>\n",
       "      <th>trainer_149</th>\n",
       "      <th>trainer_150</th>\n",
       "      <th>trainer_151</th>\n",
       "      <th>trainer_152</th>\n",
       "      <th>trainer_153</th>\n",
       "      <th>trainer_154</th>\n",
       "      <th>trainer_155</th>\n",
       "      <th>trainer_156</th>\n",
       "      <th>trainer_157</th>\n",
       "      <th>trainer_158</th>\n",
       "      <th>trainer_159</th>\n",
       "      <th>trainer_160</th>\n",
       "      <th>trainer_161</th>\n",
       "      <th>trainer_162</th>\n",
       "      <th>trainer_163</th>\n",
       "      <th>trainer_164</th>\n",
       "      <th>trainer_165</th>\n",
       "      <th>trainer_166</th>\n",
       "      <th>trainer_167</th>\n",
       "      <th>trainer_168</th>\n",
       "      <th>trainer_169</th>\n",
       "      <th>trainer_170</th>\n",
       "      <th>trainer_171</th>\n",
       "      <th>trainer_172</th>\n",
       "      <th>trainer_173</th>\n",
       "      <th>trainer_174</th>\n",
       "      <th>trainer_175</th>\n",
       "      <th>jockey_1</th>\n",
       "      <th>jockey_2</th>\n",
       "      <th>jockey_3</th>\n",
       "      <th>jockey_4</th>\n",
       "      <th>jockey_5</th>\n",
       "      <th>jockey_6</th>\n",
       "      <th>jockey_7</th>\n",
       "      <th>jockey_8</th>\n",
       "      <th>jockey_9</th>\n",
       "      <th>jockey_10</th>\n",
       "      <th>jockey_11</th>\n",
       "      <th>jockey_12</th>\n",
       "      <th>jockey_13</th>\n",
       "      <th>jockey_14</th>\n",
       "      <th>jockey_15</th>\n",
       "      <th>jockey_16</th>\n",
       "      <th>jockey_17</th>\n",
       "      <th>jockey_18</th>\n",
       "      <th>jockey_19</th>\n",
       "      <th>jockey_20</th>\n",
       "      <th>jockey_21</th>\n",
       "      <th>jockey_22</th>\n",
       "      <th>jockey_23</th>\n",
       "      <th>jockey_24</th>\n",
       "      <th>jockey_25</th>\n",
       "      <th>jockey_26</th>\n",
       "      <th>jockey_27</th>\n",
       "      <th>jockey_28</th>\n",
       "      <th>jockey_29</th>\n",
       "      <th>jockey_30</th>\n",
       "      <th>jockey_31</th>\n",
       "      <th>jockey_32</th>\n",
       "      <th>jockey_33</th>\n",
       "      <th>jockey_34</th>\n",
       "      <th>jockey_35</th>\n",
       "      <th>jockey_36</th>\n",
       "      <th>jockey_37</th>\n",
       "      <th>jockey_38</th>\n",
       "      <th>jockey_39</th>\n",
       "      <th>jockey_40</th>\n",
       "      <th>jockey_41</th>\n",
       "      <th>jockey_42</th>\n",
       "      <th>jockey_43</th>\n",
       "      <th>jockey_44</th>\n",
       "      <th>jockey_45</th>\n",
       "      <th>jockey_46</th>\n",
       "      <th>jockey_47</th>\n",
       "      <th>jockey_48</th>\n",
       "      <th>jockey_49</th>\n",
       "      <th>jockey_50</th>\n",
       "      <th>jockey_51</th>\n",
       "      <th>jockey_52</th>\n",
       "      <th>jockey_53</th>\n",
       "      <th>jockey_54</th>\n",
       "      <th>jockey_55</th>\n",
       "      <th>jockey_56</th>\n",
       "      <th>jockey_57</th>\n",
       "      <th>jockey_58</th>\n",
       "      <th>jockey_59</th>\n",
       "      <th>jockey_60</th>\n",
       "      <th>jockey_61</th>\n",
       "      <th>jockey_62</th>\n",
       "      <th>jockey_63</th>\n",
       "      <th>jockey_64</th>\n",
       "      <th>jockey_65</th>\n",
       "      <th>jockey_66</th>\n",
       "      <th>jockey_67</th>\n",
       "      <th>jockey_68</th>\n",
       "      <th>jockey_69</th>\n",
       "      <th>jockey_70</th>\n",
       "      <th>jockey_71</th>\n",
       "      <th>jockey_72</th>\n",
       "      <th>jockey_73</th>\n",
       "      <th>jockey_74</th>\n",
       "      <th>jockey_75</th>\n",
       "      <th>jockey_76</th>\n",
       "      <th>jockey_77</th>\n",
       "      <th>jockey_78</th>\n",
       "      <th>jockey_79</th>\n",
       "      <th>jockey_80</th>\n",
       "      <th>jockey_81</th>\n",
       "      <th>jockey_82</th>\n",
       "      <th>jockey_83</th>\n",
       "      <th>jockey_84</th>\n",
       "      <th>jockey_85</th>\n",
       "      <th>jockey_86</th>\n",
       "      <th>jockey_87</th>\n",
       "      <th>jockey_88</th>\n",
       "      <th>jockey_89</th>\n",
       "      <th>jockey_90</th>\n",
       "      <th>jockey_91</th>\n",
       "      <th>jockey_92</th>\n",
       "      <th>jockey_93</th>\n",
       "      <th>jockey_94</th>\n",
       "      <th>jockey_95</th>\n",
       "      <th>jockey_96</th>\n",
       "      <th>jockey_97</th>\n",
       "      <th>jockey_98</th>\n",
       "      <th>jockey_99</th>\n",
       "      <th>jockey_100</th>\n",
       "      <th>jockey_101</th>\n",
       "      <th>jockey_102</th>\n",
       "      <th>jockey_103</th>\n",
       "      <th>jockey_104</th>\n",
       "      <th>jockey_105</th>\n",
       "      <th>jockey_106</th>\n",
       "      <th>jockey_107</th>\n",
       "      <th>jockey_108</th>\n",
       "      <th>jockey_109</th>\n",
       "      <th>jockey_110</th>\n",
       "      <th>jockey_111</th>\n",
       "      <th>jockey_112</th>\n",
       "      <th>jockey_113</th>\n",
       "      <th>jockey_114</th>\n",
       "      <th>jockey_115</th>\n",
       "      <th>jockey_116</th>\n",
       "      <th>jockey_117</th>\n",
       "      <th>jockey_118</th>\n",
       "      <th>jockey_119</th>\n",
       "      <th>jockey_120</th>\n",
       "      <th>jockey_121</th>\n",
       "      <th>jockey_122</th>\n",
       "      <th>jockey_123</th>\n",
       "      <th>jockey_124</th>\n",
       "      <th>jockey_125</th>\n",
       "      <th>jockey_126</th>\n",
       "      <th>jockey_127</th>\n",
       "      <th>jockey_128</th>\n",
       "      <th>jockey_129</th>\n",
       "      <th>jockey_130</th>\n",
       "      <th>jockey_131</th>\n",
       "      <th>jockey_132</th>\n",
       "      <th>jockey_133</th>\n",
       "      <th>jockey_134</th>\n",
       "      <th>jockey_135</th>\n",
       "      <th>jockey_136</th>\n",
       "      <th>jockey_137</th>\n",
       "      <th>jockey_138</th>\n",
       "      <th>jockey_139</th>\n",
       "      <th>jockey_140</th>\n",
       "      <th>jockey_141</th>\n",
       "      <th>jockey_142</th>\n",
       "      <th>jockey_143</th>\n",
       "      <th>jockey_144</th>\n",
       "      <th>jockey_145</th>\n",
       "      <th>jockey_146</th>\n",
       "      <th>jockey_147</th>\n",
       "      <th>jockey_148</th>\n",
       "      <th>jockey_149</th>\n",
       "      <th>jockey_150</th>\n",
       "      <th>jockey_151</th>\n",
       "      <th>jockey_152</th>\n",
       "      <th>jockey_153</th>\n",
       "      <th>jockey_154</th>\n",
       "      <th>jockey_155</th>\n",
       "      <th>jockey_156</th>\n",
       "      <th>jockey_157</th>\n",
       "      <th>jockey_158</th>\n",
       "      <th>jockey_159</th>\n",
       "      <th>jockey_160</th>\n",
       "      <th>jockey_161</th>\n",
       "      <th>jockey_162</th>\n",
       "      <th>jockey_163</th>\n",
       "      <th>jockey_164</th>\n",
       "      <th>jockey_165</th>\n",
       "      <th>jockey_166</th>\n",
       "      <th>jockey_167</th>\n",
       "      <th>jockey_168</th>\n",
       "      <th>jockey_169</th>\n",
       "      <th>jockey_170</th>\n",
       "      <th>jockey_171</th>\n",
       "      <th>jockey_172</th>\n",
       "      <th>jockey_173</th>\n",
       "      <th>jockey_174</th>\n",
       "      <th>jockey_175</th>\n",
       "      <th>jockey_176</th>\n",
       "      <th>jockey_177</th>\n",
       "      <th>jockey_178</th>\n",
       "      <th>jockey_179</th>\n",
       "      <th>jockey_180</th>\n",
       "      <th>jockey_181</th>\n",
       "      <th>jockey_182</th>\n",
       "      <th>jockey_183</th>\n",
       "      <th>jockey_184</th>\n",
       "      <th>jockey_185</th>\n",
       "      <th>race_no</th>\n",
       "      <th>surface</th>\n",
       "      <th>distance</th>\n",
       "      <th>place_combination1</th>\n",
       "      <th>place_combination2</th>\n",
       "      <th>place_dividend1</th>\n",
       "      <th>place_dividend2</th>\n",
       "      <th>win_combination1</th>\n",
       "      <th>win_dividend1</th>\n",
       "      <th>year</th>\n",
       "      <th>month</th>\n",
       "      <th>day</th>\n",
       "      <th>ST</th>\n",
       "      <th>config_A+3</th>\n",
       "      <th>config_B</th>\n",
       "      <th>config_B+2</th>\n",
       "      <th>config_C</th>\n",
       "      <th>config_C+3</th>\n",
       "      <th>GOOD</th>\n",
       "      <th>GOOD TO FIRM</th>\n",
       "      <th>GOOD TO YIELDING</th>\n",
       "      <th>SLOW</th>\n",
       "      <th>SOFT</th>\n",
       "      <th>WET FAST</th>\n",
       "      <th>WET SLOW</th>\n",
       "      <th>YIELDING</th>\n",
       "      <th>YIELDING TO SOFT</th>\n",
       "      <th>racing_class</th>\n",
       "      <th>restricted_race</th>\n",
       "      <th>bonus_race</th>\n",
       "    </tr>\n",
       "  </thead>\n",
       "  <tbody>\n",
       "    <tr>\n",
       "      <th>0</th>\n",
       "      <td>0</td>\n",
       "      <td>1</td>\n",
       "      <td>3917</td>\n",
       "      <td>3</td>\n",
       "      <td>60</td>\n",
       "      <td>1020.0</td>\n",
       "      <td>133</td>\n",
       "      <td>9.7</td>\n",
       "      <td>1</td>\n",
       "      <td>0</td>\n",
       "      <td>0</td>\n",
       "      <td>0</td>\n",
       "      <td>0</td>\n",
       "      <td>0</td>\n",
       "      <td>0</td>\n",
       "      <td>0</td>\n",
       "      <td>0</td>\n",
       "      <td>0</td>\n",
       "      <td>0</td>\n",
       "      <td>0</td>\n",
       "      <td>0</td>\n",
       "      <td>0</td>\n",
       "      <td>0</td>\n",
       "      <td>0</td>\n",
       "      <td>0</td>\n",
       "      <td>1</td>\n",
       "      <td>0</td>\n",
       "      <td>0</td>\n",
       "      <td>0</td>\n",
       "      <td>0</td>\n",
       "      <td>0</td>\n",
       "      <td>0</td>\n",
       "      <td>0</td>\n",
       "      <td>0</td>\n",
       "      <td>0</td>\n",
       "      <td>0</td>\n",
       "      <td>0</td>\n",
       "      <td>0</td>\n",
       "      <td>0</td>\n",
       "      <td>0</td>\n",
       "      <td>0</td>\n",
       "      <td>0</td>\n",
       "      <td>0</td>\n",
       "      <td>0</td>\n",
       "      <td>0</td>\n",
       "      <td>0</td>\n",
       "      <td>0</td>\n",
       "      <td>0</td>\n",
       "      <td>0</td>\n",
       "      <td>0</td>\n",
       "      <td>0</td>\n",
       "      <td>0</td>\n",
       "      <td>0</td>\n",
       "      <td>0</td>\n",
       "      <td>0</td>\n",
       "      <td>0</td>\n",
       "      <td>0</td>\n",
       "      <td>0</td>\n",
       "      <td>0</td>\n",
       "      <td>0</td>\n",
       "      <td>0</td>\n",
       "      <td>0</td>\n",
       "      <td>0</td>\n",
       "      <td>0</td>\n",
       "      <td>0</td>\n",
       "      <td>0</td>\n",
       "      <td>0</td>\n",
       "      <td>0</td>\n",
       "      <td>0</td>\n",
       "      <td>0</td>\n",
       "      <td>0</td>\n",
       "      <td>0</td>\n",
       "      <td>0</td>\n",
       "      <td>0</td>\n",
       "      <td>0</td>\n",
       "      <td>0</td>\n",
       "      <td>0</td>\n",
       "      <td>0</td>\n",
       "      <td>0</td>\n",
       "      <td>0</td>\n",
       "      <td>0</td>\n",
       "      <td>0</td>\n",
       "      <td>0</td>\n",
       "      <td>0</td>\n",
       "      <td>0</td>\n",
       "      <td>0</td>\n",
       "      <td>0</td>\n",
       "      <td>0</td>\n",
       "      <td>0</td>\n",
       "      <td>0</td>\n",
       "      <td>0</td>\n",
       "      <td>0</td>\n",
       "      <td>0</td>\n",
       "      <td>0</td>\n",
       "      <td>0</td>\n",
       "      <td>0</td>\n",
       "      <td>0</td>\n",
       "      <td>0</td>\n",
       "      <td>0</td>\n",
       "      <td>0</td>\n",
       "      <td>0</td>\n",
       "      <td>0</td>\n",
       "      <td>0</td>\n",
       "      <td>0</td>\n",
       "      <td>0</td>\n",
       "      <td>0</td>\n",
       "      <td>0</td>\n",
       "      <td>0</td>\n",
       "      <td>0</td>\n",
       "      <td>0</td>\n",
       "      <td>0</td>\n",
       "      <td>0</td>\n",
       "      <td>0</td>\n",
       "      <td>0</td>\n",
       "      <td>0</td>\n",
       "      <td>0</td>\n",
       "      <td>0</td>\n",
       "      <td>0</td>\n",
       "      <td>0</td>\n",
       "      <td>0</td>\n",
       "      <td>0</td>\n",
       "      <td>0</td>\n",
       "      <td>0</td>\n",
       "      <td>0</td>\n",
       "      <td>0</td>\n",
       "      <td>0</td>\n",
       "      <td>0</td>\n",
       "      <td>0</td>\n",
       "      <td>0</td>\n",
       "      <td>0</td>\n",
       "      <td>0</td>\n",
       "      <td>0</td>\n",
       "      <td>0</td>\n",
       "      <td>0</td>\n",
       "      <td>0</td>\n",
       "      <td>0</td>\n",
       "      <td>0</td>\n",
       "      <td>0</td>\n",
       "      <td>0</td>\n",
       "      <td>0</td>\n",
       "      <td>0</td>\n",
       "      <td>0</td>\n",
       "      <td>0</td>\n",
       "      <td>0</td>\n",
       "      <td>0</td>\n",
       "      <td>0</td>\n",
       "      <td>0</td>\n",
       "      <td>0</td>\n",
       "      <td>1</td>\n",
       "      <td>0</td>\n",
       "      <td>0</td>\n",
       "      <td>0</td>\n",
       "      <td>0</td>\n",
       "      <td>0</td>\n",
       "      <td>0</td>\n",
       "      <td>0</td>\n",
       "      <td>0</td>\n",
       "      <td>0</td>\n",
       "      <td>0</td>\n",
       "      <td>0</td>\n",
       "      <td>0</td>\n",
       "      <td>0</td>\n",
       "      <td>0</td>\n",
       "      <td>0</td>\n",
       "      <td>0</td>\n",
       "      <td>0</td>\n",
       "      <td>0</td>\n",
       "      <td>0</td>\n",
       "      <td>0</td>\n",
       "      <td>0</td>\n",
       "      <td>0</td>\n",
       "      <td>0</td>\n",
       "      <td>0</td>\n",
       "      <td>0</td>\n",
       "      <td>0</td>\n",
       "      <td>0</td>\n",
       "      <td>0</td>\n",
       "      <td>0</td>\n",
       "      <td>0</td>\n",
       "      <td>0</td>\n",
       "      <td>0</td>\n",
       "      <td>0</td>\n",
       "      <td>0</td>\n",
       "      <td>0</td>\n",
       "      <td>0</td>\n",
       "      <td>0</td>\n",
       "      <td>0</td>\n",
       "      <td>0</td>\n",
       "      <td>0</td>\n",
       "      <td>0</td>\n",
       "      <td>0</td>\n",
       "      <td>0</td>\n",
       "      <td>0</td>\n",
       "      <td>0</td>\n",
       "      <td>0</td>\n",
       "      <td>0</td>\n",
       "      <td>0</td>\n",
       "      <td>0</td>\n",
       "      <td>0</td>\n",
       "      <td>0</td>\n",
       "      <td>0</td>\n",
       "      <td>0</td>\n",
       "      <td>0</td>\n",
       "      <td>0</td>\n",
       "      <td>0</td>\n",
       "      <td>0</td>\n",
       "      <td>0</td>\n",
       "      <td>1</td>\n",
       "      <td>0</td>\n",
       "      <td>0</td>\n",
       "      <td>0</td>\n",
       "      <td>0</td>\n",
       "      <td>0</td>\n",
       "      <td>0</td>\n",
       "      <td>0</td>\n",
       "      <td>0</td>\n",
       "      <td>0</td>\n",
       "      <td>0</td>\n",
       "      <td>0</td>\n",
       "      <td>0</td>\n",
       "      <td>0</td>\n",
       "      <td>0</td>\n",
       "      <td>0</td>\n",
       "      <td>0</td>\n",
       "      <td>0</td>\n",
       "      <td>0</td>\n",
       "      <td>0</td>\n",
       "      <td>0</td>\n",
       "      <td>0</td>\n",
       "      <td>0</td>\n",
       "      <td>0</td>\n",
       "      <td>0</td>\n",
       "      <td>0</td>\n",
       "      <td>0</td>\n",
       "      <td>0</td>\n",
       "      <td>0</td>\n",
       "      <td>0</td>\n",
       "      <td>0</td>\n",
       "      <td>0</td>\n",
       "      <td>0</td>\n",
       "      <td>0</td>\n",
       "      <td>0</td>\n",
       "      <td>0</td>\n",
       "      <td>0</td>\n",
       "      <td>0</td>\n",
       "      <td>0</td>\n",
       "      <td>0</td>\n",
       "      <td>0</td>\n",
       "      <td>0</td>\n",
       "      <td>0</td>\n",
       "      <td>0</td>\n",
       "      <td>0</td>\n",
       "      <td>0</td>\n",
       "      <td>0</td>\n",
       "      <td>0</td>\n",
       "      <td>0</td>\n",
       "      <td>0</td>\n",
       "      <td>0</td>\n",
       "      <td>0</td>\n",
       "      <td>0</td>\n",
       "      <td>0</td>\n",
       "      <td>0</td>\n",
       "      <td>0</td>\n",
       "      <td>0</td>\n",
       "      <td>0</td>\n",
       "      <td>0</td>\n",
       "      <td>0</td>\n",
       "      <td>0</td>\n",
       "      <td>0</td>\n",
       "      <td>0</td>\n",
       "      <td>0</td>\n",
       "      <td>0</td>\n",
       "      <td>0</td>\n",
       "      <td>0</td>\n",
       "      <td>0</td>\n",
       "      <td>0</td>\n",
       "      <td>0</td>\n",
       "      <td>0</td>\n",
       "      <td>0</td>\n",
       "      <td>0</td>\n",
       "      <td>0</td>\n",
       "      <td>0</td>\n",
       "      <td>0</td>\n",
       "      <td>0</td>\n",
       "      <td>0</td>\n",
       "      <td>0</td>\n",
       "      <td>0</td>\n",
       "      <td>0</td>\n",
       "      <td>0</td>\n",
       "      <td>0</td>\n",
       "      <td>0</td>\n",
       "      <td>0</td>\n",
       "      <td>0</td>\n",
       "      <td>0</td>\n",
       "      <td>0</td>\n",
       "      <td>0</td>\n",
       "      <td>0</td>\n",
       "      <td>0</td>\n",
       "      <td>0</td>\n",
       "      <td>0</td>\n",
       "      <td>0</td>\n",
       "      <td>0</td>\n",
       "      <td>0</td>\n",
       "      <td>0</td>\n",
       "      <td>0</td>\n",
       "      <td>0</td>\n",
       "      <td>0</td>\n",
       "      <td>0</td>\n",
       "      <td>0</td>\n",
       "      <td>0</td>\n",
       "      <td>0</td>\n",
       "      <td>0</td>\n",
       "      <td>0</td>\n",
       "      <td>0</td>\n",
       "      <td>0</td>\n",
       "      <td>0</td>\n",
       "      <td>0</td>\n",
       "      <td>0</td>\n",
       "      <td>0</td>\n",
       "      <td>0</td>\n",
       "      <td>0</td>\n",
       "      <td>0</td>\n",
       "      <td>0</td>\n",
       "      <td>0</td>\n",
       "      <td>0</td>\n",
       "      <td>0</td>\n",
       "      <td>0</td>\n",
       "      <td>0</td>\n",
       "      <td>0</td>\n",
       "      <td>0</td>\n",
       "      <td>0</td>\n",
       "      <td>0</td>\n",
       "      <td>0</td>\n",
       "      <td>0</td>\n",
       "      <td>0</td>\n",
       "      <td>0</td>\n",
       "      <td>0</td>\n",
       "      <td>0</td>\n",
       "      <td>0</td>\n",
       "      <td>0</td>\n",
       "      <td>0</td>\n",
       "      <td>0</td>\n",
       "      <td>0</td>\n",
       "      <td>0</td>\n",
       "      <td>0</td>\n",
       "      <td>0</td>\n",
       "      <td>0</td>\n",
       "      <td>0</td>\n",
       "      <td>0</td>\n",
       "      <td>0</td>\n",
       "      <td>0</td>\n",
       "      <td>0</td>\n",
       "      <td>0</td>\n",
       "      <td>0</td>\n",
       "      <td>0</td>\n",
       "      <td>0</td>\n",
       "      <td>0</td>\n",
       "      <td>0</td>\n",
       "      <td>0</td>\n",
       "      <td>0</td>\n",
       "      <td>0</td>\n",
       "      <td>0</td>\n",
       "      <td>0</td>\n",
       "      <td>0</td>\n",
       "      <td>0</td>\n",
       "      <td>0</td>\n",
       "      <td>0</td>\n",
       "      <td>0</td>\n",
       "      <td>0</td>\n",
       "      <td>0</td>\n",
       "      <td>0</td>\n",
       "      <td>0</td>\n",
       "      <td>0</td>\n",
       "      <td>0</td>\n",
       "      <td>0</td>\n",
       "      <td>0</td>\n",
       "      <td>0</td>\n",
       "      <td>0</td>\n",
       "      <td>0</td>\n",
       "      <td>0</td>\n",
       "      <td>0</td>\n",
       "      <td>0</td>\n",
       "      <td>0</td>\n",
       "      <td>0</td>\n",
       "      <td>0</td>\n",
       "      <td>0</td>\n",
       "      <td>0</td>\n",
       "      <td>0</td>\n",
       "      <td>0</td>\n",
       "      <td>0</td>\n",
       "      <td>0</td>\n",
       "      <td>1</td>\n",
       "      <td>0</td>\n",
       "      <td>1400</td>\n",
       "      <td>8</td>\n",
       "      <td>11</td>\n",
       "      <td>36.5</td>\n",
       "      <td>25.5</td>\n",
       "      <td>8</td>\n",
       "      <td>121.0</td>\n",
       "      <td>1997</td>\n",
       "      <td>6</td>\n",
       "      <td>2</td>\n",
       "      <td>1</td>\n",
       "      <td>0</td>\n",
       "      <td>0</td>\n",
       "      <td>0</td>\n",
       "      <td>0</td>\n",
       "      <td>0</td>\n",
       "      <td>0</td>\n",
       "      <td>1</td>\n",
       "      <td>0</td>\n",
       "      <td>0</td>\n",
       "      <td>0</td>\n",
       "      <td>0</td>\n",
       "      <td>0</td>\n",
       "      <td>0</td>\n",
       "      <td>0</td>\n",
       "      <td>5</td>\n",
       "      <td>0</td>\n",
       "      <td>0</td>\n",
       "    </tr>\n",
       "    <tr>\n",
       "      <th>1</th>\n",
       "      <td>0</td>\n",
       "      <td>2</td>\n",
       "      <td>2157</td>\n",
       "      <td>3</td>\n",
       "      <td>60</td>\n",
       "      <td>980.0</td>\n",
       "      <td>133</td>\n",
       "      <td>16.0</td>\n",
       "      <td>0</td>\n",
       "      <td>0</td>\n",
       "      <td>0</td>\n",
       "      <td>0</td>\n",
       "      <td>0</td>\n",
       "      <td>0</td>\n",
       "      <td>0</td>\n",
       "      <td>0</td>\n",
       "      <td>0</td>\n",
       "      <td>0</td>\n",
       "      <td>1</td>\n",
       "      <td>0</td>\n",
       "      <td>0</td>\n",
       "      <td>0</td>\n",
       "      <td>0</td>\n",
       "      <td>0</td>\n",
       "      <td>0</td>\n",
       "      <td>1</td>\n",
       "      <td>0</td>\n",
       "      <td>0</td>\n",
       "      <td>0</td>\n",
       "      <td>0</td>\n",
       "      <td>0</td>\n",
       "      <td>0</td>\n",
       "      <td>0</td>\n",
       "      <td>0</td>\n",
       "      <td>0</td>\n",
       "      <td>0</td>\n",
       "      <td>0</td>\n",
       "      <td>0</td>\n",
       "      <td>0</td>\n",
       "      <td>0</td>\n",
       "      <td>0</td>\n",
       "      <td>0</td>\n",
       "      <td>0</td>\n",
       "      <td>0</td>\n",
       "      <td>0</td>\n",
       "      <td>0</td>\n",
       "      <td>0</td>\n",
       "      <td>0</td>\n",
       "      <td>0</td>\n",
       "      <td>0</td>\n",
       "      <td>0</td>\n",
       "      <td>0</td>\n",
       "      <td>0</td>\n",
       "      <td>0</td>\n",
       "      <td>0</td>\n",
       "      <td>0</td>\n",
       "      <td>0</td>\n",
       "      <td>0</td>\n",
       "      <td>0</td>\n",
       "      <td>0</td>\n",
       "      <td>0</td>\n",
       "      <td>0</td>\n",
       "      <td>0</td>\n",
       "      <td>0</td>\n",
       "      <td>0</td>\n",
       "      <td>0</td>\n",
       "      <td>0</td>\n",
       "      <td>0</td>\n",
       "      <td>0</td>\n",
       "      <td>0</td>\n",
       "      <td>0</td>\n",
       "      <td>0</td>\n",
       "      <td>0</td>\n",
       "      <td>0</td>\n",
       "      <td>0</td>\n",
       "      <td>0</td>\n",
       "      <td>0</td>\n",
       "      <td>0</td>\n",
       "      <td>0</td>\n",
       "      <td>0</td>\n",
       "      <td>0</td>\n",
       "      <td>0</td>\n",
       "      <td>0</td>\n",
       "      <td>0</td>\n",
       "      <td>0</td>\n",
       "      <td>0</td>\n",
       "      <td>0</td>\n",
       "      <td>0</td>\n",
       "      <td>0</td>\n",
       "      <td>0</td>\n",
       "      <td>0</td>\n",
       "      <td>0</td>\n",
       "      <td>0</td>\n",
       "      <td>0</td>\n",
       "      <td>0</td>\n",
       "      <td>0</td>\n",
       "      <td>0</td>\n",
       "      <td>0</td>\n",
       "      <td>0</td>\n",
       "      <td>0</td>\n",
       "      <td>0</td>\n",
       "      <td>0</td>\n",
       "      <td>0</td>\n",
       "      <td>0</td>\n",
       "      <td>0</td>\n",
       "      <td>0</td>\n",
       "      <td>0</td>\n",
       "      <td>0</td>\n",
       "      <td>0</td>\n",
       "      <td>0</td>\n",
       "      <td>0</td>\n",
       "      <td>0</td>\n",
       "      <td>0</td>\n",
       "      <td>0</td>\n",
       "      <td>0</td>\n",
       "      <td>0</td>\n",
       "      <td>0</td>\n",
       "      <td>0</td>\n",
       "      <td>0</td>\n",
       "      <td>0</td>\n",
       "      <td>0</td>\n",
       "      <td>0</td>\n",
       "      <td>0</td>\n",
       "      <td>0</td>\n",
       "      <td>0</td>\n",
       "      <td>0</td>\n",
       "      <td>0</td>\n",
       "      <td>0</td>\n",
       "      <td>0</td>\n",
       "      <td>0</td>\n",
       "      <td>0</td>\n",
       "      <td>0</td>\n",
       "      <td>0</td>\n",
       "      <td>0</td>\n",
       "      <td>0</td>\n",
       "      <td>0</td>\n",
       "      <td>0</td>\n",
       "      <td>0</td>\n",
       "      <td>0</td>\n",
       "      <td>0</td>\n",
       "      <td>0</td>\n",
       "      <td>0</td>\n",
       "      <td>0</td>\n",
       "      <td>0</td>\n",
       "      <td>0</td>\n",
       "      <td>0</td>\n",
       "      <td>0</td>\n",
       "      <td>0</td>\n",
       "      <td>0</td>\n",
       "      <td>0</td>\n",
       "      <td>0</td>\n",
       "      <td>0</td>\n",
       "      <td>0</td>\n",
       "      <td>0</td>\n",
       "      <td>0</td>\n",
       "      <td>0</td>\n",
       "      <td>0</td>\n",
       "      <td>0</td>\n",
       "      <td>0</td>\n",
       "      <td>0</td>\n",
       "      <td>0</td>\n",
       "      <td>0</td>\n",
       "      <td>0</td>\n",
       "      <td>0</td>\n",
       "      <td>0</td>\n",
       "      <td>0</td>\n",
       "      <td>0</td>\n",
       "      <td>0</td>\n",
       "      <td>0</td>\n",
       "      <td>0</td>\n",
       "      <td>0</td>\n",
       "      <td>0</td>\n",
       "      <td>0</td>\n",
       "      <td>0</td>\n",
       "      <td>0</td>\n",
       "      <td>0</td>\n",
       "      <td>0</td>\n",
       "      <td>0</td>\n",
       "      <td>0</td>\n",
       "      <td>0</td>\n",
       "      <td>0</td>\n",
       "      <td>0</td>\n",
       "      <td>0</td>\n",
       "      <td>0</td>\n",
       "      <td>0</td>\n",
       "      <td>0</td>\n",
       "      <td>0</td>\n",
       "      <td>0</td>\n",
       "      <td>0</td>\n",
       "      <td>0</td>\n",
       "      <td>0</td>\n",
       "      <td>0</td>\n",
       "      <td>0</td>\n",
       "      <td>0</td>\n",
       "      <td>1</td>\n",
       "      <td>0</td>\n",
       "      <td>0</td>\n",
       "      <td>0</td>\n",
       "      <td>0</td>\n",
       "      <td>0</td>\n",
       "      <td>0</td>\n",
       "      <td>0</td>\n",
       "      <td>0</td>\n",
       "      <td>0</td>\n",
       "      <td>0</td>\n",
       "      <td>0</td>\n",
       "      <td>0</td>\n",
       "      <td>0</td>\n",
       "      <td>0</td>\n",
       "      <td>0</td>\n",
       "      <td>0</td>\n",
       "      <td>0</td>\n",
       "      <td>0</td>\n",
       "      <td>0</td>\n",
       "      <td>0</td>\n",
       "      <td>0</td>\n",
       "      <td>0</td>\n",
       "      <td>0</td>\n",
       "      <td>0</td>\n",
       "      <td>0</td>\n",
       "      <td>0</td>\n",
       "      <td>0</td>\n",
       "      <td>0</td>\n",
       "      <td>0</td>\n",
       "      <td>0</td>\n",
       "      <td>0</td>\n",
       "      <td>0</td>\n",
       "      <td>0</td>\n",
       "      <td>0</td>\n",
       "      <td>0</td>\n",
       "      <td>0</td>\n",
       "      <td>0</td>\n",
       "      <td>0</td>\n",
       "      <td>0</td>\n",
       "      <td>0</td>\n",
       "      <td>0</td>\n",
       "      <td>0</td>\n",
       "      <td>0</td>\n",
       "      <td>0</td>\n",
       "      <td>0</td>\n",
       "      <td>0</td>\n",
       "      <td>0</td>\n",
       "      <td>0</td>\n",
       "      <td>0</td>\n",
       "      <td>0</td>\n",
       "      <td>0</td>\n",
       "      <td>0</td>\n",
       "      <td>0</td>\n",
       "      <td>0</td>\n",
       "      <td>0</td>\n",
       "      <td>0</td>\n",
       "      <td>0</td>\n",
       "      <td>0</td>\n",
       "      <td>0</td>\n",
       "      <td>0</td>\n",
       "      <td>0</td>\n",
       "      <td>0</td>\n",
       "      <td>0</td>\n",
       "      <td>0</td>\n",
       "      <td>0</td>\n",
       "      <td>0</td>\n",
       "      <td>0</td>\n",
       "      <td>1</td>\n",
       "      <td>0</td>\n",
       "      <td>0</td>\n",
       "      <td>0</td>\n",
       "      <td>0</td>\n",
       "      <td>0</td>\n",
       "      <td>0</td>\n",
       "      <td>0</td>\n",
       "      <td>0</td>\n",
       "      <td>0</td>\n",
       "      <td>0</td>\n",
       "      <td>0</td>\n",
       "      <td>0</td>\n",
       "      <td>0</td>\n",
       "      <td>0</td>\n",
       "      <td>0</td>\n",
       "      <td>0</td>\n",
       "      <td>0</td>\n",
       "      <td>0</td>\n",
       "      <td>0</td>\n",
       "      <td>0</td>\n",
       "      <td>0</td>\n",
       "      <td>0</td>\n",
       "      <td>0</td>\n",
       "      <td>0</td>\n",
       "      <td>0</td>\n",
       "      <td>0</td>\n",
       "      <td>0</td>\n",
       "      <td>0</td>\n",
       "      <td>0</td>\n",
       "      <td>0</td>\n",
       "      <td>0</td>\n",
       "      <td>0</td>\n",
       "      <td>0</td>\n",
       "      <td>0</td>\n",
       "      <td>0</td>\n",
       "      <td>0</td>\n",
       "      <td>0</td>\n",
       "      <td>0</td>\n",
       "      <td>0</td>\n",
       "      <td>0</td>\n",
       "      <td>0</td>\n",
       "      <td>0</td>\n",
       "      <td>0</td>\n",
       "      <td>0</td>\n",
       "      <td>0</td>\n",
       "      <td>0</td>\n",
       "      <td>0</td>\n",
       "      <td>0</td>\n",
       "      <td>0</td>\n",
       "      <td>0</td>\n",
       "      <td>0</td>\n",
       "      <td>0</td>\n",
       "      <td>0</td>\n",
       "      <td>0</td>\n",
       "      <td>0</td>\n",
       "      <td>0</td>\n",
       "      <td>0</td>\n",
       "      <td>0</td>\n",
       "      <td>0</td>\n",
       "      <td>0</td>\n",
       "      <td>0</td>\n",
       "      <td>0</td>\n",
       "      <td>0</td>\n",
       "      <td>0</td>\n",
       "      <td>0</td>\n",
       "      <td>0</td>\n",
       "      <td>0</td>\n",
       "      <td>0</td>\n",
       "      <td>0</td>\n",
       "      <td>0</td>\n",
       "      <td>0</td>\n",
       "      <td>0</td>\n",
       "      <td>0</td>\n",
       "      <td>0</td>\n",
       "      <td>0</td>\n",
       "      <td>0</td>\n",
       "      <td>0</td>\n",
       "      <td>0</td>\n",
       "      <td>0</td>\n",
       "      <td>0</td>\n",
       "      <td>0</td>\n",
       "      <td>0</td>\n",
       "      <td>0</td>\n",
       "      <td>0</td>\n",
       "      <td>0</td>\n",
       "      <td>0</td>\n",
       "      <td>0</td>\n",
       "      <td>0</td>\n",
       "      <td>0</td>\n",
       "      <td>0</td>\n",
       "      <td>0</td>\n",
       "      <td>0</td>\n",
       "      <td>0</td>\n",
       "      <td>0</td>\n",
       "      <td>0</td>\n",
       "      <td>0</td>\n",
       "      <td>0</td>\n",
       "      <td>0</td>\n",
       "      <td>0</td>\n",
       "      <td>0</td>\n",
       "      <td>0</td>\n",
       "      <td>0</td>\n",
       "      <td>0</td>\n",
       "      <td>0</td>\n",
       "      <td>0</td>\n",
       "      <td>0</td>\n",
       "      <td>0</td>\n",
       "      <td>0</td>\n",
       "      <td>0</td>\n",
       "      <td>0</td>\n",
       "      <td>0</td>\n",
       "      <td>0</td>\n",
       "      <td>0</td>\n",
       "      <td>0</td>\n",
       "      <td>0</td>\n",
       "      <td>0</td>\n",
       "      <td>0</td>\n",
       "      <td>0</td>\n",
       "      <td>0</td>\n",
       "      <td>0</td>\n",
       "      <td>0</td>\n",
       "      <td>0</td>\n",
       "      <td>0</td>\n",
       "      <td>0</td>\n",
       "      <td>0</td>\n",
       "      <td>0</td>\n",
       "      <td>0</td>\n",
       "      <td>0</td>\n",
       "      <td>1</td>\n",
       "      <td>0</td>\n",
       "      <td>1400</td>\n",
       "      <td>8</td>\n",
       "      <td>11</td>\n",
       "      <td>36.5</td>\n",
       "      <td>25.5</td>\n",
       "      <td>8</td>\n",
       "      <td>121.0</td>\n",
       "      <td>1997</td>\n",
       "      <td>6</td>\n",
       "      <td>2</td>\n",
       "      <td>1</td>\n",
       "      <td>0</td>\n",
       "      <td>0</td>\n",
       "      <td>0</td>\n",
       "      <td>0</td>\n",
       "      <td>0</td>\n",
       "      <td>0</td>\n",
       "      <td>1</td>\n",
       "      <td>0</td>\n",
       "      <td>0</td>\n",
       "      <td>0</td>\n",
       "      <td>0</td>\n",
       "      <td>0</td>\n",
       "      <td>0</td>\n",
       "      <td>0</td>\n",
       "      <td>5</td>\n",
       "      <td>0</td>\n",
       "      <td>0</td>\n",
       "    </tr>\n",
       "  </tbody>\n",
       "</table>\n",
       "</div>"
      ],
      "text/plain": [
       "   race_id  horse_no  horse_id  horse_age  horse_rating  declared_weight  \\\n",
       "0        0         1      3917          3            60           1020.0   \n",
       "1        0         2      2157          3            60            980.0   \n",
       "\n",
       "   actual_weight  win_odds  AUS  BRZ  CAN  FR  GB  GER  GR  IRE  ITY  JPN  NZ  \\\n",
       "0            133       9.7    1    0    0   0   0    0   0    0    0    0   0   \n",
       "1            133      16.0    0    0    0   0   0    0   0    0    0    0   1   \n",
       "\n",
       "   SAF  SPA  USA  ZIM  Colt  Filly  Gelding  Grey  Horse  Mare  Rig  Roan  \\\n",
       "0    0    0    0    0     0      0        1     0      0     0    0     0   \n",
       "1    0    0    0    0     0      0        1     0      0     0    0     0   \n",
       "\n",
       "   trainer_1  trainer_2  trainer_3  trainer_4  trainer_5  trainer_6  \\\n",
       "0          0          0          0          0          0          0   \n",
       "1          0          0          0          0          0          0   \n",
       "\n",
       "   trainer_7  trainer_8  trainer_9  trainer_10  trainer_11  trainer_12  \\\n",
       "0          0          0          0           0           0           0   \n",
       "1          0          0          0           0           0           0   \n",
       "\n",
       "   trainer_13  trainer_14  trainer_15  trainer_16  trainer_17  trainer_18  \\\n",
       "0           0           0           0           0           0           0   \n",
       "1           0           0           0           0           0           0   \n",
       "\n",
       "   trainer_19  trainer_20  trainer_21  trainer_22  trainer_23  trainer_24  \\\n",
       "0           0           0           0           0           0           0   \n",
       "1           0           0           0           0           0           0   \n",
       "\n",
       "   trainer_25  trainer_26  trainer_27  trainer_28  trainer_29  trainer_30  \\\n",
       "0           0           0           0           0           0           0   \n",
       "1           0           0           0           0           0           0   \n",
       "\n",
       "   trainer_31  trainer_32  trainer_33  trainer_34  trainer_35  trainer_36  \\\n",
       "0           0           0           0           0           0           0   \n",
       "1           0           0           0           0           0           0   \n",
       "\n",
       "   trainer_37  trainer_38  trainer_39  trainer_40  trainer_41  trainer_42  \\\n",
       "0           0           0           0           0           0           0   \n",
       "1           0           0           0           0           0           0   \n",
       "\n",
       "   trainer_43  trainer_44  trainer_45  trainer_46  trainer_47  trainer_48  \\\n",
       "0           0           0           0           0           0           0   \n",
       "1           0           0           0           0           0           0   \n",
       "\n",
       "   trainer_49  trainer_50  trainer_51  trainer_52  trainer_53  trainer_54  \\\n",
       "0           0           0           0           0           0           0   \n",
       "1           0           0           0           0           0           0   \n",
       "\n",
       "   trainer_55  trainer_56  trainer_57  trainer_58  trainer_59  trainer_60  \\\n",
       "0           0           0           0           0           0           0   \n",
       "1           0           0           0           0           0           0   \n",
       "\n",
       "   trainer_61  trainer_62  trainer_63  trainer_64  trainer_65  trainer_66  \\\n",
       "0           0           0           0           0           0           0   \n",
       "1           0           0           0           0           0           0   \n",
       "\n",
       "   trainer_67  trainer_68  trainer_69  trainer_70  trainer_71  trainer_72  \\\n",
       "0           0           0           0           0           0           0   \n",
       "1           0           0           0           0           0           0   \n",
       "\n",
       "   trainer_73  trainer_74  trainer_75  trainer_76  trainer_77  trainer_78  \\\n",
       "0           0           0           0           0           0           0   \n",
       "1           0           0           0           0           0           0   \n",
       "\n",
       "   trainer_79  trainer_80  trainer_81  trainer_82  trainer_83  trainer_84  \\\n",
       "0           0           0           0           0           0           0   \n",
       "1           0           0           0           0           0           0   \n",
       "\n",
       "   trainer_85  trainer_86  trainer_87  trainer_88  trainer_89  trainer_90  \\\n",
       "0           0           0           0           0           0           0   \n",
       "1           0           0           0           0           0           0   \n",
       "\n",
       "   trainer_91  trainer_92  trainer_93  trainer_94  trainer_95  trainer_96  \\\n",
       "0           0           0           0           0           0           0   \n",
       "1           0           0           0           0           0           0   \n",
       "\n",
       "   trainer_97  trainer_98  trainer_99  trainer_100  trainer_101  trainer_102  \\\n",
       "0           0           0           0            0            0            0   \n",
       "1           0           0           0            0            0            0   \n",
       "\n",
       "   trainer_103  trainer_104  trainer_105  trainer_106  trainer_107  \\\n",
       "0            0            0            0            0            0   \n",
       "1            0            0            0            0            0   \n",
       "\n",
       "   trainer_108  trainer_109  trainer_110  trainer_111  trainer_112  \\\n",
       "0            0            0            0            0            0   \n",
       "1            0            0            0            0            0   \n",
       "\n",
       "   trainer_113  trainer_114  trainer_115  trainer_116  trainer_117  \\\n",
       "0            0            0            0            0            0   \n",
       "1            0            0            0            0            0   \n",
       "\n",
       "   trainer_118  trainer_119  trainer_120  trainer_121  trainer_122  \\\n",
       "0            1            0            0            0            0   \n",
       "1            0            0            0            0            0   \n",
       "\n",
       "   trainer_123  trainer_124  trainer_125  trainer_126  trainer_127  \\\n",
       "0            0            0            0            0            0   \n",
       "1            0            0            0            0            0   \n",
       "\n",
       "   trainer_128  trainer_129  trainer_130  trainer_131  trainer_132  \\\n",
       "0            0            0            0            0            0   \n",
       "1            0            0            0            0            0   \n",
       "\n",
       "   trainer_133  trainer_134  trainer_135  trainer_136  trainer_137  \\\n",
       "0            0            0            0            0            0   \n",
       "1            0            0            0            0            0   \n",
       "\n",
       "   trainer_138  trainer_139  trainer_140  trainer_141  trainer_142  \\\n",
       "0            0            0            0            0            0   \n",
       "1            0            0            0            0            0   \n",
       "\n",
       "   trainer_143  trainer_144  trainer_145  trainer_146  trainer_147  \\\n",
       "0            0            0            0            0            0   \n",
       "1            0            0            0            0            0   \n",
       "\n",
       "   trainer_148  trainer_149  trainer_150  trainer_151  trainer_152  \\\n",
       "0            0            0            0            0            0   \n",
       "1            0            0            0            0            0   \n",
       "\n",
       "   trainer_153  trainer_154  trainer_155  trainer_156  trainer_157  \\\n",
       "0            0            0            0            0            0   \n",
       "1            0            0            0            0            0   \n",
       "\n",
       "   trainer_158  trainer_159  trainer_160  trainer_161  trainer_162  \\\n",
       "0            0            0            0            0            0   \n",
       "1            0            0            0            0            0   \n",
       "\n",
       "   trainer_163  trainer_164  trainer_165  trainer_166  trainer_167  \\\n",
       "0            0            0            0            0            0   \n",
       "1            0            1            0            0            0   \n",
       "\n",
       "   trainer_168  trainer_169  trainer_170  trainer_171  trainer_172  \\\n",
       "0            0            0            0            0            0   \n",
       "1            0            0            0            0            0   \n",
       "\n",
       "   trainer_173  trainer_174  trainer_175  jockey_1  jockey_2  jockey_3  \\\n",
       "0            0            0            0         0         1         0   \n",
       "1            0            0            0         0         0         0   \n",
       "\n",
       "   jockey_4  jockey_5  jockey_6  jockey_7  jockey_8  jockey_9  jockey_10  \\\n",
       "0         0         0         0         0         0         0          0   \n",
       "1         0         0         0         0         0         0          0   \n",
       "\n",
       "   jockey_11  jockey_12  jockey_13  jockey_14  jockey_15  jockey_16  \\\n",
       "0          0          0          0          0          0          0   \n",
       "1          0          0          0          0          0          0   \n",
       "\n",
       "   jockey_17  jockey_18  jockey_19  jockey_20  jockey_21  jockey_22  \\\n",
       "0          0          0          0          0          0          0   \n",
       "1          0          0          0          0          0          0   \n",
       "\n",
       "   jockey_23  jockey_24  jockey_25  jockey_26  jockey_27  jockey_28  \\\n",
       "0          0          0          0          0          0          0   \n",
       "1          0          0          0          0          0          0   \n",
       "\n",
       "   jockey_29  jockey_30  jockey_31  jockey_32  jockey_33  jockey_34  \\\n",
       "0          0          0          0          0          0          0   \n",
       "1          0          0          0          0          0          0   \n",
       "\n",
       "   jockey_35  jockey_36  jockey_37  jockey_38  jockey_39  jockey_40  \\\n",
       "0          0          0          0          0          0          0   \n",
       "1          0          0          0          0          0          0   \n",
       "\n",
       "   jockey_41  jockey_42  jockey_43  jockey_44  jockey_45  jockey_46  \\\n",
       "0          0          0          0          0          0          0   \n",
       "1          0          0          0          0          0          0   \n",
       "\n",
       "   jockey_47  jockey_48  jockey_49  jockey_50  jockey_51  jockey_52  \\\n",
       "0          0          0          0          0          0          0   \n",
       "1          0          0          0          0          0          0   \n",
       "\n",
       "   jockey_53  jockey_54  jockey_55  jockey_56  jockey_57  jockey_58  \\\n",
       "0          0          0          0          0          0          0   \n",
       "1          0          0          0          0          1          0   \n",
       "\n",
       "   jockey_59  jockey_60  jockey_61  jockey_62  jockey_63  jockey_64  \\\n",
       "0          0          0          0          0          0          0   \n",
       "1          0          0          0          0          0          0   \n",
       "\n",
       "   jockey_65  jockey_66  jockey_67  jockey_68  jockey_69  jockey_70  \\\n",
       "0          0          0          0          0          0          0   \n",
       "1          0          0          0          0          0          0   \n",
       "\n",
       "   jockey_71  jockey_72  jockey_73  jockey_74  jockey_75  jockey_76  \\\n",
       "0          0          0          0          0          0          0   \n",
       "1          0          0          0          0          0          0   \n",
       "\n",
       "   jockey_77  jockey_78  jockey_79  jockey_80  jockey_81  jockey_82  \\\n",
       "0          0          0          0          0          0          0   \n",
       "1          0          0          0          0          0          0   \n",
       "\n",
       "   jockey_83  jockey_84  jockey_85  jockey_86  jockey_87  jockey_88  \\\n",
       "0          0          0          0          0          0          0   \n",
       "1          0          0          0          0          0          0   \n",
       "\n",
       "   jockey_89  jockey_90  jockey_91  jockey_92  jockey_93  jockey_94  \\\n",
       "0          0          0          0          0          0          0   \n",
       "1          0          0          0          0          0          0   \n",
       "\n",
       "   jockey_95  jockey_96  jockey_97  jockey_98  jockey_99  jockey_100  \\\n",
       "0          0          0          0          0          0           0   \n",
       "1          0          0          0          0          0           0   \n",
       "\n",
       "   jockey_101  jockey_102  jockey_103  jockey_104  jockey_105  jockey_106  \\\n",
       "0           0           0           0           0           0           0   \n",
       "1           0           0           0           0           0           0   \n",
       "\n",
       "   jockey_107  jockey_108  jockey_109  jockey_110  jockey_111  jockey_112  \\\n",
       "0           0           0           0           0           0           0   \n",
       "1           0           0           0           0           0           0   \n",
       "\n",
       "   jockey_113  jockey_114  jockey_115  jockey_116  jockey_117  jockey_118  \\\n",
       "0           0           0           0           0           0           0   \n",
       "1           0           0           0           0           0           0   \n",
       "\n",
       "   jockey_119  jockey_120  jockey_121  jockey_122  jockey_123  jockey_124  \\\n",
       "0           0           0           0           0           0           0   \n",
       "1           0           0           0           0           0           0   \n",
       "\n",
       "   jockey_125  jockey_126  jockey_127  jockey_128  jockey_129  jockey_130  \\\n",
       "0           0           0           0           0           0           0   \n",
       "1           0           0           0           0           0           0   \n",
       "\n",
       "   jockey_131  jockey_132  jockey_133  jockey_134  jockey_135  jockey_136  \\\n",
       "0           0           0           0           0           0           0   \n",
       "1           0           0           0           0           0           0   \n",
       "\n",
       "   jockey_137  jockey_138  jockey_139  jockey_140  jockey_141  jockey_142  \\\n",
       "0           0           0           0           0           0           0   \n",
       "1           0           0           0           0           0           0   \n",
       "\n",
       "   jockey_143  jockey_144  jockey_145  jockey_146  jockey_147  jockey_148  \\\n",
       "0           0           0           0           0           0           0   \n",
       "1           0           0           0           0           0           0   \n",
       "\n",
       "   jockey_149  jockey_150  jockey_151  jockey_152  jockey_153  jockey_154  \\\n",
       "0           0           0           0           0           0           0   \n",
       "1           0           0           0           0           0           0   \n",
       "\n",
       "   jockey_155  jockey_156  jockey_157  jockey_158  jockey_159  jockey_160  \\\n",
       "0           0           0           0           0           0           0   \n",
       "1           0           0           0           0           0           0   \n",
       "\n",
       "   jockey_161  jockey_162  jockey_163  jockey_164  jockey_165  jockey_166  \\\n",
       "0           0           0           0           0           0           0   \n",
       "1           0           0           0           0           0           0   \n",
       "\n",
       "   jockey_167  jockey_168  jockey_169  jockey_170  jockey_171  jockey_172  \\\n",
       "0           0           0           0           0           0           0   \n",
       "1           0           0           0           0           0           0   \n",
       "\n",
       "   jockey_173  jockey_174  jockey_175  jockey_176  jockey_177  jockey_178  \\\n",
       "0           0           0           0           0           0           0   \n",
       "1           0           0           0           0           0           0   \n",
       "\n",
       "   jockey_179  jockey_180  jockey_181  jockey_182  jockey_183  jockey_184  \\\n",
       "0           0           0           0           0           0           0   \n",
       "1           0           0           0           0           0           0   \n",
       "\n",
       "   jockey_185  race_no  surface  distance  place_combination1  \\\n",
       "0           0        1        0      1400                   8   \n",
       "1           0        1        0      1400                   8   \n",
       "\n",
       "   place_combination2  place_dividend1  place_dividend2  win_combination1  \\\n",
       "0                  11             36.5             25.5                 8   \n",
       "1                  11             36.5             25.5                 8   \n",
       "\n",
       "   win_dividend1  year  month  day  ST  config_A+3  config_B  config_B+2  \\\n",
       "0          121.0  1997      6    2   1           0         0           0   \n",
       "1          121.0  1997      6    2   1           0         0           0   \n",
       "\n",
       "   config_C  config_C+3  GOOD  GOOD TO FIRM  GOOD TO YIELDING  SLOW  SOFT  \\\n",
       "0         0           0     0             1                 0     0     0   \n",
       "1         0           0     0             1                 0     0     0   \n",
       "\n",
       "   WET FAST  WET SLOW  YIELDING  YIELDING TO SOFT  racing_class  \\\n",
       "0         0         0         0                 0             5   \n",
       "1         0         0         0                 0             5   \n",
       "\n",
       "   restricted_race  bonus_race  \n",
       "0                0           0  \n",
       "1                0           0  "
      ]
     },
     "execution_count": 44,
     "metadata": {},
     "output_type": "execute_result"
    }
   ],
   "source": [
    "pd.set_option('max_columns', X.shape[1])\n",
    "X.head(2)"
   ]
  },
  {
   "cell_type": "code",
   "execution_count": 45,
   "metadata": {
    "collapsed": true
   },
   "outputs": [],
   "source": [
    "drop_list = ['place_combination1', 'place_combination2', 'place_dividend1', 'place_dividend2', 'win_combination1', 'win_dividend1']\n",
    "X.drop(drop_list, axis=1, inplace=True)"
   ]
  },
  {
   "cell_type": "markdown",
   "metadata": {},
   "source": [
    "### Risks & Assumptions"
   ]
  },
  {
   "cell_type": "markdown",
   "metadata": {},
   "source": [
    "The primary concern with this dataset is that although it spans records from 1997 to 2006 covering 6000+ races and can therefore be **assumed to be reasonably representative of horse racing conditions in Hong Kong**, there is the **risk of unknown changes in the intervening period from 2006 to the present day that may materially affect our model's accuracy of prediction in the present day**. Possible factors may include changes in track conditions, changes in horse rearing and training practices, climate change affecting horse performance etc.\n",
    "\n",
    "Another potential source of risk is that **HKJC's method of calculating winning odds may have changed, either during the period of 1997-2006 recorded in this dataset and/or in the present day.** If either of these scenarios have occurred, then our calculation of betting gains/losses may have little use in predicting the monetary return of using this model in real life. The **assumption is thus made that HKJC's odds calculation method has not changed sufficiently to drastically affect our estimation of betting gains and losses using our model**. Nevertheless, in drawing our conclusions, we should keep this in mind and interpret the predicted percentage gain/loss only as an indicator.\n",
    "\n",
    "A third problem could affect our ability to put the trained model into production. We have implicitly made the **assumption that we can obtain the same features as the ones that we have in current dataset, from either the HKJC website or other sources for present day races.** The **risk is that we won't be able to put our model into production due to a change in availability and/or reporting methodology of key features.** This should be verified as a follow-up if the viability of the project is proved.\n",
    "\n",
    "One final issue that needs to be raised is this: though we have opted to anonymise the individual horses by dropping the `horse_id` column, we have kept the `trainer_id` and `jockey_id` information and one-hot encoded them. **It remains to be investigated how correlated these features are.** If they are highly correlated, then the individual horses may not have been effectively de-anonymised; on the other hand, these may turn out to be very important features that are essential for good model predictions. The choice to de-anonymise was made to try and make our predictions *more generalisable* - we can potentially use the model to assess new horses without a track record. **This decision is open to revision depending on more EDA findings and model results.**"
   ]
  },
  {
   "cell_type": "markdown",
   "metadata": {},
   "source": [
    "## Modelling - Supervised Learning"
   ]
  },
  {
   "cell_type": "code",
   "execution_count": 46,
   "metadata": {
    "collapsed": true
   },
   "outputs": [],
   "source": [
    "from sklearn.preprocessing import StandardScaler\n",
    "from sklearn.dummy import DummyClassifier\n",
    "from sklearn.linear_model import LogisticRegression\n",
    "from sklearn.model_selection import train_test_split, cross_val_score, GridSearchCV\n",
    "from sklearn.metrics import accuracy_score, classification_report, roc_auc_score"
   ]
  },
  {
   "cell_type": "code",
   "execution_count": 47,
   "metadata": {
    "collapsed": false
   },
   "outputs": [],
   "source": [
    "X_train, X_test, y_train, y_test = train_test_split(X, y, test_size=0.3, stratify=y)"
   ]
  },
  {
   "cell_type": "markdown",
   "metadata": {},
   "source": [
    "### Imbalanced dataset"
   ]
  },
  {
   "cell_type": "markdown",
   "metadata": {},
   "source": [
    "Since there are 12 horses competing and every race and only 1 can be the winner, we end up with a very imbalanced dataset for classification, with a win:lose ratio of 1:11."
   ]
  },
  {
   "cell_type": "code",
   "execution_count": 48,
   "metadata": {
    "collapsed": false
   },
   "outputs": [
    {
     "data": {
      "text/plain": [
       "0.0    73087\n",
       "1.0     6360\n",
       "Name: won, dtype: int64"
      ]
     },
     "execution_count": 48,
     "metadata": {},
     "output_type": "execute_result"
    }
   ],
   "source": [
    "y.value_counts()"
   ]
  },
  {
   "cell_type": "code",
   "execution_count": 49,
   "metadata": {
    "collapsed": false
   },
   "outputs": [
    {
     "data": {
      "text/plain": [
       "0.91994663108739161"
      ]
     },
     "execution_count": 49,
     "metadata": {},
     "output_type": "execute_result"
    }
   ],
   "source": [
    "y.value_counts()[0]/(y.value_counts()[0]+y.value_counts()[1])"
   ]
  },
  {
   "cell_type": "markdown",
   "metadata": {},
   "source": [
    "**This ratio will also be our baseline**: we want a model that can predict wins, not just losses."
   ]
  },
  {
   "cell_type": "markdown",
   "metadata": {},
   "source": [
    "### Randomly oversampling wins"
   ]
  },
  {
   "cell_type": "markdown",
   "metadata": {},
   "source": [
    "In order to combat this, we use oversampling to improve the training of our models. Prior to this, most models would just default to predicting losses."
   ]
  },
  {
   "cell_type": "code",
   "execution_count": 50,
   "metadata": {
    "collapsed": false
   },
   "outputs": [],
   "source": [
    "ros = RandomOverSampler()\n",
    "X_resampled, y_resampled = ros.fit_sample(X_train, y_train)"
   ]
  },
  {
   "cell_type": "code",
   "execution_count": 51,
   "metadata": {
    "collapsed": false
   },
   "outputs": [
    {
     "name": "stdout",
     "output_type": "stream",
     "text": [
      "(55612, 415)\n",
      "(102320, 415)\n",
      "(55612,)\n",
      "(102320,)\n"
     ]
    }
   ],
   "source": [
    "print X_train.shape\n",
    "print X_resampled.shape\n",
    "print y_train.shape\n",
    "print y_resampled.shape"
   ]
  },
  {
   "cell_type": "code",
   "execution_count": 52,
   "metadata": {
    "collapsed": false,
    "scrolled": true
   },
   "outputs": [
    {
     "data": {
      "text/plain": [
       "1.0    51160\n",
       "0.0    51160\n",
       "dtype: int64"
      ]
     },
     "execution_count": 52,
     "metadata": {},
     "output_type": "execute_result"
    }
   ],
   "source": [
    "pd.Series(y_resampled).value_counts()"
   ]
  },
  {
   "cell_type": "markdown",
   "metadata": {},
   "source": [
    "### Logistic Regression"
   ]
  },
  {
   "cell_type": "markdown",
   "metadata": {},
   "source": [
    "We start off our trial and error process with the most basic logistic regression model."
   ]
  },
  {
   "cell_type": "code",
   "execution_count": 67,
   "metadata": {
    "collapsed": false,
    "scrolled": true
   },
   "outputs": [
    {
     "data": {
      "text/plain": [
       "LogisticRegression(C=1.0, class_weight=None, dual=False, fit_intercept=True,\n",
       "          intercept_scaling=1, max_iter=100, multi_class='ovr', n_jobs=1,\n",
       "          penalty='l2', random_state=None, solver='liblinear', tol=0.0001,\n",
       "          verbose=0, warm_start=False)"
      ]
     },
     "execution_count": 67,
     "metadata": {},
     "output_type": "execute_result"
    }
   ],
   "source": [
    "lr = LogisticRegression()\n",
    "lr.fit(X_resampled,y_resampled)"
   ]
  },
  {
   "cell_type": "code",
   "execution_count": 68,
   "metadata": {
    "collapsed": false
   },
   "outputs": [
    {
     "data": {
      "text/plain": [
       "(0.69939405785770137, 0.0007864894268463994)"
      ]
     },
     "execution_count": 68,
     "metadata": {},
     "output_type": "execute_result"
    }
   ],
   "source": [
    "scores = cross_val_score(lr, X_resampled,y_resampled, cv=5)\n",
    "scores.mean(), scores.std()"
   ]
  },
  {
   "cell_type": "markdown",
   "metadata": {},
   "source": [
    "The 5-fold cross validation accuracy score is lower than our baseline. The model fares even worse when used on the test set:"
   ]
  },
  {
   "cell_type": "code",
   "execution_count": 92,
   "metadata": {
    "collapsed": false
   },
   "outputs": [
    {
     "data": {
      "text/plain": [
       "0.59223830501363539"
      ]
     },
     "execution_count": 92,
     "metadata": {},
     "output_type": "execute_result"
    }
   ],
   "source": [
    "y_pred = lr.predict(X_test)\n",
    "accuracy_score(y_test, y_pred)"
   ]
  },
  {
   "cell_type": "code",
   "execution_count": 70,
   "metadata": {
    "collapsed": false
   },
   "outputs": [
    {
     "name": "stdout",
     "output_type": "stream",
     "text": [
      "             precision    recall  f1-score   support\n",
      "\n",
      "        0.0       0.97      0.57      0.72     21927\n",
      "        1.0       0.14      0.81      0.24      1908\n",
      "\n",
      "avg / total       0.90      0.59      0.68     23835\n",
      "\n"
     ]
    }
   ],
   "source": [
    "print classification_report(y_test, y_pred)"
   ]
  },
  {
   "cell_type": "code",
   "execution_count": 71,
   "metadata": {
    "collapsed": false
   },
   "outputs": [
    {
     "data": {
      "text/plain": [
       "0.0    12952\n",
       "1.0    10883\n",
       "dtype: int64"
      ]
     },
     "execution_count": 71,
     "metadata": {},
     "output_type": "execute_result"
    }
   ],
   "source": [
    "pd.Series(y_pred).value_counts()"
   ]
  },
  {
   "cell_type": "code",
   "execution_count": 72,
   "metadata": {
    "collapsed": false
   },
   "outputs": [
    {
     "data": {
      "text/plain": [
       "0.68937667096050281"
      ]
     },
     "execution_count": 72,
     "metadata": {},
     "output_type": "execute_result"
    }
   ],
   "source": [
    "roc_auc_score(y_test,y_pred)"
   ]
  },
  {
   "cell_type": "markdown",
   "metadata": {},
   "source": [
    "After ranking the coefficients of individual features, we see that **the most important features are jockey and train id** in our logistic regression model."
   ]
  },
  {
   "cell_type": "code",
   "execution_count": 73,
   "metadata": {
    "collapsed": false,
    "scrolled": true
   },
   "outputs": [
    {
     "data": {
      "text/html": [
       "<div>\n",
       "<table border=\"1\" class=\"dataframe\">\n",
       "  <thead>\n",
       "    <tr style=\"text-align: right;\">\n",
       "      <th></th>\n",
       "      <th>coefs</th>\n",
       "    </tr>\n",
       "  </thead>\n",
       "  <tbody>\n",
       "    <tr>\n",
       "      <th>jockey_86</th>\n",
       "      <td>-2.092544</td>\n",
       "    </tr>\n",
       "    <tr>\n",
       "      <th>jockey_168</th>\n",
       "      <td>-1.767624</td>\n",
       "    </tr>\n",
       "    <tr>\n",
       "      <th>jockey_74</th>\n",
       "      <td>-1.722818</td>\n",
       "    </tr>\n",
       "    <tr>\n",
       "      <th>GR</th>\n",
       "      <td>-1.601653</td>\n",
       "    </tr>\n",
       "    <tr>\n",
       "      <th>jockey_136</th>\n",
       "      <td>-1.482365</td>\n",
       "    </tr>\n",
       "    <tr>\n",
       "      <th>jockey_146</th>\n",
       "      <td>-1.454229</td>\n",
       "    </tr>\n",
       "    <tr>\n",
       "      <th>jockey_113</th>\n",
       "      <td>-1.318582</td>\n",
       "    </tr>\n",
       "    <tr>\n",
       "      <th>Grey</th>\n",
       "      <td>-1.262388</td>\n",
       "    </tr>\n",
       "    <tr>\n",
       "      <th>jockey_103</th>\n",
       "      <td>-1.210452</td>\n",
       "    </tr>\n",
       "    <tr>\n",
       "      <th>jockey_152</th>\n",
       "      <td>-1.189799</td>\n",
       "    </tr>\n",
       "    <tr>\n",
       "      <th>jockey_71</th>\n",
       "      <td>-1.084574</td>\n",
       "    </tr>\n",
       "    <tr>\n",
       "      <th>jockey_12</th>\n",
       "      <td>-1.078464</td>\n",
       "    </tr>\n",
       "    <tr>\n",
       "      <th>jockey_79</th>\n",
       "      <td>-1.074705</td>\n",
       "    </tr>\n",
       "    <tr>\n",
       "      <th>jockey_158</th>\n",
       "      <td>-1.042984</td>\n",
       "    </tr>\n",
       "    <tr>\n",
       "      <th>jockey_133</th>\n",
       "      <td>-1.012639</td>\n",
       "    </tr>\n",
       "  </tbody>\n",
       "</table>\n",
       "</div>"
      ],
      "text/plain": [
       "               coefs\n",
       "jockey_86  -2.092544\n",
       "jockey_168 -1.767624\n",
       "jockey_74  -1.722818\n",
       "GR         -1.601653\n",
       "jockey_136 -1.482365\n",
       "jockey_146 -1.454229\n",
       "jockey_113 -1.318582\n",
       "Grey       -1.262388\n",
       "jockey_103 -1.210452\n",
       "jockey_152 -1.189799\n",
       "jockey_71  -1.084574\n",
       "jockey_12  -1.078464\n",
       "jockey_79  -1.074705\n",
       "jockey_158 -1.042984\n",
       "jockey_133 -1.012639"
      ]
     },
     "execution_count": 73,
     "metadata": {},
     "output_type": "execute_result"
    }
   ],
   "source": [
    "lr_coef = pd.DataFrame(lr.coef_, columns=X.columns)\n",
    "lr_coef.columns = X.columns\n",
    "lr_coef.index = ['coefs']\n",
    "lr_coef.transpose().sort_values(by='coefs')[:15]"
   ]
  },
  {
   "cell_type": "markdown",
   "metadata": {},
   "source": [
    "### Calculating payout"
   ]
  },
  {
   "cell_type": "code",
   "execution_count": 93,
   "metadata": {
    "collapsed": false
   },
   "outputs": [
    {
     "name": "stdout",
     "output_type": "stream",
     "text": [
      "(23835,)\n"
     ]
    },
    {
     "data": {
      "text/plain": [
       "0.0    12952\n",
       "1.0    10883\n",
       "dtype: int64"
      ]
     },
     "execution_count": 93,
     "metadata": {},
     "output_type": "execute_result"
    }
   ],
   "source": [
    "print y_pred.shape\n",
    "pd.Series(y_pred).value_counts()"
   ]
  },
  {
   "cell_type": "code",
   "execution_count": 94,
   "metadata": {
    "collapsed": false
   },
   "outputs": [
    {
     "data": {
      "text/plain": [
       "0.0    21927\n",
       "1.0     1908\n",
       "Name: won, dtype: int64"
      ]
     },
     "execution_count": 94,
     "metadata": {},
     "output_type": "execute_result"
    }
   ],
   "source": [
    "pd.Series(y_test).value_counts()"
   ]
  },
  {
   "cell_type": "markdown",
   "metadata": {},
   "source": [
    "To simplify the calculation, we assume an initial pot of money of \\$10883. Since our model predicts 5356 instances of winning, we will bet \\$1 on each predicted win."
   ]
  },
  {
   "cell_type": "code",
   "execution_count": 98,
   "metadata": {
    "collapsed": false
   },
   "outputs": [
    {
     "data": {
      "text/plain": [
       "0.0    22299\n",
       "1.0     1536\n",
       "Name: won, dtype: int64"
      ]
     },
     "execution_count": 98,
     "metadata": {},
     "output_type": "execute_result"
    }
   ],
   "source": [
    "# True Positives only\n",
    "correct_pred = y_pred * y_test\n",
    "pd.Series(correct_pred).value_counts()"
   ]
  },
  {
   "cell_type": "code",
   "execution_count": 99,
   "metadata": {
    "collapsed": false
   },
   "outputs": [
    {
     "data": {
      "text/plain": [
       "8802.2999999999993"
      ]
     },
     "execution_count": 99,
     "metadata": {},
     "output_type": "execute_result"
    }
   ],
   "source": [
    "sum(X_test.win_odds * correct_pred)"
   ]
  },
  {
   "cell_type": "code",
   "execution_count": 100,
   "metadata": {
    "collapsed": false
   },
   "outputs": [
    {
     "data": {
      "text/plain": [
       "0.80881190848111728"
      ]
     },
     "execution_count": 100,
     "metadata": {},
     "output_type": "execute_result"
    }
   ],
   "source": [
    "sum(X_test.win_odds * correct_pred)/10883"
   ]
  },
  {
   "cell_type": "markdown",
   "metadata": {},
   "source": [
    "We then turn to ensemble methods to see if there's an improvement."
   ]
  },
  {
   "cell_type": "markdown",
   "metadata": {},
   "source": [
    "### Random Forest Classifier"
   ]
  },
  {
   "cell_type": "code",
   "execution_count": 74,
   "metadata": {
    "collapsed": true
   },
   "outputs": [],
   "source": [
    "from sklearn.ensemble import RandomForestClassifier"
   ]
  },
  {
   "cell_type": "code",
   "execution_count": 75,
   "metadata": {
    "collapsed": false
   },
   "outputs": [
    {
     "data": {
      "text/plain": [
       "RandomForestClassifier(bootstrap=True, class_weight=None, criterion='gini',\n",
       "            max_depth=None, max_features='auto', max_leaf_nodes=None,\n",
       "            min_impurity_split=1e-07, min_samples_leaf=1,\n",
       "            min_samples_split=2, min_weight_fraction_leaf=0.0,\n",
       "            n_estimators=10, n_jobs=1, oob_score=False, random_state=None,\n",
       "            verbose=0, warm_start=False)"
      ]
     },
     "execution_count": 75,
     "metadata": {},
     "output_type": "execute_result"
    }
   ],
   "source": [
    "rfc = RandomForestClassifier()\n",
    "rfc.fit(X_resampled, y_resampled)"
   ]
  },
  {
   "cell_type": "code",
   "execution_count": 101,
   "metadata": {
    "collapsed": true
   },
   "outputs": [],
   "source": [
    "y_pred = rfc.predict(X_test)"
   ]
  },
  {
   "cell_type": "code",
   "execution_count": 102,
   "metadata": {
    "collapsed": false
   },
   "outputs": [
    {
     "data": {
      "text/plain": [
       "0.91432766939374865"
      ]
     },
     "execution_count": 102,
     "metadata": {},
     "output_type": "execute_result"
    }
   ],
   "source": [
    "accuracy_score(y_test, y_pred)"
   ]
  },
  {
   "cell_type": "code",
   "execution_count": 78,
   "metadata": {
    "collapsed": false
   },
   "outputs": [
    {
     "name": "stdout",
     "output_type": "stream",
     "text": [
      "             precision    recall  f1-score   support\n",
      "\n",
      "        0.0       0.92      0.99      0.96     21927\n",
      "        1.0       0.27      0.04      0.07      1908\n",
      "\n",
      "avg / total       0.87      0.91      0.88     23835\n",
      "\n"
     ]
    }
   ],
   "source": [
    "print classification_report(y_test, y_pred)"
   ]
  },
  {
   "cell_type": "code",
   "execution_count": 103,
   "metadata": {
    "collapsed": false,
    "scrolled": false
   },
   "outputs": [
    {
     "data": {
      "text/plain": [
       "0.51512752578381149"
      ]
     },
     "execution_count": 103,
     "metadata": {},
     "output_type": "execute_result"
    }
   ],
   "source": [
    "roc_auc_score(y_test,y_pred)"
   ]
  },
  {
   "cell_type": "markdown",
   "metadata": {},
   "source": [
    "### Calculating payout"
   ]
  },
  {
   "cell_type": "code",
   "execution_count": 104,
   "metadata": {
    "collapsed": false
   },
   "outputs": [
    {
     "name": "stdout",
     "output_type": "stream",
     "text": [
      "(23835,)\n"
     ]
    },
    {
     "data": {
      "text/plain": [
       "0.0    23549\n",
       "1.0      286\n",
       "dtype: int64"
      ]
     },
     "execution_count": 104,
     "metadata": {},
     "output_type": "execute_result"
    }
   ],
   "source": [
    "print y_pred.shape\n",
    "pd.Series(y_pred).value_counts()"
   ]
  },
  {
   "cell_type": "code",
   "execution_count": 105,
   "metadata": {
    "collapsed": false
   },
   "outputs": [
    {
     "data": {
      "text/plain": [
       "0.0    21927\n",
       "1.0     1908\n",
       "Name: won, dtype: int64"
      ]
     },
     "execution_count": 105,
     "metadata": {},
     "output_type": "execute_result"
    }
   ],
   "source": [
    "pd.Series(y_test).value_counts()"
   ]
  },
  {
   "cell_type": "markdown",
   "metadata": {},
   "source": [
    "To simplify the calculation, we assume an initial pot of money of \\$286. Since our model predicts 286 instances of winning, we will bet \\$1 on each predicted win."
   ]
  },
  {
   "cell_type": "code",
   "execution_count": 106,
   "metadata": {
    "collapsed": false
   },
   "outputs": [
    {
     "data": {
      "text/plain": [
       "0.0    23759\n",
       "1.0       76\n",
       "Name: won, dtype: int64"
      ]
     },
     "execution_count": 106,
     "metadata": {},
     "output_type": "execute_result"
    }
   ],
   "source": [
    "# True Positives only\n",
    "correct_pred = y_pred * y_test\n",
    "pd.Series(correct_pred).value_counts()"
   ]
  },
  {
   "cell_type": "code",
   "execution_count": 107,
   "metadata": {
    "collapsed": false
   },
   "outputs": [
    {
     "data": {
      "text/plain": [
       "215.40000000000006"
      ]
     },
     "execution_count": 107,
     "metadata": {},
     "output_type": "execute_result"
    }
   ],
   "source": [
    "sum(X_test.win_odds * correct_pred)"
   ]
  },
  {
   "cell_type": "code",
   "execution_count": 108,
   "metadata": {
    "collapsed": false
   },
   "outputs": [
    {
     "data": {
      "text/plain": [
       "0.75314685314685337"
      ]
     },
     "execution_count": 108,
     "metadata": {},
     "output_type": "execute_result"
    }
   ],
   "source": [
    "sum(X_test.win_odds * correct_pred)/286"
   ]
  },
  {
   "cell_type": "markdown",
   "metadata": {},
   "source": [
    "### Gradient Boosting Classifier"
   ]
  },
  {
   "cell_type": "markdown",
   "metadata": {},
   "source": [
    "Here we use another ensemble method, but using Boosting instead of Random Forests."
   ]
  },
  {
   "cell_type": "code",
   "execution_count": 80,
   "metadata": {
    "collapsed": true
   },
   "outputs": [],
   "source": [
    "from sklearn.ensemble import GradientBoostingClassifier"
   ]
  },
  {
   "cell_type": "code",
   "execution_count": 81,
   "metadata": {
    "collapsed": false
   },
   "outputs": [
    {
     "data": {
      "text/plain": [
       "GradientBoostingClassifier(criterion='friedman_mse', init=None,\n",
       "              learning_rate=0.1, loss='deviance', max_depth=3,\n",
       "              max_features=None, max_leaf_nodes=None,\n",
       "              min_impurity_split=1e-07, min_samples_leaf=1,\n",
       "              min_samples_split=2, min_weight_fraction_leaf=0.0,\n",
       "              n_estimators=100, presort='auto', random_state=None,\n",
       "              subsample=1.0, verbose=0, warm_start=False)"
      ]
     },
     "execution_count": 81,
     "metadata": {},
     "output_type": "execute_result"
    }
   ],
   "source": [
    "gbc = GradientBoostingClassifier()\n",
    "gbc.fit(X_resampled, y_resampled)"
   ]
  },
  {
   "cell_type": "code",
   "execution_count": 109,
   "metadata": {
    "collapsed": true
   },
   "outputs": [],
   "source": [
    "y_pred = gbc.predict(X_test)"
   ]
  },
  {
   "cell_type": "code",
   "execution_count": 83,
   "metadata": {
    "collapsed": false
   },
   "outputs": [
    {
     "data": {
      "text/plain": [
       "0.72481644640234943"
      ]
     },
     "execution_count": 83,
     "metadata": {},
     "output_type": "execute_result"
    }
   ],
   "source": [
    "accuracy_score(y_test, y_pred)"
   ]
  },
  {
   "cell_type": "code",
   "execution_count": 84,
   "metadata": {
    "collapsed": false
   },
   "outputs": [
    {
     "name": "stdout",
     "output_type": "stream",
     "text": [
      "             precision    recall  f1-score   support\n",
      "\n",
      "        0.0       0.96      0.73      0.83     21927\n",
      "        1.0       0.18      0.69      0.29      1908\n",
      "\n",
      "avg / total       0.90      0.72      0.79     23835\n",
      "\n"
     ]
    }
   ],
   "source": [
    "print classification_report(y_test, y_pred)"
   ]
  },
  {
   "cell_type": "code",
   "execution_count": 85,
   "metadata": {
    "collapsed": false,
    "scrolled": true
   },
   "outputs": [
    {
     "data": {
      "text/plain": [
       "0.70832010332742179"
      ]
     },
     "execution_count": 85,
     "metadata": {},
     "output_type": "execute_result"
    }
   ],
   "source": [
    "roc_auc_score(y_test,y_pred)"
   ]
  },
  {
   "cell_type": "markdown",
   "metadata": {},
   "source": [
    "### Calculating payout"
   ]
  },
  {
   "cell_type": "code",
   "execution_count": 110,
   "metadata": {
    "collapsed": false
   },
   "outputs": [
    {
     "name": "stdout",
     "output_type": "stream",
     "text": [
      "(23835,)\n"
     ]
    },
    {
     "data": {
      "text/plain": [
       "0.0    16556\n",
       "1.0     7279\n",
       "dtype: int64"
      ]
     },
     "execution_count": 110,
     "metadata": {},
     "output_type": "execute_result"
    }
   ],
   "source": [
    "print y_pred.shape\n",
    "pd.Series(y_pred).value_counts()"
   ]
  },
  {
   "cell_type": "code",
   "execution_count": 111,
   "metadata": {
    "collapsed": false
   },
   "outputs": [
    {
     "data": {
      "text/plain": [
       "0.0    21927\n",
       "1.0     1908\n",
       "Name: won, dtype: int64"
      ]
     },
     "execution_count": 111,
     "metadata": {},
     "output_type": "execute_result"
    }
   ],
   "source": [
    "pd.Series(y_test).value_counts()"
   ]
  },
  {
   "cell_type": "markdown",
   "metadata": {},
   "source": [
    "To simplify the calculation, we assume an initial pot of money of \\$7279. Since our model predicts 7279 instances of winning, we will bet \\$1 on each predicted win."
   ]
  },
  {
   "cell_type": "code",
   "execution_count": 112,
   "metadata": {
    "collapsed": false
   },
   "outputs": [
    {
     "data": {
      "text/plain": [
       "0.0    22521\n",
       "1.0     1314\n",
       "Name: won, dtype: int64"
      ]
     },
     "execution_count": 112,
     "metadata": {},
     "output_type": "execute_result"
    }
   ],
   "source": [
    "# True Positives only\n",
    "correct_pred = y_pred * y_test\n",
    "pd.Series(correct_pred).value_counts()"
   ]
  },
  {
   "cell_type": "code",
   "execution_count": 113,
   "metadata": {
    "collapsed": false
   },
   "outputs": [
    {
     "data": {
      "text/plain": [
       "6158.4000000000024"
      ]
     },
     "execution_count": 113,
     "metadata": {},
     "output_type": "execute_result"
    }
   ],
   "source": [
    "sum(X_test.win_odds * correct_pred)"
   ]
  },
  {
   "cell_type": "code",
   "execution_count": 114,
   "metadata": {
    "collapsed": false
   },
   "outputs": [
    {
     "data": {
      "text/plain": [
       "0.84605028163209262"
      ]
     },
     "execution_count": 114,
     "metadata": {},
     "output_type": "execute_result"
    }
   ],
   "source": [
    "sum(X_test.win_odds * correct_pred)/7279"
   ]
  },
  {
   "cell_type": "markdown",
   "metadata": {},
   "source": [
    "### XGBClassifier"
   ]
  },
  {
   "cell_type": "code",
   "execution_count": 86,
   "metadata": {
    "collapsed": true
   },
   "outputs": [],
   "source": [
    "from xgboost import XGBClassifier"
   ]
  },
  {
   "cell_type": "code",
   "execution_count": 87,
   "metadata": {
    "collapsed": false,
    "scrolled": true
   },
   "outputs": [
    {
     "data": {
      "text/plain": [
       "XGBClassifier(base_score=0.5, colsample_bytree=1, gamma=0, learning_rate=0.1,\n",
       "       max_delta_step=0, max_depth=3, min_child_weight=1, missing=None,\n",
       "       n_estimators=100, nthread=-1, objective='binary:logistic', seed=0,\n",
       "       silent=True, subsample=1)"
      ]
     },
     "execution_count": 87,
     "metadata": {},
     "output_type": "execute_result"
    }
   ],
   "source": [
    "clf = XGBClassifier()\n",
    "clf.fit(X_resampled, y_resampled)"
   ]
  },
  {
   "cell_type": "code",
   "execution_count": 115,
   "metadata": {
    "collapsed": true
   },
   "outputs": [],
   "source": [
    "y_pred = clf.predict(X_test)"
   ]
  },
  {
   "cell_type": "code",
   "execution_count": 116,
   "metadata": {
    "collapsed": false
   },
   "outputs": [
    {
     "data": {
      "text/plain": [
       "0.72431298510593667"
      ]
     },
     "execution_count": 116,
     "metadata": {},
     "output_type": "execute_result"
    }
   ],
   "source": [
    "accuracy_score(y_test, y_pred)"
   ]
  },
  {
   "cell_type": "code",
   "execution_count": 90,
   "metadata": {
    "collapsed": false
   },
   "outputs": [
    {
     "name": "stdout",
     "output_type": "stream",
     "text": [
      "             precision    recall  f1-score   support\n",
      "\n",
      "        0.0       0.96      0.73      0.83     21927\n",
      "        1.0       0.18      0.69      0.29      1908\n",
      "\n",
      "avg / total       0.90      0.72      0.79     23835\n",
      "\n"
     ]
    }
   ],
   "source": [
    "print classification_report(y_test, y_pred)"
   ]
  },
  {
   "cell_type": "code",
   "execution_count": 91,
   "metadata": {
    "collapsed": false,
    "scrolled": false
   },
   "outputs": [
    {
     "data": {
      "text/plain": [
       "0.70780721651288303"
      ]
     },
     "execution_count": 91,
     "metadata": {},
     "output_type": "execute_result"
    }
   ],
   "source": [
    "roc_auc_score(y_test,y_pred)"
   ]
  },
  {
   "cell_type": "markdown",
   "metadata": {},
   "source": [
    "### Calculating payout"
   ]
  },
  {
   "cell_type": "code",
   "execution_count": 117,
   "metadata": {
    "collapsed": false
   },
   "outputs": [
    {
     "name": "stdout",
     "output_type": "stream",
     "text": [
      "(23835,)\n"
     ]
    },
    {
     "data": {
      "text/plain": [
       "0.0    16546\n",
       "1.0     7289\n",
       "dtype: int64"
      ]
     },
     "execution_count": 117,
     "metadata": {},
     "output_type": "execute_result"
    }
   ],
   "source": [
    "print y_pred.shape\n",
    "pd.Series(y_pred).value_counts()"
   ]
  },
  {
   "cell_type": "code",
   "execution_count": 118,
   "metadata": {
    "collapsed": false
   },
   "outputs": [
    {
     "data": {
      "text/plain": [
       "0.0    21927\n",
       "1.0     1908\n",
       "Name: won, dtype: int64"
      ]
     },
     "execution_count": 118,
     "metadata": {},
     "output_type": "execute_result"
    }
   ],
   "source": [
    "pd.Series(y_test).value_counts()"
   ]
  },
  {
   "cell_type": "markdown",
   "metadata": {},
   "source": [
    "To simplify the calculation, we assume an initial pot of money of \\$7289. Since our model predicts 7289 instances of winning, we will bet \\$1 on each predicted win."
   ]
  },
  {
   "cell_type": "code",
   "execution_count": 119,
   "metadata": {
    "collapsed": false
   },
   "outputs": [
    {
     "data": {
      "text/plain": [
       "0.0    22522\n",
       "1.0     1313\n",
       "Name: won, dtype: int64"
      ]
     },
     "execution_count": 119,
     "metadata": {},
     "output_type": "execute_result"
    }
   ],
   "source": [
    "# True Positives only\n",
    "correct_pred = y_pred * y_test\n",
    "pd.Series(correct_pred).value_counts()"
   ]
  },
  {
   "cell_type": "code",
   "execution_count": 120,
   "metadata": {
    "collapsed": false
   },
   "outputs": [
    {
     "data": {
      "text/plain": [
       "6146.0000000000027"
      ]
     },
     "execution_count": 120,
     "metadata": {},
     "output_type": "execute_result"
    }
   ],
   "source": [
    "sum(X_test.win_odds * correct_pred)"
   ]
  },
  {
   "cell_type": "code",
   "execution_count": 121,
   "metadata": {
    "collapsed": false
   },
   "outputs": [
    {
     "data": {
      "text/plain": [
       "0.843188366031006"
      ]
     },
     "execution_count": 121,
     "metadata": {},
     "output_type": "execute_result"
    }
   ],
   "source": [
    "sum(X_test.win_odds * correct_pred)/7289"
   ]
  },
  {
   "cell_type": "markdown",
   "metadata": {},
   "source": [
    "### XGBClassifier: tuning hyperparameters"
   ]
  },
  {
   "cell_type": "code",
   "execution_count": 54,
   "metadata": {
    "collapsed": false,
    "scrolled": true
   },
   "outputs": [
    {
     "data": {
      "text/plain": [
       "XGBClassifier(base_score=0.5, colsample_bytree=1, gamma=0, learning_rate=0.05,\n",
       "       max_delta_step=0, max_depth=8, min_child_weight=1, missing=None,\n",
       "       n_estimators=400, nthread=-1, objective='binary:logistic', seed=0,\n",
       "       silent=True, subsample=1)"
      ]
     },
     "execution_count": 54,
     "metadata": {},
     "output_type": "execute_result"
    }
   ],
   "source": [
    "clf2 = XGBClassifier(n_estimators=400, max_depth=8, learning_rate=0.05)\n",
    "clf2.fit(X_resampled, y_resampled)"
   ]
  },
  {
   "cell_type": "code",
   "execution_count": 126,
   "metadata": {
    "collapsed": true
   },
   "outputs": [],
   "source": [
    "y_pred = clf2.predict(X_test)"
   ]
  },
  {
   "cell_type": "code",
   "execution_count": 56,
   "metadata": {
    "collapsed": false
   },
   "outputs": [
    {
     "data": {
      "text/plain": [
       "0.78292427102999795"
      ]
     },
     "execution_count": 56,
     "metadata": {},
     "output_type": "execute_result"
    }
   ],
   "source": [
    "accuracy_score(y_test, y_pred)"
   ]
  },
  {
   "cell_type": "code",
   "execution_count": 57,
   "metadata": {
    "collapsed": false
   },
   "outputs": [
    {
     "name": "stdout",
     "output_type": "stream",
     "text": [
      "             precision    recall  f1-score   support\n",
      "\n",
      "        0.0       0.95      0.80      0.87     21927\n",
      "        1.0       0.20      0.55      0.29      1908\n",
      "\n",
      "avg / total       0.89      0.78      0.83     23835\n",
      "\n"
     ]
    }
   ],
   "source": [
    "print classification_report(y_test, y_pred)"
   ]
  },
  {
   "cell_type": "code",
   "execution_count": 58,
   "metadata": {
    "collapsed": false,
    "scrolled": false
   },
   "outputs": [
    {
     "data": {
      "text/plain": [
       "0.67554349868187558"
      ]
     },
     "execution_count": 58,
     "metadata": {},
     "output_type": "execute_result"
    }
   ],
   "source": [
    "roc_auc_score(y_test,y_pred)"
   ]
  },
  {
   "cell_type": "markdown",
   "metadata": {},
   "source": [
    "After dropping the columns from the design matrix that turned out not to be features after all, the performance of models dropped across the board. So far it seems that the bookies cannot be beat consistently. \n",
    "\n",
    "xgboost is an implementation of Gradient Boosting which is very popular on Kaggle competitions due to its speed and good performance, which is amply demonstrated here. However, in some respects it is a bit of a black box: although xgboost nominally implements the same algorithm as the Gradient Boosting Classifier in sklearn, it has been noted by several Kaggle competitors that xgboost trains models differently and its results cannot be reproduced with other implementations on either sklearn or R."
   ]
  },
  {
   "cell_type": "code",
   "execution_count": 118,
   "metadata": {
    "collapsed": true
   },
   "outputs": [],
   "source": [
    "from sklearn.metrics import precision_recall_curve\n",
    "precision, recall, thresholds = precision_recall_curve(y_test, y_pred)"
   ]
  },
  {
   "cell_type": "markdown",
   "metadata": {},
   "source": [
    "### Pickling"
   ]
  },
  {
   "cell_type": "code",
   "execution_count": 78,
   "metadata": {
    "collapsed": true
   },
   "outputs": [],
   "source": [
    "import pickle\n",
    "pickle.dump(clf2, open(\"best_xgbclassifier_trained_check.pickle.dat\", \"wb\"))"
   ]
  },
  {
   "cell_type": "markdown",
   "metadata": {},
   "source": [
    "We can later use `loaded_model = pickle.load(open(\"best_xgbclassifier_trained.pickle.dat\", \"rb\"))` to load our trained model."
   ]
  },
  {
   "cell_type": "code",
   "execution_count": 79,
   "metadata": {
    "collapsed": true
   },
   "outputs": [],
   "source": [
    "loaded_model = pickle.load(open(\"best_xgbclassifier_trained_check.pickle.dat\", \"rb\"))"
   ]
  },
  {
   "cell_type": "code",
   "execution_count": 83,
   "metadata": {
    "collapsed": false
   },
   "outputs": [
    {
     "data": {
      "text/plain": [
       "{'base_score': 0.5,\n",
       " 'colsample_bytree': 1,\n",
       " 'gamma': 0,\n",
       " 'learning_rate': 0.05,\n",
       " 'max_delta_step': 0,\n",
       " 'max_depth': 8,\n",
       " 'min_child_weight': 1,\n",
       " 'missing': nan,\n",
       " 'n_estimators': 400,\n",
       " 'objective': 'binary:logistic',\n",
       " 'seed': 0,\n",
       " 'silent': 1,\n",
       " 'subsample': 1}"
      ]
     },
     "execution_count": 83,
     "metadata": {},
     "output_type": "execute_result"
    }
   ],
   "source": [
    "loaded_model.get_xgb_params()"
   ]
  },
  {
   "cell_type": "markdown",
   "metadata": {},
   "source": [
    "### Calculating payout"
   ]
  },
  {
   "cell_type": "code",
   "execution_count": 127,
   "metadata": {
    "collapsed": false
   },
   "outputs": [
    {
     "name": "stdout",
     "output_type": "stream",
     "text": [
      "(23835,)\n"
     ]
    },
    {
     "data": {
      "text/plain": [
       "0.0    18479\n",
       "1.0     5356\n",
       "dtype: int64"
      ]
     },
     "execution_count": 127,
     "metadata": {},
     "output_type": "execute_result"
    }
   ],
   "source": [
    "print y_pred.shape\n",
    "pd.Series(y_pred).value_counts()"
   ]
  },
  {
   "cell_type": "code",
   "execution_count": 128,
   "metadata": {
    "collapsed": false
   },
   "outputs": [
    {
     "data": {
      "text/plain": [
       "0.0    21927\n",
       "1.0     1908\n",
       "Name: won, dtype: int64"
      ]
     },
     "execution_count": 128,
     "metadata": {},
     "output_type": "execute_result"
    }
   ],
   "source": [
    "pd.Series(y_test).value_counts()"
   ]
  },
  {
   "cell_type": "markdown",
   "metadata": {},
   "source": [
    "To simplify the calculation, we assume an initial pot of money of \\$5356. Since our model predicts 5356 instances of winning, we will bet \\$1 on each predicted win."
   ]
  },
  {
   "cell_type": "code",
   "execution_count": 129,
   "metadata": {
    "collapsed": false
   },
   "outputs": [
    {
     "data": {
      "text/plain": [
       "0.0    22790\n",
       "1.0     1045\n",
       "Name: won, dtype: int64"
      ]
     },
     "execution_count": 129,
     "metadata": {},
     "output_type": "execute_result"
    }
   ],
   "source": [
    "# True Positives only\n",
    "correct_pred = y_pred * y_test\n",
    "pd.Series(correct_pred).value_counts()"
   ]
  },
  {
   "cell_type": "code",
   "execution_count": 130,
   "metadata": {
    "collapsed": false
   },
   "outputs": [
    {
     "data": {
      "text/plain": [
       "4562.300000000002"
      ]
     },
     "execution_count": 130,
     "metadata": {},
     "output_type": "execute_result"
    }
   ],
   "source": [
    "sum(X_test.win_odds * correct_pred)"
   ]
  },
  {
   "cell_type": "code",
   "execution_count": 133,
   "metadata": {
    "collapsed": false
   },
   "outputs": [
    {
     "data": {
      "text/plain": [
       "0.85181105302464566"
      ]
     },
     "execution_count": 133,
     "metadata": {},
     "output_type": "execute_result"
    }
   ],
   "source": [
    "sum(X_test.win_odds * correct_pred)/5356"
   ]
  },
  {
   "cell_type": "markdown",
   "metadata": {},
   "source": [
    "## Executive Summary"
   ]
  },
  {
   "cell_type": "markdown",
   "metadata": {},
   "source": [
    "A dataset on 6000+ historical Hong Kong Jockey Club horse races from 1997 to 2016 was obtained through public sources and processed to extract relevant features for predictive modelling of racing wins. Such features included race track location, condition, horse, jockey and trainer information.\n",
    "\n",
    "Exploratory Data Analysis revealed certain facts:\n",
    "\n",
    "- Although the country with the most race appearances were Australia and New Zealand by a large margin, by win percentage they were quite poorly performing, with horses from Greece, Canada and Argentina having the highest win percentages.\n",
    "- The number of race appearances by jockeys followed a Pareto distribution.\n",
    "- Prize money exhibited strong seasonality, corresponding with scheduled high-profile events and competitions.\n",
    "- The vast majority (exceeding 90%) of all competing horse appearances were by Geldings.\n",
    "\n",
    "These observations must be balanced by the fact that our best predictive models were not able to predict consistently accurately enough to overcome the large betting margin enjoyed by the Hong Kong Jockey Club, in part due to its status as a legal monopoly for gambling. The following Machine Learning models were trained and tested on the data:\n",
    "\n",
    "- Logistic Regression\n",
    "- Random Forest Classifer\n",
    "- Gradient Boosting Classifer\n",
    "\n",
    "Model selection based on accuracy score, ROC AUC score and Precision/Recall was performed. The highest performing model was determined to be the Gradient Boosting Classifier. However, calculating the payout based on betting with the model's predictions resulted in an overall loss of 15% over time.\n",
    "\n",
    "Based on these results, it is determined that continuing to try and predict wins consistently has a very low likelihood of success for making money."
   ]
  },
  {
   "cell_type": "markdown",
   "metadata": {},
   "source": [
    "## Discussion of model selection and implementation"
   ]
  },
  {
   "cell_type": "markdown",
   "metadata": {
    "collapsed": true
   },
   "source": [
    "A rather straightforward approach was taken with model selection, which had the advantage of being easy and quick to implement:\n",
    "\n",
    "- 70:30 Train/Test split of the dataset\n",
    "- Random Oversampling of wins to mitigate the fact that the target variable (wins) was highly imbalanced (~1:11)\n",
    "- Modelling with Logistic Regression, Random Forest Classifer and Gradient Boosting Classifier on the training set\n",
    "- Applying each model on the test set\n",
    "- Model valuation using Accuracy score, ROC AUC score and Precision/Recall \n",
    "\n",
    "This workflow helped us quickly see that even our best models were far from our goal of beating the bookies' generous betting margins, thereby allowing us to quickly assess that continuing with the project would have a very low likelihood of succeeding. In a commercial setting, this approach has the value of allowing us to assess projects rapidly, and cut off less productive ones to free up resources for other pursuits.\n",
    "\n",
    "If the results had turned out to be more promising and thus worthy of additional time investment, then a number of improvements could be made to the model selection and implementation process:\n",
    "\n",
    "- Split the data into Train/Validation/Test sets (60:20:20) then apply nested cross validation on each Machine Learning algorithm\n",
    "- Plot learning curves, ROC curves etc. and make explicit the performance differences and model selection criteria\n",
    "- Retrain the highest performing model on the Train+Validation set for better generalisation"
   ]
  },
  {
   "cell_type": "markdown",
   "metadata": {},
   "source": [
    "## Stakeholder recommendations and next steps"
   ]
  },
  {
   "cell_type": "markdown",
   "metadata": {
    "collapsed": true
   },
   "source": [
    "Based on the fact that the predictive ability of our models at this stage are significantly below what would be needed to consistently beat the generous betting margins of HKJC due to its legal monopoly in Hong Kong, the recommendation to stakeholders would be that **continuing to try and predict wins consistently has a very low likelihood of success. Further effort into improving the data gathering, feature engineering and modelling process would very likely not be a worthy time investment.**\n",
    "\n",
    "However, the option is open for stakeholders to decide if other betting pools such as Place, Quinella, Trio etc. are worthy of investigation. Although this avenue was not explored, the fact remains that HKJC is allowed to enjoy very high betting margins due to its legal monopoly, and thus it would be reasonable to argue that any predictive model would probably have to be exceptionally high performing to be able to make predictions consistently and accurately enough to make money for the bettors."
   ]
  }
 ],
 "metadata": {
  "anaconda-cloud": {},
  "kernelspec": {
   "display_name": "Python [default]",
   "language": "python",
   "name": "python2"
  },
  "language_info": {
   "codemirror_mode": {
    "name": "ipython",
    "version": 2
   },
   "file_extension": ".py",
   "mimetype": "text/x-python",
   "name": "python",
   "nbconvert_exporter": "python",
   "pygments_lexer": "ipython2",
   "version": "2.7.12"
  }
 },
 "nbformat": 4,
 "nbformat_minor": 1
}
