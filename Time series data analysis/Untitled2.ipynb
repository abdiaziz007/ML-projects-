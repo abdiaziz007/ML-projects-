{
 "cells": [
  {
   "cell_type": "code",
   "execution_count": 1,
   "metadata": {},
   "outputs": [],
   "source": [
    "import pandas as pd\n",
    "import numpy as np\n",
    "%matplotlib inline"
   ]
  },
  {
   "cell_type": "code",
   "execution_count": null,
   "metadata": {},
   "outputs": [],
   "source": [
    "#Load specific forecasting tools\n",
    "\n",
    "from statsmodels.tsa.api import VAR\n",
    "from statsmodels.tssa.stattools import adfuller\n",
    "from statsmodels.tools.eval_measures import rmse\n",
    "\n",
    "#Ignore harless warnings\n",
    "import warnings\n",
    "warning.filterwarnigs('ignore')\n",
    "\n",
    "#load datasets\n",
    "\n",
    "df = pd.read_csv('../Data/')\n",
    "\n",
    "df2 = pd.read_csv(the is the best method you can use for he time series data ml prokects this ois for the best ethod we use andas series )"
   ]
  }
 ],
 "metadata": {
  "kernelspec": {
   "display_name": "Python 3",
   "language": "python",
   "name": "python3"
  },
  "language_info": {
   "codemirror_mode": {
    "name": "ipython",
    "version": 3
   },
   "file_extension": ".py",
   "mimetype": "text/x-python",
   "name": "python",
   "nbconvert_exporter": "python",
   "pygments_lexer": "ipython3",
   "version": "3.7.4"
  }
 },
 "nbformat": 4,
 "nbformat_minor": 2
}
