{
 "cells": [
  {
   "cell_type": "markdown",
   "metadata": {
    "colab_type": "text",
    "id": "Si2xAr4od7An"
   },
   "source": [
    "## Parts of Speech Tagging \n",
    "\n",
    "### Comparison of Methods\n",
    "\n",
    "Let's compare different Parts-Of-Speech (POS) taggers. Python has some popular libraries for Natural Language Processing:\n",
    "\n",
    "- NLTK\n",
    "\n",
    "- spaCy\n",
    "\n",
    "- fastText\n",
    "\n",
    "- gensim\n",
    "\n",
    "Using the Treebank tagged corpus in the NLTK library, we'll compare the accuracy for some of NLTK's and spaCy's taggers, as well as a simple bidirectional LSTM trained using Keras, with a Tensorflow backend on a Google Colab instance."
   ]
  },
  {
   "cell_type": "markdown",
   "metadata": {
    "colab_type": "text",
    "id": "8njPfYo4d7At"
   },
   "source": [
    "### Libraries"
   ]
  },
  {
   "cell_type": "code",
   "execution_count": 1,
   "metadata": {
    "colab": {
     "base_uri": "https://localhost:8080/",
     "height": 34
    },
    "colab_type": "code",
    "id": "TW7z7Yrfd7Ax",
    "outputId": "3bf508a4-d093-448a-acf8-190aa46820f0"
   },
   "outputs": [
    {
     "name": "stderr",
     "output_type": "stream",
     "text": [
      "Using TensorFlow backend.\n"
     ]
    }
   ],
   "source": [
    "import random\n",
    "import numpy as np\n",
    "import pandas as pd\n",
    "from collections import Counter, defaultdict\n",
    "\n",
    "from keras import backend as K\n",
    "from keras.engine import Layer\n",
    "from keras.layers import (Dense, LSTM, InputLayer, Bidirectional, TimeDistributed, \n",
    "                          Embedding, Activation)\n",
    "from keras.models import Sequential\n",
    "from keras.optimizers import Adam\n",
    "from keras.preprocessing.sequence import pad_sequences\n",
    "from keras.utils import multi_gpu_model\n",
    "\n",
    "import nltk\n",
    "from nltk import ConfusionMatrix\n",
    "from nltk.corpus import treebank, treebank_chunk\n",
    "from nltk.tag import (UnigramTagger, BigramTagger, RegexpTagger, DefaultTagger,  \n",
    "                      PerceptronTagger)\n",
    "\n",
    "from sklearn.model_selection import train_test_split\n",
    "\n",
    "import spacy\n",
    "\n",
    "import tensorflow as tf\n",
    "import tensorflow_hub as hub\n",
    "\n",
    "from utils_pos_tagging import (compare_taggers, get_tag_list, apply_tagger, get_performance_dataframe,\n",
    "                               get_spacy_test_sentences, get_spacy_accuracy, flatten_tagged_sentences,\n",
    "                               get_word2index, get_tag2index, sentence2int, tag2int, one_hot_encoding)\n",
    "\n",
    "from IPython.display import display"
   ]
  },
  {
   "cell_type": "code",
   "execution_count": 2,
   "metadata": {
    "colab": {
     "base_uri": "https://localhost:8080/",
     "height": 208
    },
    "colab_type": "code",
    "id": "pgn1bnLod7A_",
    "outputId": "1e5ab48e-41b9-4a5c-c1c9-c5d9a7107159",
    "scrolled": true
   },
   "outputs": [
    {
     "name": "stderr",
     "output_type": "stream",
     "text": [
      "[nltk_data] Downloading package tagsets to /Users/Matt/nltk_data...\n",
      "[nltk_data]   Package tagsets is already up-to-date!\n",
      "[nltk_data] Downloading package treebank to /Users/Matt/nltk_data...\n",
      "[nltk_data]   Package treebank is already up-to-date!\n",
      "[nltk_data] Downloading package maxent_treebank_pos_tagger to\n",
      "[nltk_data]     /Users/Matt/nltk_data...\n",
      "[nltk_data]   Package maxent_treebank_pos_tagger is already up-to-\n",
      "[nltk_data]       date!\n",
      "[nltk_data] Downloading package averaged_perceptron_tagger to\n",
      "[nltk_data]     /Users/Matt/nltk_data...\n",
      "[nltk_data]   Package averaged_perceptron_tagger is already up-to-\n",
      "[nltk_data]       date!\n"
     ]
    },
    {
     "data": {
      "text/plain": [
       "True"
      ]
     },
     "execution_count": 2,
     "metadata": {},
     "output_type": "execute_result"
    }
   ],
   "source": [
    "nltk.download('tagsets')\n",
    "nltk.download('treebank')\n",
    "nltk.download('maxent_treebank_pos_tagger')\n",
    "nltk.download('averaged_perceptron_tagger')"
   ]
  },
  {
   "cell_type": "markdown",
   "metadata": {
    "colab_type": "text",
    "id": "_kPs7xXFd7BL"
   },
   "source": [
    "### Penn Treebank Documentation\n",
    "\n",
    ">[ PENN TREEBANK SAMPLE ]\n",
    "http://www.cis.upenn.edu/~treebank/home.html\n",
    "\n",
    ">This is a ~5% fragment of Penn Treebank, (C) LDC 1995.  It is made\n",
    "available under fair use for the purposes of illustrating NLTK tools\n",
    "for tokenizing, tagging, chunking and parsing.  This data is for\n",
    "non-commercial use only."
   ]
  },
  {
   "cell_type": "code",
   "execution_count": 3,
   "metadata": {
    "colab": {
     "base_uri": "https://localhost:8080/",
     "height": 89
    },
    "colab_type": "code",
    "id": "zdeVqEJSd7BN",
    "outputId": "1d94e2d9-b93f-4989-99c2-cf826790cd86"
   },
   "outputs": [
    {
     "name": "stdout",
     "output_type": "stream",
     "text": [
      "[('``', '``'), ('The', 'DT'), ('real', 'JJ'), ('difference', 'NN'), ('seems', 'VBZ'), ('*-1', '-NONE-'), ('to', 'TO'), ('be', 'VB'), ('that', 'IN'), ('the', 'DT'), ('cash', 'NN'), ('market', 'NN'), ('here', 'RB'), ('...', ':'), ('is', 'VBZ'), ('big', 'JJ'), ('enough', 'RB'), ('*RNR*-2', '-NONE-'), ('and', 'CC'), ('liquid', 'NN'), ('enough', 'RB'), ('*RNR*-2', '-NONE-'), ('that', 'IN'), ('the', 'DT'), ('futures', 'NNS'), ('market', 'NN'), ('is', 'VBZ'), (\"n't\", 'RB'), ('having', 'VBG'), ('the', 'DT'), ('same', 'JJ'), ('impact', 'NN'), ('0', '-NONE-'), ('it', 'PRP'), ('does', 'VBZ'), ('*?*', '-NONE-'), ('*T*-3', '-NONE-'), ('in', 'IN'), ('America', 'NNP'), ('.', '.'), (\"''\", \"''\")]\n",
      "Tagged sentences: 3914\n",
      "Tagged words: 100676\n"
     ]
    }
   ],
   "source": [
    "tagged_sentences = treebank.tagged_sents()\n",
    "print(random.choice(tagged_sentences))\n",
    "print(\"Tagged sentences:\", len(tagged_sentences))\n",
    "print(\"Tagged words:\", len(treebank.tagged_words()))"
   ]
  },
  {
   "cell_type": "code",
   "execution_count": 4,
   "metadata": {
    "colab": {
     "base_uri": "https://localhost:8080/",
     "height": 208
    },
    "colab_type": "code",
    "id": "JOnWMoTzd7BX",
    "outputId": "5a44f724-4ec0-405b-c3b2-01deeb94c199"
   },
   "outputs": [
    {
     "data": {
      "text/plain": [
       "NN        13166\n",
       "IN         9857\n",
       "NNP        9410\n",
       "DT         8165\n",
       "-NONE-     6592\n",
       "NNS        6047\n",
       "JJ         5834\n",
       ",          4886\n",
       ".          3874\n",
       "CD         3546\n",
       "dtype: int64"
      ]
     },
     "execution_count": 4,
     "metadata": {},
     "output_type": "execute_result"
    }
   ],
   "source": [
    "# tag raw count\n",
    "tag_list = list()\n",
    "for s in tagged_sentences:\n",
    "    tag_list.extend([i[1] for i in s])\n",
    "pd.Series(Counter(tag_list)).sort_values(ascending=False).head(10)"
   ]
  },
  {
   "cell_type": "code",
   "execution_count": 5,
   "metadata": {
    "colab": {
     "base_uri": "https://localhost:8080/",
     "height": 637
    },
    "colab_type": "code",
    "id": "_d7_TTzUd7Bj",
    "outputId": "0ee74a29-413a-4a97-c92c-667ef67f0167",
    "scrolled": true
   },
   "outputs": [
    {
     "name": "stderr",
     "output_type": "stream",
     "text": [
      "//anaconda/envs/streetbees/lib/python3.6/site-packages/nltk/tokenize/regexp.py:130: FutureWarning: split() requires a non-empty pattern match.\n",
      "  return [tok for tok in self._regexp.split(text) if tok]\n"
     ]
    },
    {
     "data": {
      "image/png": "[encoded data removed]",
      "text/plain": [
       "Tree('S', [Tree('NP', [('Pierre', 'NNP'), ('Vinken', 'NNP')]), (',', ','), Tree('NP', [('61', 'CD'), ('years', 'NNS')]), ('old', 'JJ'), (',', ','), ('will', 'MD'), ('join', 'VB'), Tree('NP', [('the', 'DT'), ('board', 'NN')]), ('as', 'IN'), Tree('NP', [('a', 'DT'), ('nonexecutive', 'JJ'), ('director', 'NN'), ('Nov.', 'NNP'), ('29', 'CD')]), ('.', '.')])"
      ]
     },
     "metadata": {},
     "output_type": "display_data"
    }
   ],
   "source": [
    "# visualisation\n",
    "display(treebank_chunk.chunked_sents()[0])"
   ]
  },
  {
   "cell_type": "markdown",
   "metadata": {
    "colab_type": "text",
    "id": "zlyWQZDDd7Bv"
   },
   "source": [
    "## NLTK taggers\n",
    "\n",
    "The following built in taggers are tested:\n",
    "\n",
    "- `RegexpTagger`\n",
    "\n",
    "- `DefaultTagger`\n",
    "\n",
    "- `UnigramTagger`\n",
    "\n",
    "- `BigramTagger`\n",
    "\n",
    "- `PerceptronTagger`"
   ]
  },
  {
   "cell_type": "code",
   "execution_count": 6,
   "metadata": {
    "colab": {},
    "colab_type": "code",
    "id": "XCeVssmWd7By"
   },
   "outputs": [],
   "source": [
    "# Keeping it simple for now, 80:20 train/test split without random sampling\n",
    "split = int(len(tagged_sentences)*0.2)\n",
    "train_sentences = tagged_sentences[split:]\n",
    "test_sentences = tagged_sentences[:split]"
   ]
  },
  {
   "cell_type": "code",
   "execution_count": 7,
   "metadata": {
    "colab": {},
    "colab_type": "code",
    "id": "iyX2zV9Zd7CA"
   },
   "outputs": [],
   "source": [
    "# some regex patterns from NLTK documentation\n",
    "patterns = [\n",
    "    (r'.*ing$', 'VBG'),               # gerunds\n",
    "    (r'.*ed$', 'VBD'),                # simple past\n",
    "    (r'.*es$', 'VBZ'),                # 3rd singular present\n",
    "    (r'.*ould$', 'MD'),               # modals\n",
    "    (r'.*s$', 'NNS'),                 # plural nouns\n",
    "    (r'^-?[0-9]+(.[0-9]+)?$', 'CD'),  # cardinal numbers\n",
    "    (r'.*able$', 'JJ'),               # adjectives\n",
    "    (r'.*ly$', 'RB'),                 # adverbs\n",
    "    (r'.*', 'NN')                     # nouns\n",
    "]"
   ]
  },
  {
   "cell_type": "code",
   "execution_count": 8,
   "metadata": {
    "colab": {},
    "colab_type": "code",
    "id": "NAWLym5rd7CO"
   },
   "outputs": [
    {
     "name": "stdout",
     "output_type": "stream",
     "text": [
      "6.81 µs ± 250 ns per loop (mean ± std. dev. of 7 runs, 100000 loops each)\n"
     ]
    }
   ],
   "source": [
    "%timeit regexp_tagger = RegexpTagger(patterns)"
   ]
  },
  {
   "cell_type": "code",
   "execution_count": 9,
   "metadata": {
    "colab": {},
    "colab_type": "code",
    "id": "qtHoiIdnd7CX"
   },
   "outputs": [
    {
     "name": "stdout",
     "output_type": "stream",
     "text": [
      "794 ns ± 19.3 ns per loop (mean ± std. dev. of 7 runs, 1000000 loops each)\n"
     ]
    }
   ],
   "source": [
    "%timeit default_tagger = DefaultTagger('NN') # majority tag by inspection above"
   ]
  },
  {
   "cell_type": "code",
   "execution_count": 10,
   "metadata": {
    "colab": {},
    "colab_type": "code",
    "id": "JBZoj9qZd7Cb"
   },
   "outputs": [
    {
     "name": "stdout",
     "output_type": "stream",
     "text": [
      "1.81 s ± 44.9 ms per loop (mean ± std. dev. of 7 runs, 1 loop each)\n"
     ]
    }
   ],
   "source": [
    "%timeit unigram_tagger = UnigramTagger(train_sentences)"
   ]
  },
  {
   "cell_type": "code",
   "execution_count": 11,
   "metadata": {
    "colab": {},
    "colab_type": "code",
    "id": "hN4qFlQAd7Cp"
   },
   "outputs": [
    {
     "name": "stdout",
     "output_type": "stream",
     "text": [
      "2.04 s ± 47.4 ms per loop (mean ± std. dev. of 7 runs, 1 loop each)\n"
     ]
    }
   ],
   "source": [
    "%timeit bigram_tagger = BigramTagger(train_sentences)"
   ]
  },
  {
   "cell_type": "code",
   "execution_count": 12,
   "metadata": {
    "colab": {},
    "colab_type": "code",
    "id": "7P510xcWd7Cz"
   },
   "outputs": [
    {
     "name": "stdout",
     "output_type": "stream",
     "text": [
      "19.4 s ± 1.36 s per loop (mean ± std. dev. of 3 runs, 1 loop each)\n"
     ]
    }
   ],
   "source": [
    "%%timeit -r 3\n",
    "perceptron_tagger = PerceptronTagger()\n",
    "perceptron_tagger.train(train_sentences)"
   ]
  },
  {
   "cell_type": "code",
   "execution_count": 13,
   "metadata": {
    "colab": {},
    "colab_type": "code",
    "id": "xoipCrild7C7"
   },
   "outputs": [],
   "source": [
    "# training set only\n",
    "regexp_tagger = RegexpTagger(patterns)\n",
    "default_tagger = DefaultTagger('NN') # majority tag by inspection above\n",
    "unigram_tagger = UnigramTagger(train_sentences)\n",
    "bigram_tagger = BigramTagger(train_sentences)\n",
    "perceptron_tagger = PerceptronTagger()\n",
    "perceptron_tagger.train(train_sentences)"
   ]
  },
  {
   "cell_type": "markdown",
   "metadata": {
    "colab_type": "text",
    "id": "2E-Mauccd7DB"
   },
   "source": [
    "## Test set evaluation of NLTK taggers \n",
    "\n",
    "### Accuracy"
   ]
  },
  {
   "cell_type": "code",
   "execution_count": 14,
   "metadata": {
    "colab": {},
    "colab_type": "code",
    "id": "pK25FxVJd7DE",
    "outputId": "93758206-0c93-4c7d-8d43-d2abb646c916"
   },
   "outputs": [
    {
     "name": "stderr",
     "output_type": "stream",
     "text": [
      "//anaconda/envs/streetbees/lib/python3.6/site-packages/sklearn/metrics/classification.py:1143: UndefinedMetricWarning: Precision is ill-defined and being set to 0.0 in labels with no predicted samples.\n",
      "  'precision', 'predicted', average, warn_for)\n",
      "//anaconda/envs/streetbees/lib/python3.6/site-packages/sklearn/metrics/classification.py:1143: UndefinedMetricWarning: F-score is ill-defined and being set to 0.0 in labels with no predicted samples.\n",
      "  'precision', 'predicted', average, warn_for)\n"
     ]
    }
   ],
   "source": [
    "tagger_dict = {\n",
    "    'RegExpTagger': regexp_tagger,\n",
    "    'DefaultTagger': default_tagger,\n",
    "    'UnigramTagger': unigram_tagger,\n",
    "    'BigramTagger': bigram_tagger,\n",
    "    'PerceptronTagger': perceptron_tagger\n",
    "}\n",
    "compare_df = compare_taggers(tagger_dict, test_sentences)"
   ]
  },
  {
   "cell_type": "code",
   "execution_count": 15,
   "metadata": {
    "colab": {},
    "colab_type": "code",
    "id": "0eck0_Qvd7DR",
    "outputId": "07ee7453-08a4-455b-ecc7-33e19e7a9353"
   },
   "outputs": [
    {
     "data": {
      "text/html": [
       "<div>\n",
       "<style scoped>\n",
       "    .dataframe tbody tr th:only-of-type {\n",
       "        vertical-align: middle;\n",
       "    }\n",
       "\n",
       "    .dataframe tbody tr th {\n",
       "        vertical-align: top;\n",
       "    }\n",
       "\n",
       "    .dataframe thead th {\n",
       "        text-align: right;\n",
       "    }\n",
       "</style>\n",
       "<table border=\"1\" class=\"dataframe\">\n",
       "  <thead>\n",
       "    <tr style=\"text-align: right;\">\n",
       "      <th></th>\n",
       "      <th>Accuracy</th>\n",
       "      <th>F1</th>\n",
       "      <th>Precision</th>\n",
       "      <th>Recall</th>\n",
       "    </tr>\n",
       "  </thead>\n",
       "  <tbody>\n",
       "    <tr>\n",
       "      <th>PerceptronTagger</th>\n",
       "      <td>0.965131</td>\n",
       "      <td>0.964966</td>\n",
       "      <td>0.965363</td>\n",
       "      <td>0.965131</td>\n",
       "    </tr>\n",
       "    <tr>\n",
       "      <th>UnigramTagger</th>\n",
       "      <td>0.840451</td>\n",
       "      <td>0.853554</td>\n",
       "      <td>0.901197</td>\n",
       "      <td>0.840451</td>\n",
       "    </tr>\n",
       "    <tr>\n",
       "      <th>RegExpTagger</th>\n",
       "      <td>0.220020</td>\n",
       "      <td>0.127380</td>\n",
       "      <td>0.179654</td>\n",
       "      <td>0.220020</td>\n",
       "    </tr>\n",
       "    <tr>\n",
       "      <th>BigramTagger</th>\n",
       "      <td>0.186124</td>\n",
       "      <td>0.217920</td>\n",
       "      <td>0.908818</td>\n",
       "      <td>0.186124</td>\n",
       "    </tr>\n",
       "    <tr>\n",
       "      <th>DefaultTagger</th>\n",
       "      <td>0.127189</td>\n",
       "      <td>0.028703</td>\n",
       "      <td>0.016177</td>\n",
       "      <td>0.127189</td>\n",
       "    </tr>\n",
       "  </tbody>\n",
       "</table>\n",
       "</div>"
      ],
      "text/plain": [
       "                  Accuracy        F1  Precision    Recall\n",
       "PerceptronTagger  0.965131  0.964966   0.965363  0.965131\n",
       "UnigramTagger     0.840451  0.853554   0.901197  0.840451\n",
       "RegExpTagger      0.220020  0.127380   0.179654  0.220020\n",
       "BigramTagger      0.186124  0.217920   0.908818  0.186124\n",
       "DefaultTagger     0.127189  0.028703   0.016177  0.127189"
      ]
     },
     "execution_count": 15,
     "metadata": {},
     "output_type": "execute_result"
    }
   ],
   "source": [
    "compare_df.sort_values(['Accuracy', 'F1'], ascending=False)"
   ]
  },
  {
   "cell_type": "markdown",
   "metadata": {
    "colab_type": "text",
    "id": "XCB6PWI1d7Di"
   },
   "source": [
    "PerceptronTagger **per-token accuracy** on the test set at 0.966 approaches the generally reported 97% figures [1] for state of the art machine learning POS tagging. It may be possible to push the metric further up if the entire Treebank corpus were available to expand the training set, instead of the current ~5% subset, but with diminishing returns of performance gain.\n",
    "\n",
    "It is important to note that a per-token accuracy metric does not reflect adequately the quality of tagging on a sentence level. [2]\n",
    "\n",
    "[1] https://aclweb.org/aclwiki/POS_Tagging_(State_of_the_art)\n",
    "\n",
    "[2] https://nlp.stanford.edu/pubs/CICLing2011-manning-tagging.pdf"
   ]
  },
  {
   "cell_type": "markdown",
   "metadata": {
    "colab_type": "text",
    "id": "VmVQRKqnd7Dl"
   },
   "source": [
    "### Confusion Matrix"
   ]
  },
  {
   "cell_type": "code",
   "execution_count": 16,
   "metadata": {
    "colab": {},
    "colab_type": "code",
    "id": "n4HFsV5rd7Do",
    "outputId": "f8b43e60-65b8-4870-96a0-8f52c4165ee5"
   },
   "outputs": [
    {
     "name": "stdout",
     "output_type": "stream",
     "text": [
      "       |                                  -                                    |\n",
      "       |                                  N                                    |\n",
      "       |                                  O                                    |\n",
      "       |             N                    N             N                    V |\n",
      "       |      N      N      I      D      E      J      N                    B |\n",
      "       |      N      P      N      T      -      J      S      ,      .      D |\n",
      "-------+-----------------------------------------------------------------------+\n",
      "    NN | <12.1%>  0.1%   0.0%   0.0%      .   0.3%   0.0%      .      .   0.0% |\n",
      "   NNP |   0.1%  <9.8%>     .   0.0%      .   0.1%   0.0%      .      .      . |\n",
      "    IN |      .      .  <9.9%>  0.0%      .   0.0%      .      .      .      . |\n",
      "    DT |   0.0%      .   0.0%  <8.3%>     .      .      .      .      .      . |\n",
      "-NONE- |      .      .      .      .  <6.4%>     .      .      .      .      . |\n",
      "    JJ |   0.4%   0.1%   0.0%   0.0%      .  <5.4%>  0.0%      .      .   0.0% |\n",
      "   NNS |   0.0%   0.0%      .      .      .   0.0%  <5.9%>     .      .      . |\n",
      "     , |      .   0.0%      .      .      .      .      .  <4.7%>     .      . |\n",
      "     . |      .      .      .      .      .      .      .      .  <4.0%>     . |\n",
      "   VBD |   0.0%      .      .      .      .      .      .      .      .  <3.2%>|\n",
      "-------+-----------------------------------------------------------------------+\n",
      "(row = reference; col = test)\n",
      "\n"
     ]
    }
   ],
   "source": [
    "# Picking the best performing PerceptronTagger as example\n",
    "truth = get_tag_list(test_sentences)\n",
    "preds = get_tag_list(apply_tagger(perceptron_tagger, test_sentences))\n",
    "confusion_matrix = ConfusionMatrix(truth, preds)\n",
    "\n",
    "print(confusion_matrix.pretty_format(show_percents=True, truncate=10, sort_by_count=True))"
   ]
  },
  {
   "cell_type": "markdown",
   "metadata": {
    "colab_type": "text",
    "id": "tMYrTbFqd7Dz"
   },
   "source": [
    "We can also look at the individual metrics for each tag to give a finer grained picture over the weighted average metrics for Precision, Recall and F1-Score calculated above."
   ]
  },
  {
   "cell_type": "code",
   "execution_count": 17,
   "metadata": {
    "colab": {},
    "colab_type": "code",
    "id": "xtrrf_NHd7Dz"
   },
   "outputs": [],
   "source": [
    "test_tag_list = list()\n",
    "for s in test_sentences:\n",
    "    test_tag_list.extend([(i[0], i[1]) for i in s])"
   ]
  },
  {
   "cell_type": "code",
   "execution_count": 18,
   "metadata": {
    "colab": {},
    "colab_type": "code",
    "id": "B99Q0tLbd7D7",
    "outputId": "8bf5855c-d61e-427a-9389-b9dda790d950"
   },
   "outputs": [
    {
     "name": "stdout",
     "output_type": "stream",
     "text": [
      "perceptron_tagger\n"
     ]
    },
    {
     "data": {
      "text/html": [
       "<div>\n",
       "<style scoped>\n",
       "    .dataframe tbody tr th:only-of-type {\n",
       "        vertical-align: middle;\n",
       "    }\n",
       "\n",
       "    .dataframe tbody tr th {\n",
       "        vertical-align: top;\n",
       "    }\n",
       "\n",
       "    .dataframe thead th {\n",
       "        text-align: right;\n",
       "    }\n",
       "</style>\n",
       "<table border=\"1\" class=\"dataframe\">\n",
       "  <thead>\n",
       "    <tr style=\"text-align: right;\">\n",
       "      <th></th>\n",
       "      <th>F1</th>\n",
       "      <th>Precision</th>\n",
       "      <th>Recall</th>\n",
       "    </tr>\n",
       "  </thead>\n",
       "  <tbody>\n",
       "    <tr>\n",
       "      <th>NNP</th>\n",
       "      <td>0.816052</td>\n",
       "      <td>0.966690</td>\n",
       "      <td>0.706031</td>\n",
       "    </tr>\n",
       "    <tr>\n",
       "      <th>,</th>\n",
       "      <td>0.999450</td>\n",
       "      <td>1.000000</td>\n",
       "      <td>0.998901</td>\n",
       "    </tr>\n",
       "    <tr>\n",
       "      <th>CD</th>\n",
       "      <td>0.969416</td>\n",
       "      <td>0.977570</td>\n",
       "      <td>0.961397</td>\n",
       "    </tr>\n",
       "    <tr>\n",
       "      <th>NNS</th>\n",
       "      <td>0.921844</td>\n",
       "      <td>0.874525</td>\n",
       "      <td>0.974576</td>\n",
       "    </tr>\n",
       "    <tr>\n",
       "      <th>JJ</th>\n",
       "      <td>0.764623</td>\n",
       "      <td>0.887079</td>\n",
       "      <td>0.671875</td>\n",
       "    </tr>\n",
       "    <tr>\n",
       "      <th>MD</th>\n",
       "      <td>1.000000</td>\n",
       "      <td>1.000000</td>\n",
       "      <td>1.000000</td>\n",
       "    </tr>\n",
       "    <tr>\n",
       "      <th>NN</th>\n",
       "      <td>0.772423</td>\n",
       "      <td>0.639873</td>\n",
       "      <td>0.974235</td>\n",
       "    </tr>\n",
       "    <tr>\n",
       "      <th>DT</th>\n",
       "      <td>0.991970</td>\n",
       "      <td>0.993197</td>\n",
       "      <td>0.990746</td>\n",
       "    </tr>\n",
       "    <tr>\n",
       "      <th>IN</th>\n",
       "      <td>0.955495</td>\n",
       "      <td>0.921727</td>\n",
       "      <td>0.991833</td>\n",
       "    </tr>\n",
       "    <tr>\n",
       "      <th>.</th>\n",
       "      <td>1.000000</td>\n",
       "      <td>1.000000</td>\n",
       "      <td>1.000000</td>\n",
       "    </tr>\n",
       "    <tr>\n",
       "      <th>VBZ</th>\n",
       "      <td>0.823529</td>\n",
       "      <td>1.000000</td>\n",
       "      <td>0.700000</td>\n",
       "    </tr>\n",
       "    <tr>\n",
       "      <th>JJR</th>\n",
       "      <td>0.641026</td>\n",
       "      <td>0.515464</td>\n",
       "      <td>0.847458</td>\n",
       "    </tr>\n",
       "    <tr>\n",
       "      <th>RB</th>\n",
       "      <td>0.804774</td>\n",
       "      <td>0.761290</td>\n",
       "      <td>0.853526</td>\n",
       "    </tr>\n",
       "    <tr>\n",
       "      <th>CC</th>\n",
       "      <td>0.990676</td>\n",
       "      <td>0.990676</td>\n",
       "      <td>0.990676</td>\n",
       "    </tr>\n",
       "    <tr>\n",
       "      <th>VBD</th>\n",
       "      <td>0.765186</td>\n",
       "      <td>0.919390</td>\n",
       "      <td>0.655280</td>\n",
       "    </tr>\n",
       "    <tr>\n",
       "      <th>VBN</th>\n",
       "      <td>0.671202</td>\n",
       "      <td>0.614108</td>\n",
       "      <td>0.740000</td>\n",
       "    </tr>\n",
       "    <tr>\n",
       "      <th>-NONE-</th>\n",
       "      <td>1.000000</td>\n",
       "      <td>1.000000</td>\n",
       "      <td>1.000000</td>\n",
       "    </tr>\n",
       "    <tr>\n",
       "      <th>TO</th>\n",
       "      <td>0.998736</td>\n",
       "      <td>0.997475</td>\n",
       "      <td>1.000000</td>\n",
       "    </tr>\n",
       "    <tr>\n",
       "      <th>PRP</th>\n",
       "      <td>0.976540</td>\n",
       "      <td>0.994030</td>\n",
       "      <td>0.959654</td>\n",
       "    </tr>\n",
       "    <tr>\n",
       "      <th>VBG</th>\n",
       "      <td>0.711207</td>\n",
       "      <td>0.877660</td>\n",
       "      <td>0.597826</td>\n",
       "    </tr>\n",
       "    <tr>\n",
       "      <th>PRP$</th>\n",
       "      <td>0.962751</td>\n",
       "      <td>0.928177</td>\n",
       "      <td>1.000000</td>\n",
       "    </tr>\n",
       "    <tr>\n",
       "      <th>JJS</th>\n",
       "      <td>0.867470</td>\n",
       "      <td>0.857143</td>\n",
       "      <td>0.878049</td>\n",
       "    </tr>\n",
       "    <tr>\n",
       "      <th>VB</th>\n",
       "      <td>0.356913</td>\n",
       "      <td>0.613260</td>\n",
       "      <td>0.251701</td>\n",
       "    </tr>\n",
       "    <tr>\n",
       "      <th>POS</th>\n",
       "      <td>0.870712</td>\n",
       "      <td>0.833333</td>\n",
       "      <td>0.911602</td>\n",
       "    </tr>\n",
       "    <tr>\n",
       "      <th>``</th>\n",
       "      <td>1.000000</td>\n",
       "      <td>1.000000</td>\n",
       "      <td>1.000000</td>\n",
       "    </tr>\n",
       "    <tr>\n",
       "      <th>VBP</th>\n",
       "      <td>0.490798</td>\n",
       "      <td>1.000000</td>\n",
       "      <td>0.325203</td>\n",
       "    </tr>\n",
       "    <tr>\n",
       "      <th>EX</th>\n",
       "      <td>0.636364</td>\n",
       "      <td>1.000000</td>\n",
       "      <td>0.466667</td>\n",
       "    </tr>\n",
       "    <tr>\n",
       "      <th>''</th>\n",
       "      <td>0.949045</td>\n",
       "      <td>0.903030</td>\n",
       "      <td>1.000000</td>\n",
       "    </tr>\n",
       "    <tr>\n",
       "      <th>WP</th>\n",
       "      <td>1.000000</td>\n",
       "      <td>1.000000</td>\n",
       "      <td>1.000000</td>\n",
       "    </tr>\n",
       "    <tr>\n",
       "      <th>:</th>\n",
       "      <td>1.000000</td>\n",
       "      <td>1.000000</td>\n",
       "      <td>1.000000</td>\n",
       "    </tr>\n",
       "    <tr>\n",
       "      <th>WDT</th>\n",
       "      <td>0.534884</td>\n",
       "      <td>1.000000</td>\n",
       "      <td>0.365079</td>\n",
       "    </tr>\n",
       "    <tr>\n",
       "      <th>WRB</th>\n",
       "      <td>0.983607</td>\n",
       "      <td>1.000000</td>\n",
       "      <td>0.967742</td>\n",
       "    </tr>\n",
       "    <tr>\n",
       "      <th>$</th>\n",
       "      <td>1.000000</td>\n",
       "      <td>1.000000</td>\n",
       "      <td>1.000000</td>\n",
       "    </tr>\n",
       "    <tr>\n",
       "      <th>LS</th>\n",
       "      <td>NaN</td>\n",
       "      <td>0.000000</td>\n",
       "      <td>NaN</td>\n",
       "    </tr>\n",
       "    <tr>\n",
       "      <th>NNPS</th>\n",
       "      <td>0.078431</td>\n",
       "      <td>0.068966</td>\n",
       "      <td>0.090909</td>\n",
       "    </tr>\n",
       "    <tr>\n",
       "      <th>WP$</th>\n",
       "      <td>1.000000</td>\n",
       "      <td>1.000000</td>\n",
       "      <td>1.000000</td>\n",
       "    </tr>\n",
       "    <tr>\n",
       "      <th>-LRB-</th>\n",
       "      <td>1.000000</td>\n",
       "      <td>1.000000</td>\n",
       "      <td>1.000000</td>\n",
       "    </tr>\n",
       "    <tr>\n",
       "      <th>-RRB-</th>\n",
       "      <td>1.000000</td>\n",
       "      <td>1.000000</td>\n",
       "      <td>1.000000</td>\n",
       "    </tr>\n",
       "    <tr>\n",
       "      <th>RBR</th>\n",
       "      <td>0.048780</td>\n",
       "      <td>0.500000</td>\n",
       "      <td>0.025641</td>\n",
       "    </tr>\n",
       "  </tbody>\n",
       "</table>\n",
       "</div>"
      ],
      "text/plain": [
       "              F1  Precision    Recall\n",
       "NNP     0.816052   0.966690  0.706031\n",
       ",       0.999450   1.000000  0.998901\n",
       "CD      0.969416   0.977570  0.961397\n",
       "NNS     0.921844   0.874525  0.974576\n",
       "JJ      0.764623   0.887079  0.671875\n",
       "MD      1.000000   1.000000  1.000000\n",
       "NN      0.772423   0.639873  0.974235\n",
       "DT      0.991970   0.993197  0.990746\n",
       "IN      0.955495   0.921727  0.991833\n",
       ".       1.000000   1.000000  1.000000\n",
       "VBZ     0.823529   1.000000  0.700000\n",
       "JJR     0.641026   0.515464  0.847458\n",
       "RB      0.804774   0.761290  0.853526\n",
       "CC      0.990676   0.990676  0.990676\n",
       "VBD     0.765186   0.919390  0.655280\n",
       "VBN     0.671202   0.614108  0.740000\n",
       "-NONE-  1.000000   1.000000  1.000000\n",
       "TO      0.998736   0.997475  1.000000\n",
       "PRP     0.976540   0.994030  0.959654\n",
       "VBG     0.711207   0.877660  0.597826\n",
       "PRP$    0.962751   0.928177  1.000000\n",
       "JJS     0.867470   0.857143  0.878049\n",
       "VB      0.356913   0.613260  0.251701\n",
       "POS     0.870712   0.833333  0.911602\n",
       "``      1.000000   1.000000  1.000000\n",
       "VBP     0.490798   1.000000  0.325203\n",
       "EX      0.636364   1.000000  0.466667\n",
       "''      0.949045   0.903030  1.000000\n",
       "WP      1.000000   1.000000  1.000000\n",
       ":       1.000000   1.000000  1.000000\n",
       "WDT     0.534884   1.000000  0.365079\n",
       "WRB     0.983607   1.000000  0.967742\n",
       "$       1.000000   1.000000  1.000000\n",
       "LS           NaN   0.000000       NaN\n",
       "NNPS    0.078431   0.068966  0.090909\n",
       "WP$     1.000000   1.000000  1.000000\n",
       "-LRB-   1.000000   1.000000  1.000000\n",
       "-RRB-   1.000000   1.000000  1.000000\n",
       "RBR     0.048780   0.500000  0.025641"
      ]
     },
     "execution_count": 18,
     "metadata": {},
     "output_type": "execute_result"
    }
   ],
   "source": [
    "# again using the perception tagger as an example\n",
    "# precision, recall, f1 scores for each individual class\n",
    "print('perceptron_tagger')\n",
    "get_performance_dataframe(perceptron_tagger, test_tag_list)"
   ]
  },
  {
   "cell_type": "markdown",
   "metadata": {
    "colab_type": "text",
    "id": "XyMNnD98d7EE"
   },
   "source": [
    "## spaCy tagger: pretrained ConvNet\n",
    "\n",
    "Loading up `en_core_web_sm` and `en_core_web_md` models for spaCy to use for the POS tagger. \n",
    "\n",
    "From documentation about these models:\n",
    "\n",
    "> English multi-task CNN trained on OntoNotes, with GloVe vectors trained on Common Crawl. Assigns word vectors, context-specific token vectors, POS tags, dependency parse and named entities.\n",
    "\n",
    "> OntoNotes Release 5.0 is the final release of the OntoNotes project, a collaborative effort between BBN Technologies, the University of Colorado, the University of Pennsylvania and the University of Southern Californias Information Sciences Institute. The goal of the project was to annotate a large corpus comprising various genres of text (news, conversational telephone speech, weblogs, usenet newsgroups, broadcast, talk shows) in three languages (English, Chinese, and Arabic) with structural information (syntax and predicate argument structure) and shallow semantics (word sense linked to an ontology and coreference).\n",
    "\n",
    "> Common Crawl's web archive consists of petabytes of data collected since 2011. It completes crawls generally every month."
   ]
  },
  {
   "cell_type": "code",
   "execution_count": 19,
   "metadata": {
    "colab": {},
    "colab_type": "code",
    "id": "NPVB8uT8d7EF"
   },
   "outputs": [],
   "source": [
    "# small model\n",
    "sm_nlp = spacy.load('en_core_web_sm')\n",
    "# medium model\n",
    "md_nlp = spacy.load('en_core_web_md')"
   ]
  },
  {
   "cell_type": "code",
   "execution_count": 20,
   "metadata": {
    "colab": {},
    "colab_type": "code",
    "id": "9kbyo-o1d7EI",
    "outputId": "a3fd1606-ed0e-4bb8-d8c7-76854683fc11"
   },
   "outputs": [
    {
     "data": {
      "text/plain": [
       "NN     2894\n",
       "NNP    2117\n",
       "IN     2109\n",
       "DT     1612\n",
       "NFP    1384\n",
       "NNS    1203\n",
       "JJ     1164\n",
       ",       912\n",
       ".       807\n",
       "CD      691\n",
       "dtype: int64"
      ]
     },
     "execution_count": 20,
     "metadata": {},
     "output_type": "execute_result"
    }
   ],
   "source": [
    "# inspecting top tags using small model\n",
    "sm_doc = sm_nlp(' '.join([i[0] for i in test_tag_list]))\n",
    "pd.Series(Counter([token.tag_ for token in sm_doc])).sort_values(ascending=False).head(10)"
   ]
  },
  {
   "cell_type": "markdown",
   "metadata": {
    "colab_type": "text",
    "id": "LJ7lvaRtd7ER"
   },
   "source": [
    "spaCy's pipeline takes care of tokenisation and parsing. However, the results of its tokenisation are different from that of NLTK's, so to arrive at an accuracy figure we can't do a straightforward plug-in to the evaluation functions written for NLTK's taggers."
   ]
  },
  {
   "cell_type": "code",
   "execution_count": 21,
   "metadata": {
    "colab": {},
    "colab_type": "code",
    "id": "Fr_yZMNKd7ES",
    "outputId": "539a9cfb-1007-4543-ce55-d2d6443dbb1e"
   },
   "outputs": [
    {
     "name": "stdout",
     "output_type": "stream",
     "text": [
      "Number of elements from NLTK tokenisation: 19530\n",
      "Number of elements from spaCy: 20876\n"
     ]
    }
   ],
   "source": [
    "print('Number of elements from NLTK tokenisation:', len(test_tag_list)) \n",
    "print('Number of elements from spaCy:', len([(token.text, token.tag_) for token in sm_doc]))"
   ]
  },
  {
   "cell_type": "code",
   "execution_count": 22,
   "metadata": {
    "colab": {},
    "colab_type": "code",
    "id": "e4auViF5d7Eh"
   },
   "outputs": [],
   "source": [
    "spacy_test_sentences = get_spacy_test_sentences(test_sentences)"
   ]
  },
  {
   "cell_type": "markdown",
   "metadata": {
    "colab_type": "text",
    "id": "TskzYTy4d7En"
   },
   "source": [
    "### Accuracy for spaCy tagger"
   ]
  },
  {
   "cell_type": "code",
   "execution_count": 23,
   "metadata": {
    "colab": {},
    "colab_type": "code",
    "id": "thCAmdIId7Eo",
    "outputId": "78d72f9d-f5ef-4ebc-f490-136fcfe76a3d"
   },
   "outputs": [
    {
     "name": "stdout",
     "output_type": "stream",
     "text": [
      "small model accuracy: 89.5289298515105\n",
      "medium model accuracy: 89.42140296979007\n"
     ]
    }
   ],
   "source": [
    "print(\"small model accuracy:\", get_spacy_accuracy(sm_nlp, spacy_test_sentences))\n",
    "print(\"medium model accuracy:\", get_spacy_accuracy(md_nlp, spacy_test_sentences))"
   ]
  },
  {
   "cell_type": "markdown",
   "metadata": {
    "colab_type": "text",
    "id": "6BwaHtdVd7Ew"
   },
   "source": [
    "At first glance, it looks as though the accuracy score for spaCy's pretrained small and medium ConvNet English POS tagger models are both poorer than the PerceptronTagger of NLTK when evaluated on the same test sentences.\n",
    "\n",
    "**However** this should not immediately be interpreted as the spaCy tagger having poorer performance, because there is a difference in the set of Treebank tags by NLTK and spaCy:"
   ]
  },
  {
   "cell_type": "code",
   "execution_count": 24,
   "metadata": {
    "colab": {},
    "colab_type": "code",
    "id": "SzuEDabjd7Ey",
    "outputId": "ad591cbf-0a80-47f7-c5aa-bd8058a079bb"
   },
   "outputs": [
    {
     "data": {
      "text/plain": [
       "{'#', '-NONE-', '-RRB-', 'LS'}"
      ]
     },
     "execution_count": 24,
     "metadata": {},
     "output_type": "execute_result"
    }
   ],
   "source": [
    "# set difference of NLTK Treebank tags and spaCy Treebank tags\n",
    "set(tag_list) - set([token.tag_ for token in sm_doc])"
   ]
  },
  {
   "cell_type": "markdown",
   "metadata": {
    "colab_type": "text",
    "id": "DIIyjb-qd7E5"
   },
   "source": [
    "For this task, since the gold reference of tags is according to NLTK, spaCy's tagging will necessarily be judged 'incorrect' whenever these 4 tags are applied. Therefore no conclusion should be drawn as yet to the relative performances of NLTK and spaCy's taggers; more work needs to be done to ensure any comparison is made on an even footing."
   ]
  },
  {
   "cell_type": "markdown",
   "metadata": {
    "colab_type": "text",
    "id": "ccvLT8Tpd7E6"
   },
   "source": [
    "## Bidirectional LSTM\n",
    "\n",
    "No transfer learning applied for now. A logical next step improve the model would be to put in a pretrained Elmo embedding layer which would reduce the number of parameters that need to be trained, and only a small number left trainable for fine tuning. Some other transfer learning method using Bert / ULMFiT would also be viable."
   ]
  },
  {
   "cell_type": "markdown",
   "metadata": {
    "colab_type": "text",
    "id": "UnU3V0WBd7E8"
   },
   "source": [
    "###  Data Munging"
   ]
  },
  {
   "cell_type": "code",
   "execution_count": 25,
   "metadata": {
    "colab": {},
    "colab_type": "code",
    "id": "dFZbOuNtd7E-"
   },
   "outputs": [],
   "source": [
    "# tagged_sentences = treebank.tagged_sents()\n",
    "sentences, sentence_tags = flatten_tagged_sentences(tagged_sentences)\n",
    "# 80:20 split\n",
    "train_sentences, test_sentences, train_tags, test_tags = \\\n",
    "                train_test_split(sentences, sentence_tags, test_size=0.2, random_state=42)"
   ]
  },
  {
   "cell_type": "code",
   "execution_count": 26,
   "metadata": {
    "colab": {},
    "colab_type": "code",
    "id": "7AstzFzFd7FC"
   },
   "outputs": [],
   "source": [
    "# convert to integers\n",
    "word2index = get_word2index(train_sentences)\n",
    "tag2index = get_tag2index(train_tags)\n",
    "train_sentences_X = sentence2int(train_sentences, word2index)\n",
    "test_sentences_X = sentence2int(test_sentences, word2index)\n",
    "train_tags_y = tag2int(train_tags, tag2index)\n",
    "test_tags_y = tag2int(test_tags, tag2index)"
   ]
  },
  {
   "cell_type": "code",
   "execution_count": 27,
   "metadata": {
    "colab": {},
    "colab_type": "code",
    "id": "bHHj9X0id7FG"
   },
   "outputs": [],
   "source": [
    "# Pad sequences to maximum length of training sentences to give fixed size\n",
    "MAX_LENGTH = len(max(train_sentences_X, key=len))\n",
    "train_sentences_X = pad_sequences(train_sentences_X, maxlen=MAX_LENGTH, padding='post')\n",
    "test_sentences_X = pad_sequences(test_sentences_X, maxlen=MAX_LENGTH, padding='post')\n",
    "train_tags_y = pad_sequences(train_tags_y, maxlen=MAX_LENGTH, padding='post')\n",
    "test_tags_y = pad_sequences(test_tags_y, maxlen=MAX_LENGTH, padding='post')"
   ]
  },
  {
   "cell_type": "code",
   "execution_count": 28,
   "metadata": {
    "colab": {},
    "colab_type": "code",
    "id": "EpLz4iXNd7FL"
   },
   "outputs": [],
   "source": [
    "train_tags_y_categorical = one_hot_encoding(train_tags_y, len(tag2index))\n",
    "test_tags_y_categorical = one_hot_encoding(test_tags_y, len(tag2index))"
   ]
  },
  {
   "cell_type": "markdown",
   "metadata": {
    "colab_type": "text",
    "id": "lY1Vnnend7FP"
   },
   "source": [
    "### Model building\n",
    "\n",
    "Let's build a bidirectional LSTM, no hyperparameter tuning and no transfer learning.\n",
    "\n",
    "Can you spot if this model is appropriate for the task at hand?"
   ]
  },
  {
   "cell_type": "code",
   "execution_count": 29,
   "metadata": {
    "colab": {},
    "colab_type": "code",
    "id": "4nXePJNDd7FR"
   },
   "outputs": [],
   "source": [
    "def build_model():\n",
    "    model = Sequential()\n",
    "    model.add(InputLayer(input_shape=(MAX_LENGTH, )))\n",
    "    model.add(Embedding(len(word2index), 64))\n",
    "    model.add(Bidirectional(LSTM(128, return_sequences=True)))\n",
    "    model.add(TimeDistributed(Dense(len(tag2index))))\n",
    "    model.add(Activation('softmax'))\n",
    "\n",
    "    model.compile(loss='categorical_crossentropy',\n",
    "                  optimizer=Adam(lr=0.001),\n",
    "                  metrics=['accuracy'])\n",
    "\n",
    "    model.summary()\n",
    "    return model"
   ]
  },
  {
   "cell_type": "code",
   "execution_count": 16,
   "metadata": {
    "colab": {
     "base_uri": "https://localhost:8080/",
     "height": 1027
    },
    "colab_type": "code",
    "id": "-OFQZlGQjXKM",
    "outputId": "49cc5492-d05c-4dba-c3c8-0738a2fac9d2"
   },
   "outputs": [
    {
     "name": "stdout",
     "output_type": "stream",
     "text": [
      "_________________________________________________________________\n",
      "Layer (type)                 Output Shape              Param #   \n",
      "=================================================================\n",
      "embedding_3 (Embedding)      (None, 271, 64)           648960    \n",
      "_________________________________________________________________\n",
      "bidirectional_3 (Bidirection (None, 271, 256)          197632    \n",
      "_________________________________________________________________\n",
      "time_distributed_3 (TimeDist (None, 271, 47)           12079     \n",
      "_________________________________________________________________\n",
      "activation_3 (Activation)    (None, 271, 47)           0         \n",
      "=================================================================\n",
      "Total params: 858,671\n",
      "Trainable params: 858,671\n",
      "Non-trainable params: 0\n",
      "_________________________________________________________________\n",
      "Train on 2504 samples, validate on 627 samples\n",
      "Epoch 1/20\n",
      "2504/2504 [==============================] - 44s 18ms/step - loss: 1.1551 - acc: 0.8829 - val_loss: 0.3612 - val_acc: 0.9059\n",
      "Epoch 2/20\n",
      "2504/2504 [==============================] - 43s 17ms/step - loss: 0.3296 - acc: 0.9059 - val_loss: 0.3175 - val_acc: 0.9066\n",
      "Epoch 3/20\n",
      "2504/2504 [==============================] - 43s 17ms/step - loss: 0.3063 - acc: 0.9147 - val_loss: 0.3011 - val_acc: 0.9167\n",
      "Epoch 4/20\n",
      "2504/2504 [==============================] - 41s 16ms/step - loss: 0.2930 - acc: 0.9172 - val_loss: 0.2910 - val_acc: 0.9174\n",
      "Epoch 5/20\n",
      "2504/2504 [==============================] - 42s 17ms/step - loss: 0.2836 - acc: 0.9181 - val_loss: 0.2835 - val_acc: 0.9196\n",
      "Epoch 6/20\n",
      "2504/2504 [==============================] - 43s 17ms/step - loss: 0.2767 - acc: 0.9212 - val_loss: 0.2770 - val_acc: 0.9218\n",
      "Epoch 7/20\n",
      "2504/2504 [==============================] - 44s 17ms/step - loss: 0.2722 - acc: 0.9260 - val_loss: 0.2715 - val_acc: 0.9292\n",
      "Epoch 8/20\n",
      "2504/2504 [==============================] - 41s 16ms/step - loss: 0.2651 - acc: 0.9313 - val_loss: 0.2642 - val_acc: 0.9368\n",
      "Epoch 9/20\n",
      "2504/2504 [==============================] - 41s 16ms/step - loss: 0.2560 - acc: 0.9373 - val_loss: 0.2525 - val_acc: 0.9390\n",
      "Epoch 10/20\n",
      "2504/2504 [==============================] - 41s 16ms/step - loss: 0.2407 - acc: 0.9392 - val_loss: 0.2334 - val_acc: 0.9410\n",
      "Epoch 11/20\n",
      "2504/2504 [==============================] - 41s 16ms/step - loss: 0.2181 - acc: 0.9444 - val_loss: 0.2084 - val_acc: 0.9456\n",
      "Epoch 12/20\n",
      "2504/2504 [==============================] - 41s 16ms/step - loss: 0.1920 - acc: 0.9512 - val_loss: 0.1832 - val_acc: 0.9526\n",
      "Epoch 13/20\n",
      "2504/2504 [==============================] - 41s 16ms/step - loss: 0.1665 - acc: 0.9561 - val_loss: 0.1594 - val_acc: 0.9559\n",
      "Epoch 14/20\n",
      "2504/2504 [==============================] - 43s 17ms/step - loss: 0.1413 - acc: 0.9616 - val_loss: 0.1365 - val_acc: 0.9627\n",
      "Epoch 15/20\n",
      "2504/2504 [==============================] - 42s 17ms/step - loss: 0.1172 - acc: 0.9697 - val_loss: 0.1151 - val_acc: 0.9713\n",
      "Epoch 16/20\n",
      "2504/2504 [==============================] - 41s 16ms/step - loss: 0.0948 - acc: 0.9780 - val_loss: 0.0963 - val_acc: 0.9771\n",
      "Epoch 17/20\n",
      "2504/2504 [==============================] - 41s 17ms/step - loss: 0.0761 - acc: 0.9837 - val_loss: 0.0811 - val_acc: 0.9815\n",
      "Epoch 18/20\n",
      "2504/2504 [==============================] - 41s 16ms/step - loss: 0.0607 - acc: 0.9879 - val_loss: 0.0693 - val_acc: 0.9842\n",
      "Epoch 19/20\n",
      "2504/2504 [==============================] - 42s 17ms/step - loss: 0.0487 - acc: 0.9906 - val_loss: 0.0602 - val_acc: 0.9864\n",
      "Epoch 20/20\n",
      "2504/2504 [==============================] - 42s 17ms/step - loss: 0.0396 - acc: 0.9925 - val_loss: 0.0539 - val_acc: 0.9875\n"
     ]
    },
    {
     "data": {
      "text/plain": [
       "<keras.callbacks.History at 0x7fdf5df51cd0>"
      ]
     },
     "execution_count": 16,
     "metadata": {
      "tags": []
     },
     "output_type": "execute_result"
    }
   ],
   "source": [
    "model = build_model()\n",
    "model.fit(train_sentences_X, \n",
    "          train_tags_y_categorical,\n",
    "          batch_size=64, epochs=20, validation_split=0.2)"
   ]
  },
  {
   "cell_type": "code",
   "execution_count": 0,
   "metadata": {
    "colab": {},
    "colab_type": "code",
    "id": "KmlFgKbCj1FJ"
   },
   "outputs": [],
   "source": [
    "# model.save('colab_trained_lstm.h5')"
   ]
  },
  {
   "cell_type": "code",
   "execution_count": 18,
   "metadata": {
    "colab": {
     "base_uri": "https://localhost:8080/",
     "height": 52
    },
    "colab_type": "code",
    "id": "Odi10Lnvlx5R",
    "outputId": "d8997ae8-a338-4c1f-b825-3a22416871f9"
   },
   "outputs": [
    {
     "name": "stdout",
     "output_type": "stream",
     "text": [
      "783/783 [==============================] - 9s 12ms/step\n",
      "acc: 0.987850676475\n"
     ]
    }
   ],
   "source": [
    "scores = model.evaluate(test_sentences_X, \n",
    "                        test_tags_y_categorical)\n",
    "print(\"{}: {}\".format(model.metrics_names[1], scores[1]))"
   ]
  },
  {
   "cell_type": "markdown",
   "metadata": {
    "colab": {},
    "colab_type": "code",
    "id": "cN2aFbosl323"
   },
   "source": [
    "### Discussion\n",
    "\n",
    "The above model was trained on a GPU instance with Google Colab. The exceptionally high accuracy score beyond the reported state of the art would suggest overfitting, even though the performance evaluation is done on an unseen set.\n",
    "\n",
    "This can readily be explained by the size of the dataset:\n",
    "\n",
    "- Tagged sentences: 3914\n",
    "\n",
    "- Tagged words: 100676\n",
    "\n",
    "which is very small, versus the massive learning capacity of the bidirectional LSTM with 197632 parameters.\n",
    "\n",
    "As a general point, some measures can be taken to minimise the chances of overfitting:\n",
    "\n",
    "- specifying a smaller network to reduce capacity of learning\n",
    "\n",
    "- weight regularisation\n",
    "\n",
    "- dropout\n",
    "\n",
    "- early stopping"
   ]
  }
 ],
 "metadata": {
  "accelerator": "GPU",
  "colab": {
   "name": "ML Engineer exercise.ipynb",
   "provenance": [],
   "toc_visible": true,
   "version": "0.3.2"
  },
  "kernelspec": {
   "display_name": "Python [conda env:streetbees]",
   "language": "python",
   "name": "conda-env-streetbees-py"
  },
  "language_info": {
   "codemirror_mode": {
    "name": "ipython",
    "version": 3
   },
   "file_extension": ".py",
   "mimetype": "text/x-python",
   "name": "python",
   "nbconvert_exporter": "python",
   "pygments_lexer": "ipython3",
   "version": "3.6.8"
  }
 },
 "nbformat": 4,
 "nbformat_minor": 1
}
